{
 "cells": [
  {
   "cell_type": "markdown",
   "metadata": {
    "id": "dR1MW7WlqAfl"
   },
   "source": [
    "# Homework 5\n",
    "\n",
    "Daniil Sherki\n",
    "\n",
    "MSc-1, Petroleum Engineering\n",
    "\n"
   ]
  },
  {
   "cell_type": "markdown",
   "metadata": {
    "id": "lCC0276MqM4F"
   },
   "source": [
    "# Question 1: Min volume ellipsoid (2 points)\n",
    "\n",
    "Consider\n",
    "\n",
    "$$ \\varepsilon_0 = \\{ \\mathbf{x}:\\mathbf{x}^{\\top} P_0^{-1} \\mathbf{x} \\leq 1\\}$$\n",
    "\n",
    "$$\n",
    "P_0 = \n",
    "\\begin{bmatrix}\n",
    "    1 & 0 \\\\\n",
    "    0 & 4 \\\\\n",
    "\\end{bmatrix}\n",
    "$$\n",
    "\n",
    "Construct (give the formula and plot) the min volume ellipsoid that covers: $\\varepsilon_0 \\cap \\{ \\mathbf{x}: W \\mathbf{x} \\leq 0\\} $ for:\n",
    "*   $W = [1;0]$\n",
    "*   $W = [\\frac{1}{2}; -\\frac{1}{2}]$\n",
    "\n",
    "Provide $\\frac{vol(\\varepsilon)}{vol(\\varepsilon_0)}$ for both cases.\n",
    "\n"
   ]
  },
  {
   "cell_type": "markdown",
   "metadata": {
    "id": "kuMLf7md4rcb"
   },
   "source": [
    "## Solution"
   ]
  },
  {
   "cell_type": "markdown",
   "metadata": {},
   "source": [
    "### Formula's part\n",
    "\n",
    "$$\n",
    "\\min_{P,c} Vol(\\varepsilon) \\\\\n",
    "s.t. \\\\\n",
    "(x_i-c)^T P (x_i-c) \\leq 1, \\quad \\forall i=1,\\cdots N \\\\\n",
    "P \\succ 0\n",
    "$$\n",
    "\n",
    "\n",
    "Let's rewrite the formula of our ellipsoid\n",
    "\n",
    "$$\n",
    "(x-c)^T P (x-c) = (x-c)^TAA(x-c) = (A(x-c))^T(A(x-c)) = (Ax - Ac)^T (Ax-Ac) = (Ax+b)^T(Ax+b) = ||Ax+b||_2^2 \\leq 1\n",
    "% u^T u = ||u||_2^2 \\leq 1\n",
    "$$\n",
    "\n",
    "Here $b = -Ac$; denote $u=Ax+b$; $B = \\{u \\, |\\, ||u||_2^2 \\leq 1  \\}$ - a unit ball\n",
    "\n",
    "If $x \\in \\varepsilon$ then $||Ax+b||^2 \\leq 1$ holds\n",
    "\n",
    "\n",
    "$$\n",
    "u = Ax + b \\Rightarrow\n",
    "x = A^{-1}u - A^{-1}b = A^{-1}u + c\n",
    "$$\n",
    "\n",
    "If $u$ is a point of a unit ball B, $x$ is a point of an epllipsoid $\\varepsilon$, then $A$ is an affine mapping from $\\varepsilon$ to $B$, and $A^{-1}$ is a reverse mapping (from $B$ to $\\varepsilon$) \n",
    "\n",
    "Then, \n",
    "\n",
    "$$\n",
    "Vol(\\varepsilon) \\propto \\det(A^{-1}) \\cdot Vol(B) = \\det(A^{-1})\n",
    "$$\n",
    "\n",
    "Reference: Ellipsoid seminar.ipynb"
   ]
  },
  {
   "cell_type": "code",
   "execution_count": 1,
   "metadata": {},
   "outputs": [],
   "source": [
    "import numpy as np\n",
    "import matplotlib.pyplot as plt\n",
    "\n",
    "P = np.array([[1, 0], [0, 4]]).astype('float64')\n",
    "w1 = np.reshape(np.array([1, 0]).astype('float64'), (2, 1))\n",
    "w2 = np.reshape(np.array([0.5, -0.5]).astype('float64'), (2, 1))\n",
    "x = np.reshape(np.array([0, 0]).astype('float64'), (2, 1))"
   ]
  },
  {
   "cell_type": "code",
   "execution_count": 2,
   "metadata": {},
   "outputs": [],
   "source": [
    "def elips_method_step(x_c, P, w, n=2):\n",
    "    x_c -= 1/(n+1) * (P @ w)/np.sqrt(w.T @ P @ w)\n",
    "    P = n**2/(n**2 - 1) * (P - 2/(n+1) * (P @ w @ w.T @ P)/(w.T @ P @ w))\n",
    "    return x_c, P"
   ]
  },
  {
   "cell_type": "code",
   "execution_count": 3,
   "metadata": {},
   "outputs": [],
   "source": [
    "# recall that ϵ is ||Ax+b||^2 <= 1\n",
    "def elips_vis(A, b, M=100, labels=['elips', 'center'], modes=['g--', 'rd']):\n",
    "    c = np.linalg.inv(A) @ b\n",
    "    t = np.linspace(0, 2*np.pi, M)\n",
    "    u = np.array([np.sin(t), np.cos(t)]).T  # unit ball\n",
    "    ELP = np.array([np.linalg.inv(A) @ u[i, :] - c for i in range(M)])  # ϵ\n",
    "    plt.plot(*ELP.T, modes[0], label=labels[0])\n",
    "    plt.plot(*-c.T, modes[1],  label=labels[1])\n",
    "    \n",
    "def vol_eps(A):\n",
    "    A_inv = np.linalg.inv(A)\n",
    "    return np.linalg.det(A_inv)\n",
    "\n",
    "\n",
    "def compare_elips_plot(w, title='elips w1', shape=(3, 6), labels=['e1', 'c1'], modes=['b--', 'r*']):\n",
    "    plt.figure(figsize=shape)\n",
    "    L = np.linalg.cholesky(np.linalg.inv(P))\n",
    "    vol0 = vol_eps(L)\n",
    "    elips_vis(L, np.array([0, 0]))\n",
    "    x1, P1 = elips_method_step(x, P, w)\n",
    "    L1 = np.linalg.cholesky((np.linalg.inv(P1)))\n",
    "    vol = vol_eps(L1)\n",
    "    b1 = np.reshape(- L1 @ x1, (2,))\n",
    "    elips_vis(L1, b1,\n",
    "              labels=labels,\n",
    "              modes=modes)\n",
    "    plt.xlabel('$x_1$')\n",
    "    plt.ylabel('$x_2$')\n",
    "    plt.title(title)\n",
    "    plt.grid(True)\n",
    "    plt.legend(loc='upper right')\n",
    "    plt.show()\n",
    "    return vol0, vol"
   ]
  },
  {
   "cell_type": "code",
   "execution_count": 4,
   "metadata": {},
   "outputs": [
    {
     "data": {
      "image/png": "[encoded data removed]",
      "text/plain": [
       "<Figure size 400x600 with 1 Axes>"
      ]
     },
     "metadata": {},
     "output_type": "display_data"
    }
   ],
   "source": [
    "vol0, vol1 = compare_elips_plot(w1, 'Elips w1', shape=(4, 6))"
   ]
  },
  {
   "cell_type": "code",
   "execution_count": 5,
   "metadata": {},
   "outputs": [
    {
     "data": {
      "image/png": "[encoded data removed]",
      "text/plain": [
       "<Figure size 450x500 with 1 Axes>"
      ]
     },
     "metadata": {},
     "output_type": "display_data"
    }
   ],
   "source": [
    "_, vol2 = compare_elips_plot(w2, 'Elips w2', shape=(4.5, 5))"
   ]
  },
  {
   "cell_type": "code",
   "execution_count": 6,
   "metadata": {},
   "outputs": [
    {
     "name": "stdout",
     "output_type": "stream",
     "text": [
      "For w1 vol(e)/vol(e0) =  0.769800358919501\n",
      "For w2 vol(e)/vol(e0) =  0.7698003589195009\n"
     ]
    }
   ],
   "source": [
    "print('For w1 vol(e)/vol(e0) = ', vol1/vol0)\n",
    "print('For w2 vol(e)/vol(e0) = ', vol2/vol0)"
   ]
  },
  {
   "cell_type": "markdown",
   "metadata": {
    "id": "cMwP0kMmv7CT"
   },
   "source": [
    "# Question 2: ADMM for LASSO (3 points)\n",
    "\n",
    "Solve the following problem:\n",
    "\n",
    "$$ \\min_x \\frac{1}{2} \\Vert Ax - b \\Vert^2_2 + \\lambda \\Vert x \\Vert_1 $$\n",
    "\n",
    "$$ A: m \\times n, m < n $$\n",
    "\n",
    "$$ x: n \\times 1 $$\n",
    "\n",
    "\n",
    "Define the problem parameters:\n",
    "\n",
    "*   $n = 250$, $m = 75$, $A_{ij} \\sim \\mathcal{N}(0,1)$, normalize columns of $A: a \\rightarrow \\frac{a}{\\Vert a \\Vert_2}$\n",
    "* generate $x^*$ with 5 non-zero entries $\\sim \\mathcal{N}(0,1)$\n",
    "* $b = A x^* + \\xi, \\\n",
    "xi \\sim \\mathcal{N}(0, 10^{-2}I)$\n",
    "* $\\lambda = 0.1 \\Vert A^{\\top} b\\Vert_{\\infty}$, for $\\lambda > \\Vert A^{\\top}b \\Vert_{\\infty} $ you'll get $x = 0$ - because of too large penalization term $\\lambda \\Vert x \\Vert_1$\n",
    "\n",
    "Run ADMM (use $\\rho = 1, r^k = x^k −z^k, \\Vert r^k \\Vert_2 \\leq 10^{−4}$ as a stopping criterion) and any\n",
    "other (e.g. first-order) unconstrained optimization method. Compare convergence and CPU\n",
    "time.\n",
    "\n"
   ]
  },
  {
   "cell_type": "markdown",
   "metadata": {},
   "source": [
    "## Solution"
   ]
  },
  {
   "cell_type": "markdown",
   "metadata": {},
   "source": [
    "### 0. General manipulations"
   ]
  },
  {
   "cell_type": "code",
   "execution_count": 7,
   "metadata": {
    "id": "Xf6HGKqwIRrf"
   },
   "outputs": [],
   "source": [
    "import numpy as np\n",
    "import random\n",
    "import pandas as pd\n",
    "\n",
    "n, m = 250, 75\n",
    "A = np.random.randn(m, n)\n",
    "for i in range(A.shape[1]):\n",
    "    norm = np.linalg.norm(A[:, i])\n",
    "    for j in range(A.shape[0]):\n",
    "        A[j, i] = A[j, i]/norm\n",
    "x_star = np.zeros((n, 1))\n",
    "\n",
    "for i in range(5):\n",
    "    pos = random.randint(0, n-1)\n",
    "    x_star[pos, 0] = np.random.randn(1)\n",
    "\n",
    "xi = np.random.randn(m, 1)/100\n",
    "b = A@x_star + xi\n",
    "lmbd = 0.1 * np.linalg.norm(A.T @ b, np.inf)\n",
    "\n",
    "\n",
    "def task2_func(x):\n",
    "    return 0.5*np.power(np.linalg.norm(np.dot(A, x) - b), 2) + lmbd*np.linalg.norm(x, 1)"
   ]
  },
  {
   "cell_type": "markdown",
   "metadata": {},
   "source": [
    "### 1. ADMM for LASSO implementation"
   ]
  },
  {
   "cell_type": "code",
   "execution_count": 8,
   "metadata": {
    "id": "rUYXneNBBMm1"
   },
   "outputs": [],
   "source": [
    "def task2_func_z(x, z):\n",
    "    '''\n",
    "    :param x: numpy.ndarray;\n",
    "    :param z: numpy.ndarray;\n",
    "    :return: float.\n",
    "    '''\n",
    "    return 0.5*np.power(np.linalg.norm(np.dot(A, x) - b), 2) + lmbd*np.linalg.norm(z, 1)\n",
    "\n",
    "\n",
    "def soft_threshold(a, rho):\n",
    "    '''\n",
    "    :param x: numpy.ndarray;\n",
    "    :return: numpy.ndarray.\n",
    "    '''\n",
    "    cond = lmbd/rho\n",
    "    for i in range(len(a)):\n",
    "        if a[i] > cond:\n",
    "            a[i] -= cond\n",
    "        if a[i] < -1*cond:\n",
    "            a[i] += cond\n",
    "        else:\n",
    "            a[i] = 0\n",
    "    return a\n",
    "\n",
    "\n",
    "def admm_for_lasso(x0, tol, rho=1, func=task2_func_z):\n",
    "    '''\n",
    "    :param x: numpy.ndarray;\n",
    "    :param tol: flaot;\n",
    "    :param rho: float;\n",
    "    :return: pd.DataFrame, list.\n",
    "    '''\n",
    "    x, z, u = x0, np.zeros_like(x0), np.zeros_like(x0)\n",
    "    k = 0\n",
    "    x_arr, f_arr, k_arr = [x0], [func(x, z)], [k]\n",
    "\n",
    "    while np.linalg.norm(x - z) > tol:\n",
    "        k += 1\n",
    "        x = np.dot(np.linalg.inv(np.dot(A.T, A)+rho*np.eye(n, n)),\n",
    "                   (np.dot(A.T, b)+rho*(z - u)))\n",
    "        z = soft_threshold(x + u, rho)\n",
    "        u += x - z\n",
    "\n",
    "        x_arr.append(x)\n",
    "        f_arr.append(func(x, z))\n",
    "        k_arr.append(k)\n",
    "\n",
    "    df = pd.DataFrame({'step': k_arr, 'f': f_arr})\n",
    "    return df, x_arr"
   ]
  },
  {
   "cell_type": "code",
   "execution_count": 9,
   "metadata": {},
   "outputs": [
    {
     "data": {
      "image/png": "[encoded data removed]",
      "text/plain": [
       "<Figure size 640x480 with 1 Axes>"
      ]
     },
     "metadata": {},
     "output_type": "display_data"
    },
    {
     "name": "stdout",
     "output_type": "stream",
     "text": [
      "Performance time is 0.399031833 seconds.\n",
      "||x*|| = 1.1732209802578966, f* = 0.24467659395022595\n"
     ]
    }
   ],
   "source": [
    "import time\n",
    "import matplotlib.pyplot as plt\n",
    "\n",
    "t1 = time.perf_counter()\n",
    "# df, x_arr = admm_for_lasso(np.ones((n,1))/3, 1e-4)\n",
    "df, x_arr = admm_for_lasso(x_star, 1e-4)\n",
    "t2 = time.perf_counter() - t1\n",
    "\n",
    "plt.plot(df.step, df.f)\n",
    "plt.xlabel(r'step')\n",
    "plt.ylabel(r'f(x)')\n",
    "plt.title('ADMM for Lasso implemantation')\n",
    "plt.yscale('log')\n",
    "plt.show()\n",
    "\n",
    "print(f'Performance time is {t2} seconds.')\n",
    "print(fr'||x*|| = {np.linalg.norm(x_arr[-1])}, f* = {df.f.iloc[-1]}')"
   ]
  },
  {
   "cell_type": "code",
   "execution_count": 10,
   "metadata": {},
   "outputs": [
    {
     "data": {
      "text/plain": [
       "0.08548904197987696"
      ]
     },
     "execution_count": 10,
     "metadata": {},
     "output_type": "execute_result"
    }
   ],
   "source": [
    "0.5*np.power(np.linalg.norm(np.dot(A, np.array(x_arr[-1])) - b), 2)"
   ]
  },
  {
   "cell_type": "markdown",
   "metadata": {},
   "source": [
    "### 2. Unconstrained optimization first-order method: Gradient Descent"
   ]
  },
  {
   "cell_type": "markdown",
   "metadata": {
    "id": "nuIpqbWDYTWk"
   },
   "source": [
    "We can find the gradient of this function by taking the partial derivative with respect to each component of $x$. Let $f(x) = \\frac{1}{2} \\Vert Ax - b \\Vert^2_2 + \\lambda \\Vert x \\Vert_1$, then\n",
    "\n",
    "\\begin{align*}\n",
    "\\frac{\\partial f}{\\partial x_i} &= \\frac{\\partial}{\\partial x_i} \\left(\\frac{1}{2} \\Vert Ax - b \\Vert^2_2\\right) + \\frac{\\partial}{\\partial x_i} \\left(\\lambda \\Vert x \\Vert_1\\right) \\\\\n",
    "&= \\sum_{j=1}^n (Ax-b)_j \\frac{\\partial}{\\partial x_i} (A_{j,i}x_i) + \\lambda \\frac{\\partial}{\\partial x_i} |x_i| \\\\\n",
    "&= \\sum_{j=1}^n (Ax-b)_j A_{j,i} + \\lambda \\text{sign}(x_i),\n",
    "\\end{align*}\n",
    "\n",
    "where $\\text{sign}(x_i)$ is the sign of $x_i$. Therefore, the gradient of $f(x)$ is\n",
    "\n",
    "$$\n",
    "\\nabla f(x) = A^T(Ax-b) + \\lambda \\text{sign}(x).\n",
    "$$\n",
    "\n"
   ]
  },
  {
   "cell_type": "code",
   "execution_count": 11,
   "metadata": {
    "colab": {
     "base_uri": "https://localhost:8080/"
    },
    "id": "8Bs79qHZdCxV",
    "outputId": "46151e37-fac8-4372-9b98-0dcc20da80ba"
   },
   "outputs": [],
   "source": [
    "'''\n",
    "Simple gradient descent (GD): for this task\n",
    "we use jax for automatical taking gradient\n",
    "of function f, because manhattan-norm\n",
    "can not derivated\n",
    "'''\n",
    "\n",
    "import jax\n",
    "import jax.numpy as jnp\n",
    "\n",
    "A_jax, x_star_jax, b_jax = jnp.array(A), jnp.array(x_star), jnp.array(b)\n",
    "\n",
    "\n",
    "def task2_func_jax(x):\n",
    "    return 0.5*jnp.power(jnp.linalg.norm(jnp.dot(A_jax, x) - b_jax), 2) + lmbd*jnp.linalg.norm(x, 1)\n",
    "\n",
    "\n",
    "grad_f_jax = jax.grad(task2_func_jax)\n",
    "\n",
    "\n",
    "def grad_func_jax(x):\n",
    "    x_jax = jnp.array(x)\n",
    "    return np.array(grad_f_jax(x_jax))\n",
    "\n",
    "\n",
    "def grad_func(x):\n",
    "    return np.dot(A.T, A @ x - b) + lmbd * np.sign(x)\n",
    "\n",
    "\n",
    "def gd(x0, gamma, tol, func=task2_func, grad_func=grad_func_jax):\n",
    "    x = x0\n",
    "    x_prev = np.zeros_like(x)\n",
    "    k = 0\n",
    "\n",
    "    x_arr = [x]\n",
    "    f_arr = [func(x)]\n",
    "    k_arr = [k]\n",
    "\n",
    "    while np.linalg.norm(x - x_prev) > tol:\n",
    "        x_prev = x\n",
    "        k += 1\n",
    "#         if k % 100 == 0:\n",
    "#             print(np.linalg.norm(grad_func(x).T @ grad_func(x)))\n",
    "        while func(x - gamma * grad_func(x)) > func(x) + .01 * gamma * np.dot(-grad_func(x).T, grad_func(x)):\n",
    "            gamma /= 2\n",
    "        x = x - gamma * grad_func(x)\n",
    "\n",
    "        x_arr.append(x)\n",
    "        f_arr.append(func(x))\n",
    "        k_arr.append(k)\n",
    "\n",
    "    df = pd.DataFrame({'step': k_arr, 'f': f_arr})\n",
    "    return df, x_arr"
   ]
  },
  {
   "cell_type": "code",
   "execution_count": 12,
   "metadata": {},
   "outputs": [
    {
     "data": {
      "image/png": "[encoded data removed]",
      "text/plain": [
       "<Figure size 640x480 with 1 Axes>"
      ]
     },
     "metadata": {},
     "output_type": "display_data"
    },
    {
     "name": "stdout",
     "output_type": "stream",
     "text": [
      "Performance time is 183.255855292 seconds.\n",
      "||x*|| = 0.7180486141772263, f* = 0.31161443798485006\n"
     ]
    }
   ],
   "source": [
    "import time\n",
    "import matplotlib.pyplot as plt\n",
    "\n",
    "t1 = time.perf_counter()\n",
    "df, x_arr = gd(np.ones((n, 1))/3, 0.001, 1e-6)\n",
    "# df, x_arr = gd(x_star, 0.001, 1e-3)\n",
    "t2 = time.perf_counter() - t1\n",
    "\n",
    "plt.plot(df.step, df.f)\n",
    "plt.xlabel(r'step')\n",
    "plt.ylabel(r'f(x)')\n",
    "plt.title('GD with Jax autograd')\n",
    "plt.yscale('log')\n",
    "plt.show()\n",
    "\n",
    "print(f'Performance time is {t2} seconds.')\n",
    "print(fr'||x*|| = {np.linalg.norm(x_arr[-1])}, f* = {df.f.iloc[-1]}')"
   ]
  },
  {
   "cell_type": "code",
   "execution_count": 13,
   "metadata": {},
   "outputs": [
    {
     "data": {
      "text/plain": [
       "0.07398209286226064"
      ]
     },
     "execution_count": 13,
     "metadata": {},
     "output_type": "execute_result"
    }
   ],
   "source": [
    "0.5*np.power(np.linalg.norm(np.dot(A, np.array(x_arr[-1])) - b), 2)"
   ]
  },
  {
   "cell_type": "code",
   "execution_count": 14,
   "metadata": {},
   "outputs": [
    {
     "data": {
      "image/png": "[encoded data removed]",
      "text/plain": [
       "<Figure size 640x480 with 1 Axes>"
      ]
     },
     "metadata": {},
     "output_type": "display_data"
    },
    {
     "name": "stdout",
     "output_type": "stream",
     "text": [
      "Performance time is 2.6279317919999983 seconds.\n",
      "||x*|| = 0.7180851523905931, f* = 0.31157033762007585\n"
     ]
    }
   ],
   "source": [
    "import time\n",
    "import matplotlib.pyplot as plt\n",
    "\n",
    "t1 = time.perf_counter()\n",
    "df, x_arr = gd(np.ones((n, 1))/3, 0.001, 1e-6, grad_func=grad_func)\n",
    "# df, x_arr = gd(x_star, 0.001, 1e-3, grad_func=grad_func)\n",
    "t2 = time.perf_counter() - t1\n",
    "\n",
    "plt.plot(df.step, df.f)\n",
    "plt.xlabel(r'step')\n",
    "plt.ylabel(r'f(x)')\n",
    "plt.title('GD with grad-function with analytical grad')\n",
    "plt.yscale('log')\n",
    "plt.show()\n",
    "\n",
    "print(f'Performance time is {t2} seconds.')\n",
    "print(fr'||x*|| = {np.linalg.norm(x_arr[-1])}, f* = {df.f.iloc[-1]}')"
   ]
  },
  {
   "cell_type": "markdown",
   "metadata": {
    "id": "alcn17NB258X"
   },
   "source": [
    "# Question 3: Linear Programming Example (3 points)\n",
    "\n",
    "A cargo plane has three compartments for storing cargo: front, centre, and rear. These\n",
    "compartments have the following limits on both weight and space:\n",
    "\n",
    "| Compartment | Weight capacity (tonnes) | Space capacity (cubic metres) |\n",
    "|-------------|:------------------------:|:-----------------------------:|\n",
    "| Front       |            10            |              6800             |\n",
    "| Center      |            16            |              8700             |\n",
    "| Rear        |            8             |              5300             |\n",
    "\n",
    "Furthermore, the weight of the cargo in the respective compartments must be the same\n",
    "proportion of that compartment’s weight capacity to maintain the balance of the plane.\n",
    "The following four cargoes are available for shipment on the next flight:\n",
    "\n",
    "| Cargo | Weight (tonnes) | Volume (cubic metres/tonne) | Profit ($ /tonne) |\n",
    "|-------|:---------------:|:---------------------------:|-------------------|\n",
    "| C1    |        18       |             480             |        310        |\n",
    "| C2    |        15       |             650             |        380        |\n",
    "| C3    |        23       |             580             |        350        |\n",
    "| C4    |        12       |             390             |        285        |\n",
    "\n",
    "\n",
    "Any proportion of these cargoes can be accepted. The objective is to determine how\n",
    "much (if any) of each cargo C1, C2, C3 and C4 should be accepted and how to distribute\n",
    "each among the compartments so that the total profit for the flight is maximized.\n",
    "1. Formulate the above problem as a linear program.\n",
    "2. What assumptions have you made in formulating this problem as a linear program?\n",
    "3. Solve the problem using `scipy.optimize.linprog` in Python.\n",
    "4. Solve the problem using the ellipsoid method. Plot the graph showing how the ellipsoid\n",
    "volume decreases. Count the number of iterations.\n",
    "5. Sensitivity to the constraint values. What if the available cargoes weight increases/decreases\n",
    "by 10%? Define which cargo weight has the greatest impact on the total profit. Explain\n",
    "the dependence between dual variables and changes in the total profit."
   ]
  },
  {
   "cell_type": "markdown",
   "metadata": {},
   "source": [
    "## Soltion"
   ]
  },
  {
   "cell_type": "markdown",
   "metadata": {},
   "source": [
    "### Linear problem formulation"
   ]
  },
  {
   "cell_type": "markdown",
   "metadata": {},
   "source": [
    "Let $x_{ij}$ - tons cargo in compartment: $ i = \\{c_1,c_2,c_3,c_4\\}$, $j = \\{$front(0), center(1), rear(2)$\\}$\n",
    "\n",
    "And problem is\n",
    "\n",
    "$$ \\max 310 \\sum_{j}x_{0,j} + 380 \\sum_{j}x_{1,j} + 350 \\sum_{j}x_{2,j} + 285 \\sum_{j}x_{3,j} $$\n",
    "\n",
    "subject to\n",
    "$$ \\sum_{j}x_{0,j} \\leq 18 \\text{ (tons cargo 1)}$$\n",
    "$$ \\sum_{j}x_{1,j} \\leq 15 \\text{ (tons cargo 2)}$$\n",
    "$$ \\sum_{j}x_{2,j} \\leq 23 \\text{ (tons cargo 3)}$$\n",
    "$$ \\sum_{j}x_{3,j} \\leq 12 \\text{ (tons cargo 4)}$$\n",
    "$$ \\sum_{i}x_{i,0} \\leq 10 \\text{ (weight cap front)}$$\n",
    "$$ \\sum_{i}x_{i,1} \\leq 16 \\text{ (weight cap center)}$$\n",
    "$$ \\sum_{i}x_{i,2} \\leq 8 \\text{ (weight cap rear)}$$\n",
    "$$ 480 x_{0,0} + 650 x_{1,0} + 580 x_{1,0} \\leq 6800 \\text{ (space cap front)}$$\n",
    "$$ 480 x_{0,1} + 650 x_{1,1} + 580 x_{1,1} \\leq 8700 \\text{ (space cap center)}$$\n",
    "$$ 480 x_{0,2} + 650 x_{1,2} + 580 x_{1,2} \\leq 5300 \\text{ (space cap rear)}$$\n",
    "$$ \\frac{1}{10}(x_{0,0} + x_{1,0} + x_{2,0}+ x_{3,0}) - \\frac{1}{16}(x_{0,1} + x_{1,1} + x_{2,1}+x_{3,1}) = 0$$\n",
    "$$ \\frac{1}{10}(x_{0,0} + x_{1,0} + x_{2,0}+ x_{3,0}) - \\frac{1}{8}(x_{0,2} + x_{1,2} + x_{1,2}+x_{3,2}) = 0$$\n",
    "$$ \\forall i,j: x_{i,j} \\geq 0 $$"
   ]
  },
  {
   "cell_type": "markdown",
   "metadata": {},
   "source": [
    "### Assumptions\n",
    "\n",
    "I believe that the model above fully covers the problem, which means that no assumptions have been made"
   ]
  },
  {
   "cell_type": "markdown",
   "metadata": {},
   "source": [
    "### Solution with scipy.optimize.linprog"
   ]
  },
  {
   "cell_type": "code",
   "execution_count": 28,
   "metadata": {},
   "outputs": [],
   "source": [
    "from scipy.optimize import linprog\n",
    "\n",
    "c = np.reshape(np.array([310, 310, 310,\n",
    "                         380, 380, 380,\n",
    "                         350, 350, 350,\n",
    "                         285, 285, 285]), (12, 1))\n",
    "'''\n",
    "               idx = [[c1,f],[c1,c],[c1,r],\n",
    "                      [c2,f],[c2,c],[c2,r],\n",
    "                      [c3,f],[c3,c],[c3,r],\n",
    "                      [c4,f],[c4,c],[c4,r]]\n",
    "'''\n",
    "\n",
    "A_ub = np.reshape(np.array([[1, 1, 1, 0, 0, 0, 0, 0, 0, 0, 0, 0],\n",
    "                            [0, 0, 0, 1, 1, 1, 0, 0, 0, 0, 0, 0],\n",
    "                            [0, 0, 0, 0, 0, 0, 1, 1, 1, 0, 0, 0],\n",
    "                            [0, 0, 0, 0, 0, 0, 0, 0, 0, 1, 1, 1],\n",
    "                            [1, 0, 0, 1, 0, 0, 1, 0, 0, 1, 0, 0],\n",
    "                            [0, 1, 0, 0, 1, 0, 0, 1, 0, 0, 1, 0],\n",
    "                            [0, 0, 1, 0, 0, 1, 0, 0, 1, 0, 0, 1],\n",
    "                            [480, 0, 0, 650, 0, 0, 580, 0, 0, 390, 0, 0],\n",
    "                            [0, 480, 0, 0, 650, 0, 0, 580, 0, 0, 390, 0],\n",
    "                            [0, 0, 480, 0, 0, 650, 0, 0, 580, 0, 0, 390]]),\n",
    "                  (10, 12))\n",
    "\n",
    "b_ub = np.reshape(\n",
    "    np.array([18, 15, 23, 12, 10, 16, 8, 6800, 8700, 5300]), (10, 1))\n",
    "\n",
    "A_eq = np.reshape(np.array([[.1, -1/16, 0, .1, -1/16, 0, .1, -1/16, 0, .1, -1/16, 0],\n",
    "                            [.1, 0, -1/8, .1, 0, -1/8, .1, 0, -1/8, .1, 0, -1/8],]),\n",
    "                  (2, 12))\n",
    "\n",
    "b_eq = np.reshape([0, 0],\n",
    "                  (2, 1))"
   ]
  },
  {
   "cell_type": "code",
   "execution_count": 16,
   "metadata": {},
   "outputs": [],
   "source": [
    "results = linprog(-c,\n",
    "                  A_ub=A_ub, b_ub=b_ub,\n",
    "                 A_eq=A_eq, b_eq=b_eq)"
   ]
  },
  {
   "cell_type": "code",
   "execution_count": 17,
   "metadata": {},
   "outputs": [
    {
     "name": "stdout",
     "output_type": "stream",
     "text": [
      "c1,f = 0.0\n",
      "c1,c = 0.0\n",
      "c1,r = 0.0\n",
      "c2,f = 10.00000000000016\n",
      "c2,c = 0.0\n",
      "c2,r = 4.999999999999534\n",
      "c3,f = 0.0\n",
      "c3,c = 12.947368421052566\n",
      "c3,r = 3.0000000000004645\n",
      "c4,f = 0.0\n",
      "c4,c = 3.052631578947436\n",
      "c4,r = 0.0\n"
     ]
    }
   ],
   "source": [
    "idx = ['c1,f','c1,c','c1,r',\n",
    "       'c2,f','c2,c','c2,r',\n",
    "       'c3,f','c3,c','c3,r',\n",
    "       'c4,f','c4,c','c4,r']\n",
    "\n",
    "for i in range(len(idx)):\n",
    "    print(idx[i],'=',results.x[i])"
   ]
  },
  {
   "cell_type": "code",
   "execution_count": 18,
   "metadata": {},
   "outputs": [
    {
     "name": "stdout",
     "output_type": "stream",
     "text": [
      "Total profit is 12151.578947368465\n"
     ]
    }
   ],
   "source": [
    "print('Total profit is', -results.fun)"
   ]
  },
  {
   "cell_type": "markdown",
   "metadata": {},
   "source": [
    "### Solution with PuLP"
   ]
  },
  {
   "cell_type": "code",
   "execution_count": 19,
   "metadata": {
    "id": "QwaOK58q242B"
   },
   "outputs": [
    {
     "name": "stdout",
     "output_type": "stream",
     "text": [
      "Cargo_Problem:\n",
      "MAXIMIZE\n",
      "310*qty_cargo1_center_comp + 310*qty_cargo1_front_comp + 310*qty_cargo1_rear_comp + 380*qty_cargo2_center_comp + 380*qty_cargo2_front_comp + 380*qty_cargo2_rear_comp + 350*qty_cargo3_center_comp + 350*qty_cargo3_front_comp + 350*qty_cargo3_rear_comp + 285*qty_cargo4_center_comp + 285*qty_cargo4_front_comp + 285*qty_cargo4_rear_comp + 0\n",
      "SUBJECT TO\n",
      "front_comp_volume_constraint: 480 qty_cargo1_front_comp\n",
      " + 650 qty_cargo2_front_comp + 580 qty_cargo3_front_comp\n",
      " + 390 qty_cargo4_front_comp <= 6800\n",
      "\n",
      "center_comp_volume_constraint: 480 qty_cargo1_center_comp\n",
      " + 650 qty_cargo2_center_comp + 580 qty_cargo3_center_comp\n",
      " + 390 qty_cargo4_center_comp <= 8700\n",
      "\n",
      "rear_comp_volume_constraint: 480 qty_cargo1_rear_comp\n",
      " + 650 qty_cargo2_rear_comp + 580 qty_cargo3_rear_comp\n",
      " + 390 qty_cargo4_rear_comp <= 5300\n",
      "\n",
      "front_comp_weight_constraint: qty_cargo1_front_comp + qty_cargo2_front_comp\n",
      " + qty_cargo3_front_comp + qty_cargo4_front_comp <= 10\n",
      "\n",
      "center_comp_weight_constraint: qty_cargo1_center_comp + qty_cargo2_center_comp\n",
      " + qty_cargo3_center_comp + qty_cargo4_center_comp <= 16\n",
      "\n",
      "rear_comp_weight_constraint: qty_cargo1_rear_comp + qty_cargo2_rear_comp\n",
      " + qty_cargo3_rear_comp + qty_cargo4_rear_comp <= 8\n",
      "\n",
      "cargo1_cargo_constraint: qty_cargo1_center_comp + qty_cargo1_front_comp\n",
      " + qty_cargo1_rear_comp <= 18\n",
      "\n",
      "cargo2_cargo_constraint: qty_cargo2_center_comp + qty_cargo2_front_comp\n",
      " + qty_cargo2_rear_comp <= 15\n",
      "\n",
      "cargo3_cargo_constraint: qty_cargo3_center_comp + qty_cargo3_front_comp\n",
      " + qty_cargo3_rear_comp <= 23\n",
      "\n",
      "cargo4_cargo_constraint: qty_cargo4_center_comp + qty_cargo4_front_comp\n",
      " + qty_cargo4_rear_comp <= 12\n",
      "\n",
      "balance_constraint: 0.0625 qty_cargo1_center_comp - 0.125 qty_cargo1_rear_comp\n",
      " + 0.0625 qty_cargo2_center_comp - 0.125 qty_cargo2_rear_comp\n",
      " + 0.0625 qty_cargo3_center_comp - 0.125 qty_cargo3_rear_comp\n",
      " + 0.0625 qty_cargo4_center_comp - 0.125 qty_cargo4_rear_comp = 0\n",
      "\n",
      "VARIABLES\n",
      "qty_cargo1_center_comp Continuous\n",
      "qty_cargo1_front_comp Continuous\n",
      "qty_cargo1_rear_comp Continuous\n",
      "qty_cargo2_center_comp Continuous\n",
      "qty_cargo2_front_comp Continuous\n",
      "qty_cargo2_rear_comp Continuous\n",
      "qty_cargo3_center_comp Continuous\n",
      "qty_cargo3_front_comp Continuous\n",
      "qty_cargo3_rear_comp Continuous\n",
      "qty_cargo4_center_comp Continuous\n",
      "qty_cargo4_front_comp Continuous\n",
      "qty_cargo4_rear_comp Continuous\n",
      "\n",
      "Welcome to the CBC MILP Solver \n",
      "Version: 2.10.3 \n",
      "Build Date: Dec 15 2019 \n",
      "\n",
      "command line - /Users/danilsherki/opt/anaconda3/lib/python3.9/site-packages/pulp/solverdir/cbc/osx/64/cbc /var/folders/fc/8vk24n953y36xydr3hkmr9y00000gn/T/8e63abcf1dd048569e9c5ee3b4d0b9c8-pulp.mps max timeMode elapsed branch printingOptions all solution /var/folders/fc/8vk24n953y36xydr3hkmr9y00000gn/T/8e63abcf1dd048569e9c5ee3b4d0b9c8-pulp.sol (default strategy 1)\n",
      "At line 2 NAME          MODEL\n",
      "At line 3 ROWS\n",
      "At line 16 COLUMNS\n",
      "At line 73 RHS\n",
      "At line 85 BOUNDS\n",
      "At line 86 ENDATA\n",
      "Problem MODEL has 11 rows, 12 columns and 44 elements\n",
      "Coin0008I MODEL read with 0 errors\n",
      "Option for timeMode changed from cpu to elapsed\n",
      "Presolve 11 (0) rows, 12 (0) columns and 44 (0) elements\n",
      "0  Obj -0 Dual inf 3975 (12)\n",
      "0  Obj -0 Dual inf 3975 (12)\n",
      "6  Obj 12151.579\n",
      "Optimal - objective value 12151.579\n",
      "Optimal objective 12151.57895 - 6 iterations time 0.002\n",
      "Option for printingOptions changed from normal to all\n",
      "Total time (CPU seconds):       0.00   (Wallclock seconds):       0.02\n",
      "\n",
      "\n",
      "\n",
      "Optimal\n"
     ]
    }
   ],
   "source": [
    "from pulp import *\n",
    "\n",
    "compartment = {\"front_comp\": {\"wcap\": 10, \"vcap\": 6800},\n",
    "               \"center_comp\": {\"wcap\": 16, \"vcap\": 8700},\n",
    "               \"rear_comp\": {\"wcap\": 8, \"vcap\": 5300}\n",
    "               }\n",
    "\n",
    "cargo = {\"cargo1\": {\"wt\": 18, \"vol\": 480, \"profit\": 310},\n",
    "         \"cargo2\": {\"wt\": 15, \"vol\": 650, \"profit\": 380},\n",
    "         \"cargo3\": {\"wt\": 23, \"vol\": 580, \"profit\": 350},\n",
    "         \"cargo4\": {\"wt\": 12, \"vol\": 390, \"profit\": 285},\n",
    "         }\n",
    "\n",
    "cargoes = list(cargo.keys())\n",
    "compartments = list(compartment.keys())\n",
    "\n",
    "prob = LpProblem(\"Cargo_Problem\", LpMaximize)\n",
    "dec_var = LpVariable.dicts(\"qty\", (cargoes, compartments), lowBound=0)\n",
    "\n",
    "prob += lpSum(dec_var[i][j]*cargo[i][\"profit\"]\n",
    "              for i in cargoes for j in compartments)\n",
    "\n",
    "# volume constraint\n",
    "for c in compartment:\n",
    "    prob += lpSum(dec_var[i][c]*cargo[i][\"vol\"]\n",
    "                  for i in cargoes) <= compartment[c][\"vcap\"], c + \"_volume_constraint\"\n",
    "\n",
    " # weight constraint\n",
    "for c in compartment:\n",
    "    prob += lpSum(dec_var[i][c]\n",
    "                  for i in cargoes) <= compartment[c][\"wcap\"], c + \"_weight_constraint\"\n",
    "\n",
    "# cargo available constraint\n",
    "for c in cargoes:\n",
    "    prob += lpSum(dec_var[c][i]\n",
    "                  for i in compartments) <= cargo[c][\"wt\"], c + \"_cargo_constraint\"\n",
    "\n",
    "# balance constraint\n",
    "f = 1/compartment[\"front_comp\"][\"wcap\"]\n",
    "c = 1/compartment[\"center_comp\"][\"wcap\"]\n",
    "r = 1/compartment[\"rear_comp\"][\"wcap\"]\n",
    "\n",
    "prob += lpSum(dec_var[i][\"front_comp\"] for i in cargoes)*f \\\n",
    "    == lpSum(dec_var[i][\"center_comp\"] for i in cargoes)*c \\\n",
    "    == lpSum(dec_var[i][\"rear_comp\"] for i in cargoes)*r, \"balance constraint\"\n",
    "\n",
    "print(prob)\n",
    "\n",
    "prob.solve()\n",
    "print('\\n')\n",
    "print(LpStatus[prob.status])"
   ]
  },
  {
   "cell_type": "code",
   "execution_count": 20,
   "metadata": {},
   "outputs": [
    {
     "name": "stdout",
     "output_type": "stream",
     "text": [
      "qty_cargo1_center_comp = 0.0\n",
      "qty_cargo1_front_comp = 0.0\n",
      "qty_cargo1_rear_comp = 0.0\n",
      "qty_cargo2_center_comp = 0.0\n",
      "qty_cargo2_front_comp = 7.0\n",
      "qty_cargo2_rear_comp = 8.0\n",
      "qty_cargo3_center_comp = 12.947368\n",
      "qty_cargo3_front_comp = 3.0\n",
      "qty_cargo3_rear_comp = 0.0\n",
      "qty_cargo4_center_comp = 3.0526316\n",
      "qty_cargo4_front_comp = 0.0\n",
      "qty_cargo4_rear_comp = 0.0\n",
      "\n",
      "\n",
      "Total Profit =  12151.578806\n"
     ]
    }
   ],
   "source": [
    "for v in prob.variables():\n",
    "    print(v.name, \"=\", v.varValue)\n",
    "    \n",
    "print('\\n')\n",
    "print(\"Total Profit = \", value(prob.objective))"
   ]
  },
  {
   "cell_type": "markdown",
   "metadata": {},
   "source": [
    "### Solution with Ellipsoud method"
   ]
  },
  {
   "cell_type": "code",
   "execution_count": 21,
   "metadata": {},
   "outputs": [],
   "source": [
    "c_q = np.reshape(np.array([310, 310, 310,\n",
    "                         380, 380, 380,\n",
    "                         350, 350, 350,\n",
    "                         285, 285, 285]), (12, 1))\n",
    "'''\n",
    "               idx = [[c1,f],[c1,c],[c1,r],\n",
    "                      [c2,f],[c2,c],[c2,r],\n",
    "                      [c3,f],[c3,c],[c3,r],\n",
    "                      [c4,f],[c4,c],[c4,r]]\n",
    "'''\n",
    "\n",
    "A_ub = np.reshape(np.array([[1, 1, 1, 0, 0, 0, 0, 0, 0, 0, 0, 0],\n",
    "                            [0, 0, 0, 1, 1, 1, 0, 0, 0, 0, 0, 0],\n",
    "                            [0, 0, 0, 0, 0, 0, 1, 1, 1, 0, 0, 0],\n",
    "                            [0, 0, 0, 0, 0, 0, 0, 0, 0, 1, 1, 1],\n",
    "                            [1, 0, 0, 1, 0, 0, 1, 0, 0, 1, 0, 0],\n",
    "                            [0, 1, 0, 0, 1, 0, 0, 1, 0, 0, 1, 0],\n",
    "                            [0, 0, 1, 0, 0, 1, 0, 0, 1, 0, 0, 1],\n",
    "                            [480, 0, 0, 650, 0, 0, 580, 0, 0, 390, 0, 0],\n",
    "                            [0, 480, 0, 0, 650, 0, 0, 580, 0, 0, 390, 0],\n",
    "                            [0, 0, 480, 0, 0, 650, 0, 0, 580, 0, 0, 390],\n",
    "                            [.1, -1/16, 0, .1, -1/16, 0, .1, -1/16, 0, .1, -1/16, 0],\n",
    "                            [.1, 0, -1/8, .1, 0, -1/8, .1, 0, -1/8, .1, 0, -1/8],\n",
    "                            [-0.1, 1/16, 0, -0.1, 1/16, 0, -0.1, 1/16, 0, -0.1, 1/16, 0],\n",
    "                            [-0.1, 0, 1/8, -0.1, 0, 1/8, -0.1, 0, 1/8, -0.1, 0, 1/8]]),\n",
    "                  (14, 12))\n",
    "\n",
    "b_ub = np.reshape(\n",
    "    np.array([18, 15, 23, 12, 10, 16, 8, 6800, 8700, 5300, 0, 0, 0, 0]), (14, 1))"
   ]
  },
  {
   "cell_type": "code",
   "execution_count": 22,
   "metadata": {},
   "outputs": [],
   "source": [
    "# def feasible_func(x):\n",
    "#     return A_ub @ x - b_ub\n",
    "\n",
    "def grad_func(x):\n",
    "    return -c_q\n",
    "\n",
    "def ellipsoid_method(x_c, P, W, n = 12, grad_func = grad_func):\n",
    "    k = 0\n",
    "    vol = []\n",
    "    while k < 100:\n",
    "        grad = grad_func(x_c)\n",
    "        grad = 1/(np.sqrt(grad.T @ P @ grad)) * grad\n",
    "        x_c = x_c - (1 / (n + 1))* P @ grad\n",
    "        P = (n**2 / (n**2 - 1)) * (P - (2 / (n + 1)) * P @ grad @ grad.T @ P)\n",
    "        k += 1\n",
    "        L = np.linalg.cholesky(np.linalg.inv(P))\n",
    "        vol.append(vol_eps(L))\n",
    "    return x_c, P, vol, k"
   ]
  },
  {
   "cell_type": "code",
   "execution_count": 23,
   "metadata": {},
   "outputs": [],
   "source": [
    "R = 1\n",
    "P_0 = R**2 * np.eye(12)\n",
    "x_c_0 = np.zeros([12,1])"
   ]
  },
  {
   "cell_type": "code",
   "execution_count": 24,
   "metadata": {},
   "outputs": [],
   "source": [
    "x_c, P, vol_arr, k = ellipsoid_method(x_c_0, P_0, A)"
   ]
  },
  {
   "cell_type": "code",
   "execution_count": 25,
   "metadata": {},
   "outputs": [
    {
     "data": {
      "image/png": "[encoded data removed]",
      "text/plain": [
       "<Figure size 640x480 with 1 Axes>"
      ]
     },
     "metadata": {},
     "output_type": "display_data"
    }
   ],
   "source": [
    "plt.plot(range(k), vol_arr)\n",
    "plt.title('Ellipsoid volume changing by 100 iterations')\n",
    "plt.xlabel('iterations')\n",
    "plt.ylabel('Ellipsoid volume')\n",
    "plt.yscale('log')\n",
    "plt.show()"
   ]
  },
  {
   "cell_type": "markdown",
   "metadata": {},
   "source": [
    "### Sensativity"
   ]
  },
  {
   "cell_type": "code",
   "execution_count": 29,
   "metadata": {},
   "outputs": [],
   "source": [
    "def linprog_solution(b_var):\n",
    "    results = linprog(-c,\n",
    "                  A_ub=A_ub, b_ub=b_var,\n",
    "                 A_eq=A_eq, b_eq=b_eq)\n",
    "    return results.fun"
   ]
  },
  {
   "cell_type": "code",
   "execution_count": 30,
   "metadata": {},
   "outputs": [
    {
     "name": "stdout",
     "output_type": "stream",
     "text": [
      "If we increase weight constraint by 10% for cargo1, profit will be equal 12151.578947368465\n",
      "If we increase weight constraint by 10% for cargo2, profit will be equal 12181.57894736847\n",
      "If we increase weight constraint by 10% for cargo3, profit will be equal 12151.578947368465\n",
      "If we increase weight constraint by 10% for cargo4, profit will be equal 12151.578947368465\n"
     ]
    }
   ],
   "source": [
    "for i in range(4):\n",
    "    b1 = b_ub.copy()\n",
    "    b1[i] = 1.1*b1[i]\n",
    "    print(f'If we increase weight constraint by 10% for cargo{i+1}, profit will be equal',\n",
    "          - linprog_solution(b1))"
   ]
  },
  {
   "cell_type": "code",
   "execution_count": 31,
   "metadata": {},
   "outputs": [
    {
     "name": "stdout",
     "output_type": "stream",
     "text": [
      "If we increase weight constraint by 10% for cargo1, profit will be equal 12151.578947368465\n",
      "If we increase weight constraint by 10% for cargo2, profit will be equal 12091.578947368467\n",
      "If we increase weight constraint by 10% for cargo3, profit will be equal 12151.57894736845\n",
      "If we increase weight constraint by 10% for cargo4, profit will be equal 12151.578947368465\n"
     ]
    }
   ],
   "source": [
    "for i in range(4):\n",
    "    b1 = b_ub.copy()\n",
    "    b1[i] = 0.9*b1[i]\n",
    "    print(f'If we increase weight constraint by 10% for cargo{i+1}, profit will be equal',\n",
    "          - linprog_solution(b1))"
   ]
  },
  {
   "cell_type": "code",
   "execution_count": 33,
   "metadata": {},
   "outputs": [
    {
     "data": {
      "text/plain": [
       "(0.24688149688154226, 0.49376299376298505)"
      ]
     },
     "execution_count": 33,
     "metadata": {},
     "output_type": "execute_result"
    }
   ],
   "source": [
    "12181.57894736847/12151.578947368465*100 - 100, 100 - 12091.578947368467/12151.578947368465*100"
   ]
  },
  {
   "cell_type": "markdown",
   "metadata": {},
   "source": [
    "#### Conclusion\n",
    "\n",
    "* We can see that only one initial bound changing influence on the finite solution (total profit value).\n",
    "* This initial bound changing is the weight capacity cargo2 changing.\n",
    "* It's can be explaind by profit per ton value, because exectly cargo2 have the biggest of value of the profit.\n",
    "* If we increase this parameter by 10%, total profit value increased on 0.24%.\n",
    "* If we decrease this parameter by 10%, total profit value decreased on 0.49%."
   ]
  }
 ],
 "metadata": {
  "colab": {
   "provenance": []
  },
  "kernelspec": {
   "display_name": "Python 3 (ipykernel)",
   "language": "python",
   "name": "python3"
  },
  "language_info": {
   "codemirror_mode": {
    "name": "ipython",
    "version": 3
   },
   "file_extension": ".py",
   "mimetype": "text/x-python",
   "name": "python",
   "nbconvert_exporter": "python",
   "pygments_lexer": "ipython3",
   "version": "3.9.13"
  },
  "latex_envs": {
   "LaTeX_envs_menu_present": true,
   "autoclose": false,
   "autocomplete": true,
   "bibliofile": "biblio.bib",
   "cite_by": "apalike",
   "current_citInitial": 1,
   "eqLabelWithNumbers": true,
   "eqNumInitial": 1,
   "hotkeys": {
    "equation": "Ctrl-E",
    "itemize": "Ctrl-I"
   },
   "labels_anchors": false,
   "latex_user_defs": false,
   "report_style_numbering": false,
   "user_envs_cfg": false
  }
 },
 "nbformat": 4,
 "nbformat_minor": 1
}
