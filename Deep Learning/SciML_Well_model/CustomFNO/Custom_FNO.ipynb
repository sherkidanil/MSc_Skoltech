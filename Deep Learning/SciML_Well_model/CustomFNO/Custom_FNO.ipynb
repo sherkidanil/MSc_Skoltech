{
  "cells": [
    {
      "cell_type": "markdown",
      "metadata": {
        "id": "yYWhjnVR2kXZ"
      },
      "source": [
        "# **FNO approach**"
      ]
    },
    {
      "cell_type": "code",
      "source": [
        "from google.colab import drive\n",
        "drive.mount('/content/drive')"
      ],
      "metadata": {
        "id": "lLzMlMhkF44P",
        "colab": {
          "base_uri": "https://localhost:8080/"
        },
        "outputId": "a92c2600-af3c-4ecd-80a8-73b81dcd051f"
      },
      "execution_count": null,
      "outputs": [
        {
          "output_type": "stream",
          "name": "stdout",
          "text": [
            "Drive already mounted at /content/drive; to attempt to forcibly remount, call drive.mount(\"/content/drive\", force_remount=True).\n"
          ]
        }
      ]
    },
    {
      "cell_type": "code",
      "source": [
        "%cd /content/drive/MyDrive/DL_Final_Project"
      ],
      "metadata": {
        "id": "zG2GsgcPGBU5",
        "colab": {
          "base_uri": "https://localhost:8080/"
        },
        "outputId": "b8bf2f8b-707c-4dce-bea5-5964b45c9692"
      },
      "execution_count": null,
      "outputs": [
        {
          "output_type": "stream",
          "name": "stdout",
          "text": [
            "/content/drive/MyDrive/DL_Final_Project\n"
          ]
        }
      ]
    },
    {
      "cell_type": "code",
      "source": [
        "!unzip /content/drive/MyDrive/DL_Final_Project/dataset_dlproject"
      ],
      "metadata": {
        "id": "5KaNQVWOMYor",
        "colab": {
          "base_uri": "https://localhost:8080/"
        },
        "outputId": "c09d5f1e-1153-4c57-e76b-3f320bcd195c"
      },
      "execution_count": null,
      "outputs": [
        {
          "output_type": "stream",
          "name": "stdout",
          "text": [
            "Archive:  /content/drive/MyDrive/DL_Final_Project/dataset_dlproject\n",
            "replace perms_clear.npy? [y]es, [n]o, [A]ll, [N]one, [r]ename: N\n"
          ]
        }
      ]
    },
    {
      "cell_type": "code",
      "source": [
        "!pip install wandb"
      ],
      "metadata": {
        "colab": {
          "base_uri": "https://localhost:8080/"
        },
        "id": "s2vXPRaBbsmg",
        "outputId": "3c3b94b8-5177-4819-bc1b-3d20c5087a8e"
      },
      "execution_count": null,
      "outputs": [
        {
          "output_type": "stream",
          "name": "stdout",
          "text": [
            "Looking in indexes: https://pypi.org/simple, https://us-python.pkg.dev/colab-wheels/public/simple/\n",
            "Requirement already satisfied: wandb in /usr/local/lib/python3.10/dist-packages (0.15.3)\n",
            "Requirement already satisfied: Click!=8.0.0,>=7.0 in /usr/local/lib/python3.10/dist-packages (from wandb) (8.1.3)\n",
            "Requirement already satisfied: GitPython!=3.1.29,>=1.0.0 in /usr/local/lib/python3.10/dist-packages (from wandb) (3.1.31)\n",
            "Requirement already satisfied: requests<3,>=2.0.0 in /usr/local/lib/python3.10/dist-packages (from wandb) (2.27.1)\n",
            "Requirement already satisfied: psutil>=5.0.0 in /usr/local/lib/python3.10/dist-packages (from wandb) (5.9.5)\n",
            "Requirement already satisfied: sentry-sdk>=1.0.0 in /usr/local/lib/python3.10/dist-packages (from wandb) (1.24.0)\n",
            "Requirement already satisfied: docker-pycreds>=0.4.0 in /usr/local/lib/python3.10/dist-packages (from wandb) (0.4.0)\n",
            "Requirement already satisfied: PyYAML in /usr/local/lib/python3.10/dist-packages (from wandb) (6.0)\n",
            "Requirement already satisfied: pathtools in /usr/local/lib/python3.10/dist-packages (from wandb) (0.1.2)\n",
            "Requirement already satisfied: setproctitle in /usr/local/lib/python3.10/dist-packages (from wandb) (1.3.2)\n",
            "Requirement already satisfied: setuptools in /usr/local/lib/python3.10/dist-packages (from wandb) (67.7.2)\n",
            "Requirement already satisfied: appdirs>=1.4.3 in /usr/local/lib/python3.10/dist-packages (from wandb) (1.4.4)\n",
            "Requirement already satisfied: protobuf!=4.21.0,<5,>=3.19.0 in /usr/local/lib/python3.10/dist-packages (from wandb) (3.20.3)\n",
            "Requirement already satisfied: six>=1.4.0 in /usr/local/lib/python3.10/dist-packages (from docker-pycreds>=0.4.0->wandb) (1.16.0)\n",
            "Requirement already satisfied: gitdb<5,>=4.0.1 in /usr/local/lib/python3.10/dist-packages (from GitPython!=3.1.29,>=1.0.0->wandb) (4.0.10)\n",
            "Requirement already satisfied: urllib3<1.27,>=1.21.1 in /usr/local/lib/python3.10/dist-packages (from requests<3,>=2.0.0->wandb) (1.26.15)\n",
            "Requirement already satisfied: certifi>=2017.4.17 in /usr/local/lib/python3.10/dist-packages (from requests<3,>=2.0.0->wandb) (2022.12.7)\n",
            "Requirement already satisfied: charset-normalizer~=2.0.0 in /usr/local/lib/python3.10/dist-packages (from requests<3,>=2.0.0->wandb) (2.0.12)\n",
            "Requirement already satisfied: idna<4,>=2.5 in /usr/local/lib/python3.10/dist-packages (from requests<3,>=2.0.0->wandb) (3.4)\n",
            "Requirement already satisfied: smmap<6,>=3.0.1 in /usr/local/lib/python3.10/dist-packages (from gitdb<5,>=4.0.1->GitPython!=3.1.29,>=1.0.0->wandb) (5.0.0)\n"
          ]
        }
      ]
    },
    {
      "cell_type": "code",
      "execution_count": null,
      "metadata": {
        "id": "PFUAYpGM2kXd",
        "colab": {
          "base_uri": "https://localhost:8080/",
          "height": 34
        },
        "outputId": "edc55b6b-0ccb-41e4-c2cd-574e27d6d6a5"
      },
      "outputs": [
        {
          "output_type": "display_data",
          "data": {
            "text/plain": [
              "device(type='cuda')"
            ]
          },
          "metadata": {}
        }
      ],
      "source": [
        "import numpy as np\n",
        "import matplotlib.pyplot as plt\n",
        "from tqdm import notebook, tqdm\n",
        "\n",
        "from sklearn.model_selection import train_test_split\n",
        "\n",
        "import torch\n",
        "from torch import nn\n",
        "import torch.nn.functional as F\n",
        "from torch.utils.data import DataLoader\n",
        "from torch.utils.data import Dataset\n",
        "from torch.utils.data import TensorDataset\n",
        "import wandb\n",
        "\n",
        "%matplotlib inline\n",
        "\n",
        "device = torch.device(\"cuda\" if torch.cuda.is_available() else \"cpu\")\n",
        "display(device)"
      ]
    },
    {
      "cell_type": "code",
      "source": [
        "# https://wandb.ai/quickstart\n",
        "\n",
        "!wandb login  # and paste your API key from https://wandb.ai/authorize"
      ],
      "metadata": {
        "colab": {
          "base_uri": "https://localhost:8080/"
        },
        "id": "7GpnmcMXb1JE",
        "outputId": "7cb1bea7-3790-4fd4-e50c-091fbc4423f6"
      },
      "execution_count": null,
      "outputs": [
        {
          "output_type": "stream",
          "name": "stdout",
          "text": [
            "\u001b[34m\u001b[1mwandb\u001b[0m: Currently logged in as: \u001b[33mcherepanovegor2018\u001b[0m. Use \u001b[1m`wandb login --relogin`\u001b[0m to force relogin\n"
          ]
        }
      ]
    },
    {
      "cell_type": "code",
      "source": [
        "perm = np.load('perms_clear.npy')\n",
        "pressure = np.load('pressures_clear.npy')\n",
        "\n",
        "print('perm shape:', perm.shape)\n",
        "print('pressure shape:', pressure.shape)"
      ],
      "metadata": {
        "id": "AapsFk4bvf0x",
        "colab": {
          "base_uri": "https://localhost:8080/"
        },
        "outputId": "d0fb0bf9-6d67-47ef-84d0-23b1c660055a"
      },
      "execution_count": null,
      "outputs": [
        {
          "output_type": "stream",
          "name": "stdout",
          "text": [
            "perm shape: (1317, 64, 64)\n",
            "pressure shape: (1317, 21, 64, 64)\n"
          ]
        }
      ]
    },
    {
      "cell_type": "code",
      "execution_count": null,
      "metadata": {
        "id": "RSE07VXnu_yH"
      },
      "outputs": [],
      "source": [
        "# # 1 map of perm, 3 maps of pressures\n",
        "# x, y = [], []\n",
        "# for i in notebook.tqdm(range(len(pressure))):\n",
        "#     x.append(perm[i].reshape(1, 64, 64))\n",
        "#     y.append(pressure[i][1:4, :, :])\n",
        "\n",
        "# x = np.stack(tuple(x))\n",
        "# y = np.stack(tuple(y))\n",
        "\n",
        "# print('x:', x.shape)\n",
        "# print('y:', y.shape)"
      ]
    },
    {
      "cell_type": "code",
      "source": [
        "x = []\n",
        "for i in notebook.tqdm(range(len(pressure))):\n",
        "    x.append(pressure[i][1].reshape(1,64,64))\n",
        "    # x.append(perm[i].reshape(1,64,64))\n",
        "    \n",
        "x = np.stack(tuple(x))\n",
        "y = pressure[:,2:5]\n",
        "# y = pressure[:,2:]\n",
        "\n",
        "print('x:', x.shape)\n",
        "print('y:', y.shape)"
      ],
      "metadata": {
        "colab": {
          "base_uri": "https://localhost:8080/",
          "height": 84,
          "referenced_widgets": [
            "e8dc1bc8e38f47c995247db026807cbc",
            "a11136a1b6ad4373a1de3f1e850142ee",
            "daefe06b9a3b414d98919088dabe30de",
            "d6ad893a40fd46ef935aab8e1b774b33",
            "e6beed37758942589b31f9bc313db5c2",
            "3e7e9c879dae4184b5820f46f8714a79",
            "4a570a26b81d484db200dfb449f75c80",
            "ea7e801f4eb749718f72a3e7985e2ff5",
            "02c775fcf3414cecb7442eb8141c9df2",
            "b88b987f011c4e9caab2d9576f4273a8",
            "1ee81eb8ba794cf5b69807f3abf8be6f"
          ]
        },
        "id": "KneQrjh1vE6p",
        "outputId": "34481465-1bfc-4c3a-f494-21cf58965d57"
      },
      "execution_count": null,
      "outputs": [
        {
          "output_type": "display_data",
          "data": {
            "text/plain": [
              "  0%|          | 0/1317 [00:00<?, ?it/s]"
            ],
            "application/vnd.jupyter.widget-view+json": {
              "version_major": 2,
              "version_minor": 0,
              "model_id": "e8dc1bc8e38f47c995247db026807cbc"
            }
          },
          "metadata": {}
        },
        {
          "output_type": "stream",
          "name": "stdout",
          "text": [
            "x: (1317, 1, 64, 64)\n",
            "y: (1317, 3, 64, 64)\n"
          ]
        }
      ]
    },
    {
      "cell_type": "code",
      "execution_count": null,
      "metadata": {
        "id": "YFCCajUlu_yJ",
        "colab": {
          "base_uri": "https://localhost:8080/"
        },
        "outputId": "a3bc1aa7-23ca-47dd-ff91-ef626e2bd3b3"
      },
      "outputs": [
        {
          "output_type": "stream",
          "name": "stdout",
          "text": [
            "The train size: 1053 \n",
            "The val size: 132 \n",
            "The test size: 132\n"
          ]
        }
      ],
      "source": [
        "x_train, x_val_test, y_train, y_val_test = train_test_split(x, y, test_size=0.2, random_state=42, shuffle=False)\n",
        "x_val, x_test, y_val, y_test = train_test_split(x_val_test, y_val_test, test_size=0.5, random_state=42, shuffle=False)\n",
        "print(f'The train size: {len(x_train)}',\n",
        "      f'\\nThe val size: {len(x_val)}',\n",
        "     f'\\nThe test size: {len(x_test)}')\n",
        "\n",
        "x_train = torch.from_numpy(x_train)\n",
        "x_val = torch.from_numpy(x_val)\n",
        "x_test = torch.from_numpy(x_test)\n",
        "y_train = torch.from_numpy(y_train)\n",
        "y_val = torch.from_numpy(y_val)\n",
        "y_test = torch.from_numpy(y_test)"
      ]
    },
    {
      "cell_type": "code",
      "execution_count": null,
      "metadata": {
        "id": "d5esJQi0u_yK"
      },
      "outputs": [],
      "source": [
        "train_dataset = TensorDataset(x_train, y_train)\n",
        "val_dataset = TensorDataset(x_val, y_val)\n",
        "test_dataset = TensorDataset(x_test, y_test)\n",
        "batch_size = 32\n",
        "train_loader = DataLoader(train_dataset, batch_size=batch_size, shuffle=True, num_workers=2)\n",
        "val_loader = DataLoader(val_dataset, batch_size=1, shuffle=True, num_workers=2)"
      ]
    },
    {
      "cell_type": "code",
      "source": [
        "import torch\n",
        "import torch.nn as nn\n",
        "import torch.nn.functional as F\n",
        "import torch.fft\n",
        "from torch.fft import fft2, ifft"
      ],
      "metadata": {
        "id": "SqC5uC9xrJqc"
      },
      "execution_count": null,
      "outputs": []
    },
    {
      "cell_type": "code",
      "source": [
        "class FNO(nn.Module):\n",
        "    def __init__(self, modes):\n",
        "        super(FNO, self).__init__()\n",
        "        self.modes = modes\n",
        "        # Lift to higher dimension channel space\n",
        "        self.lift = nn.Conv2d(1, 64, kernel_size=1, padding=1)\n",
        "        \n",
        "        # Fourier layers\n",
        "        self.fourier1 = Fourier(modes=self.modes)\n",
        "        self.fourier2 = Fourier(modes=self.modes)\n",
        "\n",
        "        # Integral operators and activation functions \n",
        "        self.op1 = Block(64, 64)\n",
        "        self.op2 = Block(64, 64)\n",
        "        self.op3 = Block(64, 64)\n",
        "        self.op4 = Block(64, 64)\n",
        "\n",
        "        # Project back to target dimension\n",
        "        self.proj = nn.Conv2d(64, 3, kernel_size=1)\n",
        "        \n",
        "    def forward(self, x):\n",
        "        # Lift to higher dimension channel space\n",
        "        x = self.lift(x)\n",
        "        \n",
        "        # Fourier layers\n",
        "        x = self.fourier1(x)\n",
        "        \n",
        "        # Integral operators and activation functions \n",
        "        x = self.op1(x)\n",
        "        x = self.op2(x)\n",
        "        x = self.op3(x)\n",
        "        x = self.op4(x)\n",
        "        \n",
        "        # Fourier layers\n",
        "        x = self.fourier2(x)\n",
        "        \n",
        "        # Project back to target dimension\n",
        "        x = self.proj(x)\n",
        "        return x\n",
        "\n",
        "class Fourier(nn.Module):\n",
        "    def __init__(self, modes):\n",
        "        super(Fourier, self).__init__()\n",
        "        self.modes = modes\n",
        "    def forward(self, x):\n",
        "        b, c, h, w = x.size()\n",
        "\n",
        "        # Convert to frequency domain\n",
        "        x_fft = torch.fft.rfft(x.view(b, c, h, w))\n",
        "\n",
        "        # Filter out high frequency modes\n",
        "        x_low_freq = torch.zeros_like(x_fft)\n",
        "        x_low_freq[:,:,:,0:self.modes] = x_fft[:,:,:,0:self.modes]\n",
        "      \n",
        "        # Convert back to spatial domain\n",
        "        x_ifft = torch.fft.irfft(x_low_freq)\n",
        "        x_ifft = x_ifft.view(b, c, h, w)\n",
        "\n",
        "        # Apply local linear transform\n",
        "        #x_ifft = nn.Conv2d(64, 64, kernel_size=3, padding=1, device=device)(x_ifft)\n",
        "\n",
        "        return x_ifft\n",
        "\n",
        "\n",
        "class Block(nn.Module):\n",
        "\n",
        "    def __init__(self, in_channels, out_channels):\n",
        "        super(Block, self).__init__()\n",
        "\n",
        "        self.conv1 = nn.Conv2d(in_channels, out_channels, kernel_size=1, padding=1)\n",
        "        self.bn1 = nn.BatchNorm2d(out_channels)\n",
        "        self.relu1 = nn.ReLU(inplace=True)\n",
        "        self.conv2 = nn.Conv2d(out_channels, out_channels, kernel_size=1, padding=1)\n",
        "        self.bn2 = nn.BatchNorm2d(out_channels)\n",
        "        self.relu2 = nn.ReLU(inplace=True)\n",
        "        self.conv3 = nn.Conv2d(out_channels, out_channels, kernel_size=1, padding=1)\n",
        "        self.bn3 = nn.BatchNorm2d(out_channels)\n",
        "        self.relu3 = nn.ReLU(inplace=True)\n",
        "\n",
        "    def forward(self, x):\n",
        "        identity = x\n",
        "\n",
        "        out = self.conv1(x)\n",
        "        out = self.bn1(out)\n",
        "        out = self.relu1(out)\n",
        "\n",
        "        out = self.conv2(out)\n",
        "        out = self.bn2(out)\n",
        "        out = self.relu2(out)\n",
        "\n",
        "        out = self.conv3(out)\n",
        "        out = self.bn3(out)\n",
        "\n",
        "        # Add residual connection\n",
        "        out += identity\n",
        "\n",
        "        out = self.relu3(out)\n",
        "        return out"
      ],
      "metadata": {
        "id": "Kl6BISrSM-GR"
      },
      "execution_count": null,
      "outputs": []
    },
    {
      "cell_type": "code",
      "source": [
        "def train(model, criterion, train_loader, val_loader, scheduler=None, \n",
        "             path ='/home/', name='name.pth',\n",
        "             num_epochs=100, learning_rate=3e-4):\n",
        "  \n",
        "    opt = torch.optim.Adam(model.parameters(), learning_rate)\n",
        "\n",
        "    logging = []\n",
        "    best_val_loss = np.inf\n",
        "    val_loss = 0\n",
        "    f = 0\n",
        "    pbar = notebook.tqdm(range(num_epochs), colour=\"MAGENTA\")\n",
        "    for epoch in pbar:\n",
        "        model.train()\n",
        "        \n",
        "        train_batch_loss = []\n",
        "        for step, batch in enumerate(train_loader):\n",
        "            sample, target = batch\n",
        "            sample, target = sample.to(device, torch.float), target.to(device, torch.float) \n",
        "            pred = model(sample)\n",
        "            loss = criterion(pred, target)\n",
        "            \n",
        "            opt.zero_grad()\n",
        "            loss.backward()\n",
        "            opt.step()\n",
        "            train_batch_loss.append(loss.item())\n",
        "            pbar.set_description(f\"Epoch: {epoch+1} / {num_epochs}, Batch: {step+1} / {len(train_loader)}, Train Loss: {train_batch_loss[-1]:.4f}, Val Loss: {val_loss:.2f}, ES Ticker: {f} / {10}\")\n",
        "        train_loss = np.mean(train_batch_loss)\n",
        "    \n",
        "        model.eval()\n",
        "        \n",
        "        val_batch_loss = []\n",
        "        for batch in val_loader:\n",
        "            sample, target = batch\n",
        "            sample, target = sample.to(device, torch.float), target.to(device, torch.float)\n",
        "            \n",
        "            pred = model(sample)\n",
        "            loss = criterion(pred, target)\n",
        "            val_batch_loss.append(loss.item())\n",
        "            \n",
        "        val_loss = np.mean(val_batch_loss)\n",
        "        \n",
        "        # if epoch % 100 == 0:\n",
        "        #     folder = path\n",
        "        #     model_name = f'PINN_non_steady_{epoch}.pth'\n",
        "        #     model_path = folder + model_name\n",
        "        #     torch.save(model, model_path)\n",
        "\n",
        "        wandb.log({'Train Loss': train_loss, 'Val Loss': val_loss})\n",
        "\n",
        "        if val_loss < best_val_loss:\n",
        "            best_val_loss = val_loss\n",
        "            folder = path\n",
        "            model_path = folder + name\n",
        "            torch.save(model, model_path)\n",
        "        \n",
        "        if scheduler is not None:\n",
        "            scheduler.step()\n",
        "            \n",
        "        logging.append(np.array([epoch, train_loss, val_loss]))\n",
        "        if val_loss > np.min(logging, axis=0)[2]:\n",
        "            f += 1\n",
        "        else:\n",
        "            f = 0\n",
        "            # folder = path\n",
        "            # model_name_cur = 'PINN_non_steady_current_sch.pth'\n",
        "            # model_path = folder + model_name_cur\n",
        "            # torch.save(model, model_path)\n",
        "        \n",
        "        # if f >= 10:\n",
        "        #     print(\"Early stopping...\")\n",
        "        #     break\n",
        "\n",
        "        #print(f'epoch: {epoch}, train_loss: {train_loss}, val_loss {val_loss}')\n",
        "\n",
        "    return logging"
      ],
      "metadata": {
        "id": "87jEKQddxh9c"
      },
      "execution_count": null,
      "outputs": []
    },
    {
      "cell_type": "code",
      "source": [
        "def main(config):\n",
        "    lr =  config['lr']\n",
        "    num_epochs = config['num_epochs']\n",
        "    batch_size = config['batch_size']\n",
        "    modes = config['modes']\n",
        "    wandb.init(project=\"Custom_FNO\", name = \"test_run\", config=config)\n",
        "\n",
        "    criterion = nn.MSELoss()\n",
        "    scheduler = None\n",
        "    model = FNO(modes=modes).to(device)\n",
        "\n",
        "    batch_size = batch_size\n",
        "    train_loader = DataLoader(train_dataset, batch_size=batch_size, shuffle=True, num_workers=2)\n",
        "    val_loader = DataLoader(val_dataset, batch_size=1, shuffle=False, num_workers=2)\n",
        "\n",
        "    print('Lenght of dataloader: \\t', len(train_loader))\n",
        "\n",
        "    logs = train(model, criterion, train_loader, val_loader, scheduler, \n",
        "             path='/content/drive/MyDrive/DL_Final_Project/results/FNO/',\n",
        "             name='FNO_best.pth',\n",
        "             num_epochs=num_epochs, learning_rate=lr)\n",
        "\n",
        "    return logs"
      ],
      "metadata": {
        "id": "HDI-ldh2cXZH"
      },
      "execution_count": null,
      "outputs": []
    },
    {
      "cell_type": "code",
      "source": [
        "config = {\n",
        "    'lr': 1e-3,\n",
        "    'num_epochs': 1000,\n",
        "    'batch_size': 64,\n",
        "    'modes': 16}\n",
        "\n",
        "#wandb.init(project=\"DL_HW_3_GAN\", name = \"test_run\", config=config)\n",
        "logs = main(config)"
      ],
      "metadata": {
        "colab": {
          "base_uri": "https://localhost:8080/",
          "height": 52
        },
        "id": "9gz7Ey9udGVx",
        "outputId": "1fbf3433-e770-49ae-f0b2-6b5566b5717c"
      },
      "execution_count": null,
      "outputs": [
        {
          "output_type": "display_data",
          "data": {
            "text/plain": [
              "<IPython.core.display.HTML object>"
            ],
            "text/html": [
              "Finishing last run (ID:6eqseso6) before initializing another..."
            ]
          },
          "metadata": {}
        },
        {
          "output_type": "display_data",
          "data": {
            "text/plain": [
              "<IPython.core.display.HTML object>"
            ],
            "text/html": [
              "Waiting for W&B process to finish... <strong style=\"color:green\">(success).</strong>"
            ]
          },
          "metadata": {}
        }
      ]
    },
    {
      "cell_type": "code",
      "source": [
        "# model = FNO(dropout_prob=0.2, modes=16).to(device)\n",
        "# lr = 1e-4\n",
        "# opt = torch.optim.Adam(model.parameters(), lr, weight_decay=1e-3)\n",
        "# num_epochs = 500\n",
        "# scheduler = None\n",
        "# criterion = nn.MSELoss()\n",
        "\n",
        "# logs = train(model, criterion, train_loader, val_loader, scheduler, \n",
        "#              path='/content/drive/MyDrive/DL_Final_Project/results/FNO/',\n",
        "#              name='FNO_best.pth',\n",
        "#              num_epochs=num_epochs, learning_rate=lr)"
      ],
      "metadata": {
        "id": "yii_kSkInWxZ"
      },
      "execution_count": null,
      "outputs": []
    },
    {
      "cell_type": "code",
      "source": [
        "def logging_plot(logging, save_name='some_logging'):\n",
        "    logging = np.array(logging)\n",
        "    plt.plot(logging[:,0], logging[:,1], label='train_loss')\n",
        "    plt.plot(logging[:,0], logging[:,2], label='val_loss')\n",
        "    plt.legend()\n",
        "    plt.xlabel('epoch')\n",
        "    plt.ylabel('loss')\n",
        "    plt.ylim(np.min(logging[15:]), np.max(logging[15:]))\n",
        "    # np.save(f'{save_name}.npy', logging)"
      ],
      "metadata": {
        "id": "HxCQkzs4JXJM"
      },
      "execution_count": null,
      "outputs": []
    },
    {
      "cell_type": "code",
      "source": [
        "# logging_plot(logs, 'piwsm_logging_unet')"
      ],
      "metadata": {
        "id": "l2XaZm-tJXJO"
      },
      "execution_count": 1,
      "outputs": []
    },
    {
      "cell_type": "code",
      "source": [
        "folder = '/content/drive/MyDrive/DL_Final_Project/results/FNO/'\n",
        "model_name_cur = 'FNO_best.pth'"
      ],
      "metadata": {
        "id": "ZRw151zCJXJP"
      },
      "execution_count": null,
      "outputs": []
    },
    {
      "cell_type": "code",
      "source": [
        "model_path_cur = folder + model_name_cur\n",
        "model = torch.load(model_path_cur)\n",
        "model.to(device)\n",
        "model.eval()\n",
        "model.to(device)"
      ],
      "metadata": {
        "colab": {
          "base_uri": "https://localhost:8080/"
        },
        "outputId": "d3f2a840-bf29-4f66-8cd2-e25a2014300f",
        "id": "SzQFuJJkJXJQ"
      },
      "execution_count": null,
      "outputs": [
        {
          "output_type": "execute_result",
          "data": {
            "text/plain": [
              "FNO(\n",
              "  (lift): Conv2d(1, 64, kernel_size=(3, 3), stride=(1, 1), padding=(1, 1))\n",
              "  (fourier1): Fourier()\n",
              "  (fourier2): Fourier()\n",
              "  (op1): Block(\n",
              "    (conv1): Conv2d(64, 64, kernel_size=(3, 3), stride=(1, 1), padding=(1, 1))\n",
              "    (bn1): BatchNorm2d(64, eps=1e-05, momentum=0.1, affine=True, track_running_stats=True)\n",
              "    (relu1): ReLU(inplace=True)\n",
              "    (conv2): Conv2d(64, 64, kernel_size=(3, 3), stride=(1, 1), padding=(1, 1))\n",
              "    (bn2): BatchNorm2d(64, eps=1e-05, momentum=0.1, affine=True, track_running_stats=True)\n",
              "    (relu2): ReLU(inplace=True)\n",
              "    (conv3): Conv2d(64, 64, kernel_size=(3, 3), stride=(1, 1), padding=(1, 1))\n",
              "    (bn3): BatchNorm2d(64, eps=1e-05, momentum=0.1, affine=True, track_running_stats=True)\n",
              "    (relu3): ReLU(inplace=True)\n",
              "  )\n",
              "  (op2): Block(\n",
              "    (conv1): Conv2d(64, 64, kernel_size=(3, 3), stride=(1, 1), padding=(1, 1))\n",
              "    (bn1): BatchNorm2d(64, eps=1e-05, momentum=0.1, affine=True, track_running_stats=True)\n",
              "    (relu1): ReLU(inplace=True)\n",
              "    (conv2): Conv2d(64, 64, kernel_size=(3, 3), stride=(1, 1), padding=(1, 1))\n",
              "    (bn2): BatchNorm2d(64, eps=1e-05, momentum=0.1, affine=True, track_running_stats=True)\n",
              "    (relu2): ReLU(inplace=True)\n",
              "    (conv3): Conv2d(64, 64, kernel_size=(3, 3), stride=(1, 1), padding=(1, 1))\n",
              "    (bn3): BatchNorm2d(64, eps=1e-05, momentum=0.1, affine=True, track_running_stats=True)\n",
              "    (relu3): ReLU(inplace=True)\n",
              "  )\n",
              "  (op3): Block(\n",
              "    (conv1): Conv2d(64, 64, kernel_size=(3, 3), stride=(1, 1), padding=(1, 1))\n",
              "    (bn1): BatchNorm2d(64, eps=1e-05, momentum=0.1, affine=True, track_running_stats=True)\n",
              "    (relu1): ReLU(inplace=True)\n",
              "    (conv2): Conv2d(64, 64, kernel_size=(3, 3), stride=(1, 1), padding=(1, 1))\n",
              "    (bn2): BatchNorm2d(64, eps=1e-05, momentum=0.1, affine=True, track_running_stats=True)\n",
              "    (relu2): ReLU(inplace=True)\n",
              "    (conv3): Conv2d(64, 64, kernel_size=(3, 3), stride=(1, 1), padding=(1, 1))\n",
              "    (bn3): BatchNorm2d(64, eps=1e-05, momentum=0.1, affine=True, track_running_stats=True)\n",
              "    (relu3): ReLU(inplace=True)\n",
              "  )\n",
              "  (op4): Block(\n",
              "    (conv1): Conv2d(64, 64, kernel_size=(3, 3), stride=(1, 1), padding=(1, 1))\n",
              "    (bn1): BatchNorm2d(64, eps=1e-05, momentum=0.1, affine=True, track_running_stats=True)\n",
              "    (relu1): ReLU(inplace=True)\n",
              "    (conv2): Conv2d(64, 64, kernel_size=(3, 3), stride=(1, 1), padding=(1, 1))\n",
              "    (bn2): BatchNorm2d(64, eps=1e-05, momentum=0.1, affine=True, track_running_stats=True)\n",
              "    (relu2): ReLU(inplace=True)\n",
              "    (conv3): Conv2d(64, 64, kernel_size=(3, 3), stride=(1, 1), padding=(1, 1))\n",
              "    (bn3): BatchNorm2d(64, eps=1e-05, momentum=0.1, affine=True, track_running_stats=True)\n",
              "    (relu3): ReLU(inplace=True)\n",
              "  )\n",
              "  (proj): Conv2d(64, 3, kernel_size=(1, 1), stride=(1, 1))\n",
              ")"
            ]
          },
          "metadata": {},
          "execution_count": 20
        }
      ]
    },
    {
      "cell_type": "code",
      "source": [
        "len(test_dataset)"
      ],
      "metadata": {
        "colab": {
          "base_uri": "https://localhost:8080/"
        },
        "id": "hTmyQrRHOUuu",
        "outputId": "cdc08c72-97b2-49c1-8fb8-460cca0d60b9"
      },
      "execution_count": null,
      "outputs": [
        {
          "output_type": "execute_result",
          "data": {
            "text/plain": [
              "132"
            ]
          },
          "metadata": {},
          "execution_count": 21
        }
      ]
    },
    {
      "cell_type": "code",
      "source": [
        "# 3 на 10\n",
        "ex_x, ex_y = test_dataset[0]\n",
        "ex_pred = model(ex_x.unsqueeze(0).to(device, dtype=torch.float)).cpu().detach().numpy()[0]\n",
        "\n",
        "k = 2\n",
        "target = ex_y.numpy()[k]\n",
        "pred = ex_pred[k]\n",
        "diff = ex_y.numpy()[k] - ex_pred[k]\n",
        "dpi = 64\n",
        "\n",
        "plt.figure(dpi=dpi)\n",
        "plt.imshow(target, vmin=target.min(), vmax=target.max())\n",
        "plt.subplots_adjust()\n",
        "plt.colorbar()\n",
        "plt.title('Target')\n",
        "plt.show()\n",
        "\n",
        "plt.figure(dpi=dpi)\n",
        "plt.imshow(pred, vmin=target.min(), vmax=target.max())\n",
        "plt.subplots_adjust()\n",
        "plt.colorbar()\n",
        "plt.title('Pred')\n",
        "plt.show()\n",
        "\n",
        "plt.figure(dpi=dpi)\n",
        "plt.imshow(diff)\n",
        "plt.subplots_adjust()\n",
        "plt.colorbar()\n",
        "plt.title('Diff')\n",
        "plt.show()"
      ],
      "metadata": {
        "colab": {
          "base_uri": "https://localhost:8080/",
          "height": 848
        },
        "id": "gHw3m20kJXJR",
        "outputId": "792321d6-3f97-4519-d82f-d2ee17091b56"
      },
      "execution_count": null,
      "outputs": [
        {
          "output_type": "display_data",
          "data": {
            "text/plain": [
              "<Figure size 409.6x307.2 with 2 Axes>"
            ],
            "image/png": "[encoded data removed]"
          },
          "metadata": {}
        },
        {
          "output_type": "display_data",
          "data": {
            "text/plain": [
              "<Figure size 409.6x307.2 with 2 Axes>"
            ],
            "image/png": "[encoded data removed]"
          },
          "metadata": {}
        },
        {
          "output_type": "display_data",
          "data": {
            "text/plain": [
              "<Figure size 409.6x307.2 with 2 Axes>"
            ],
            "image/png": "[encoded data removed]"
          },
          "metadata": {}
        }
      ]
    },
    {
      "cell_type": "code",
      "source": [
        "test_loss = []\n",
        "criterion = nn.MSELoss()\n",
        "for i in tqdm(range(len(test_dataset))):\n",
        "    sample, target = test_dataset[i]\n",
        "    sample, target = sample.to(device, torch.float), target.to(device, torch.float).unsqueeze(0)\n",
        "    pred = model(sample.unsqueeze(0))\n",
        "    loss = criterion(pred, target)\n",
        "    test_loss.append(loss.item())\n",
        "\n",
        "print(np.sqrt(np.mean(test_loss)))"
      ],
      "metadata": {
        "colab": {
          "base_uri": "https://localhost:8080/"
        },
        "outputId": "7dc3dbab-6ac3-404c-a7d8-b762622d2b98",
        "id": "IG7dv5kEJXJR"
      },
      "execution_count": null,
      "outputs": [
        {
          "output_type": "stream",
          "name": "stderr",
          "text": [
            "100%|██████████| 132/132 [00:01<00:00, 124.65it/s]"
          ]
        },
        {
          "output_type": "stream",
          "name": "stdout",
          "text": [
            "7.602988701582081\n"
          ]
        },
        {
          "output_type": "stream",
          "name": "stderr",
          "text": [
            "\n"
          ]
        }
      ]
    },
    {
      "cell_type": "code",
      "source": [],
      "metadata": {
        "id": "3LQBA7MdJ0rO"
      },
      "execution_count": null,
      "outputs": []
    }
  ],
  "metadata": {
    "kernelspec": {
      "display_name": "env1",
      "language": "python",
      "name": "python3"
    },
    "language_info": {
      "codemirror_mode": {
        "name": "ipython",
        "version": 3
      },
      "file_extension": ".py",
      "mimetype": "text/x-python",
      "name": "python",
      "nbconvert_exporter": "python",
      "pygments_lexer": "ipython3",
      "version": "3.10.6"
    },
    "orig_nbformat": 4,
    "colab": {
      "provenance": [],
      "gpuType": "T4",
      "toc_visible": true
    },
    "gpuClass": "standard",
    "accelerator": "GPU",
    "widgets": {
      "application/vnd.jupyter.widget-state+json": {
        "e8dc1bc8e38f47c995247db026807cbc": {
          "model_module": "@jupyter-widgets/controls",
          "model_name": "HBoxModel",
          "model_module_version": "1.5.0",
          "state": {
            "_dom_classes": [],
            "_model_module": "@jupyter-widgets/controls",
            "_model_module_version": "1.5.0",
            "_model_name": "HBoxModel",
            "_view_count": null,
            "_view_module": "@jupyter-widgets/controls",
            "_view_module_version": "1.5.0",
            "_view_name": "HBoxView",
            "box_style": "",
            "children": [
              "IPY_MODEL_a11136a1b6ad4373a1de3f1e850142ee",
              "IPY_MODEL_daefe06b9a3b414d98919088dabe30de",
              "IPY_MODEL_d6ad893a40fd46ef935aab8e1b774b33"
            ],
            "layout": "IPY_MODEL_e6beed37758942589b31f9bc313db5c2"
          }
        },
        "a11136a1b6ad4373a1de3f1e850142ee": {
          "model_module": "@jupyter-widgets/controls",
          "model_name": "HTMLModel",
          "model_module_version": "1.5.0",
          "state": {
            "_dom_classes": [],
            "_model_module": "@jupyter-widgets/controls",
            "_model_module_version": "1.5.0",
            "_model_name": "HTMLModel",
            "_view_count": null,
            "_view_module": "@jupyter-widgets/controls",
            "_view_module_version": "1.5.0",
            "_view_name": "HTMLView",
            "description": "",
            "description_tooltip": null,
            "layout": "IPY_MODEL_3e7e9c879dae4184b5820f46f8714a79",
            "placeholder": "​",
            "style": "IPY_MODEL_4a570a26b81d484db200dfb449f75c80",
            "value": "100%"
          }
        },
        "daefe06b9a3b414d98919088dabe30de": {
          "model_module": "@jupyter-widgets/controls",
          "model_name": "FloatProgressModel",
          "model_module_version": "1.5.0",
          "state": {
            "_dom_classes": [],
            "_model_module": "@jupyter-widgets/controls",
            "_model_module_version": "1.5.0",
            "_model_name": "FloatProgressModel",
            "_view_count": null,
            "_view_module": "@jupyter-widgets/controls",
            "_view_module_version": "1.5.0",
            "_view_name": "ProgressView",
            "bar_style": "success",
            "description": "",
            "description_tooltip": null,
            "layout": "IPY_MODEL_ea7e801f4eb749718f72a3e7985e2ff5",
            "max": 1317,
            "min": 0,
            "orientation": "horizontal",
            "style": "IPY_MODEL_02c775fcf3414cecb7442eb8141c9df2",
            "value": 1317
          }
        },
        "d6ad893a40fd46ef935aab8e1b774b33": {
          "model_module": "@jupyter-widgets/controls",
          "model_name": "HTMLModel",
          "model_module_version": "1.5.0",
          "state": {
            "_dom_classes": [],
            "_model_module": "@jupyter-widgets/controls",
            "_model_module_version": "1.5.0",
            "_model_name": "HTMLModel",
            "_view_count": null,
            "_view_module": "@jupyter-widgets/controls",
            "_view_module_version": "1.5.0",
            "_view_name": "HTMLView",
            "description": "",
            "description_tooltip": null,
            "layout": "IPY_MODEL_b88b987f011c4e9caab2d9576f4273a8",
            "placeholder": "​",
            "style": "IPY_MODEL_1ee81eb8ba794cf5b69807f3abf8be6f",
            "value": " 1317/1317 [00:00&lt;00:00, 29387.91it/s]"
          }
        },
        "e6beed37758942589b31f9bc313db5c2": {
          "model_module": "@jupyter-widgets/base",
          "model_name": "LayoutModel",
          "model_module_version": "1.2.0",
          "state": {
            "_model_module": "@jupyter-widgets/base",
            "_model_module_version": "1.2.0",
            "_model_name": "LayoutModel",
            "_view_count": null,
            "_view_module": "@jupyter-widgets/base",
            "_view_module_version": "1.2.0",
            "_view_name": "LayoutView",
            "align_content": null,
            "align_items": null,
            "align_self": null,
            "border": null,
            "bottom": null,
            "display": null,
            "flex": null,
            "flex_flow": null,
            "grid_area": null,
            "grid_auto_columns": null,
            "grid_auto_flow": null,
            "grid_auto_rows": null,
            "grid_column": null,
            "grid_gap": null,
            "grid_row": null,
            "grid_template_areas": null,
            "grid_template_columns": null,
            "grid_template_rows": null,
            "height": null,
            "justify_content": null,
            "justify_items": null,
            "left": null,
            "margin": null,
            "max_height": null,
            "max_width": null,
            "min_height": null,
            "min_width": null,
            "object_fit": null,
            "object_position": null,
            "order": null,
            "overflow": null,
            "overflow_x": null,
            "overflow_y": null,
            "padding": null,
            "right": null,
            "top": null,
            "visibility": null,
            "width": null
          }
        },
        "3e7e9c879dae4184b5820f46f8714a79": {
          "model_module": "@jupyter-widgets/base",
          "model_name": "LayoutModel",
          "model_module_version": "1.2.0",
          "state": {
            "_model_module": "@jupyter-widgets/base",
            "_model_module_version": "1.2.0",
            "_model_name": "LayoutModel",
            "_view_count": null,
            "_view_module": "@jupyter-widgets/base",
            "_view_module_version": "1.2.0",
            "_view_name": "LayoutView",
            "align_content": null,
            "align_items": null,
            "align_self": null,
            "border": null,
            "bottom": null,
            "display": null,
            "flex": null,
            "flex_flow": null,
            "grid_area": null,
            "grid_auto_columns": null,
            "grid_auto_flow": null,
            "grid_auto_rows": null,
            "grid_column": null,
            "grid_gap": null,
            "grid_row": null,
            "grid_template_areas": null,
            "grid_template_columns": null,
            "grid_template_rows": null,
            "height": null,
            "justify_content": null,
            "justify_items": null,
            "left": null,
            "margin": null,
            "max_height": null,
            "max_width": null,
            "min_height": null,
            "min_width": null,
            "object_fit": null,
            "object_position": null,
            "order": null,
            "overflow": null,
            "overflow_x": null,
            "overflow_y": null,
            "padding": null,
            "right": null,
            "top": null,
            "visibility": null,
            "width": null
          }
        },
        "4a570a26b81d484db200dfb449f75c80": {
          "model_module": "@jupyter-widgets/controls",
          "model_name": "DescriptionStyleModel",
          "model_module_version": "1.5.0",
          "state": {
            "_model_module": "@jupyter-widgets/controls",
            "_model_module_version": "1.5.0",
            "_model_name": "DescriptionStyleModel",
            "_view_count": null,
            "_view_module": "@jupyter-widgets/base",
            "_view_module_version": "1.2.0",
            "_view_name": "StyleView",
            "description_width": ""
          }
        },
        "ea7e801f4eb749718f72a3e7985e2ff5": {
          "model_module": "@jupyter-widgets/base",
          "model_name": "LayoutModel",
          "model_module_version": "1.2.0",
          "state": {
            "_model_module": "@jupyter-widgets/base",
            "_model_module_version": "1.2.0",
            "_model_name": "LayoutModel",
            "_view_count": null,
            "_view_module": "@jupyter-widgets/base",
            "_view_module_version": "1.2.0",
            "_view_name": "LayoutView",
            "align_content": null,
            "align_items": null,
            "align_self": null,
            "border": null,
            "bottom": null,
            "display": null,
            "flex": null,
            "flex_flow": null,
            "grid_area": null,
            "grid_auto_columns": null,
            "grid_auto_flow": null,
            "grid_auto_rows": null,
            "grid_column": null,
            "grid_gap": null,
            "grid_row": null,
            "grid_template_areas": null,
            "grid_template_columns": null,
            "grid_template_rows": null,
            "height": null,
            "justify_content": null,
            "justify_items": null,
            "left": null,
            "margin": null,
            "max_height": null,
            "max_width": null,
            "min_height": null,
            "min_width": null,
            "object_fit": null,
            "object_position": null,
            "order": null,
            "overflow": null,
            "overflow_x": null,
            "overflow_y": null,
            "padding": null,
            "right": null,
            "top": null,
            "visibility": null,
            "width": null
          }
        },
        "02c775fcf3414cecb7442eb8141c9df2": {
          "model_module": "@jupyter-widgets/controls",
          "model_name": "ProgressStyleModel",
          "model_module_version": "1.5.0",
          "state": {
            "_model_module": "@jupyter-widgets/controls",
            "_model_module_version": "1.5.0",
            "_model_name": "ProgressStyleModel",
            "_view_count": null,
            "_view_module": "@jupyter-widgets/base",
            "_view_module_version": "1.2.0",
            "_view_name": "StyleView",
            "bar_color": null,
            "description_width": ""
          }
        },
        "b88b987f011c4e9caab2d9576f4273a8": {
          "model_module": "@jupyter-widgets/base",
          "model_name": "LayoutModel",
          "model_module_version": "1.2.0",
          "state": {
            "_model_module": "@jupyter-widgets/base",
            "_model_module_version": "1.2.0",
            "_model_name": "LayoutModel",
            "_view_count": null,
            "_view_module": "@jupyter-widgets/base",
            "_view_module_version": "1.2.0",
            "_view_name": "LayoutView",
            "align_content": null,
            "align_items": null,
            "align_self": null,
            "border": null,
            "bottom": null,
            "display": null,
            "flex": null,
            "flex_flow": null,
            "grid_area": null,
            "grid_auto_columns": null,
            "grid_auto_flow": null,
            "grid_auto_rows": null,
            "grid_column": null,
            "grid_gap": null,
            "grid_row": null,
            "grid_template_areas": null,
            "grid_template_columns": null,
            "grid_template_rows": null,
            "height": null,
            "justify_content": null,
            "justify_items": null,
            "left": null,
            "margin": null,
            "max_height": null,
            "max_width": null,
            "min_height": null,
            "min_width": null,
            "object_fit": null,
            "object_position": null,
            "order": null,
            "overflow": null,
            "overflow_x": null,
            "overflow_y": null,
            "padding": null,
            "right": null,
            "top": null,
            "visibility": null,
            "width": null
          }
        },
        "1ee81eb8ba794cf5b69807f3abf8be6f": {
          "model_module": "@jupyter-widgets/controls",
          "model_name": "DescriptionStyleModel",
          "model_module_version": "1.5.0",
          "state": {
            "_model_module": "@jupyter-widgets/controls",
            "_model_module_version": "1.5.0",
            "_model_name": "DescriptionStyleModel",
            "_view_count": null,
            "_view_module": "@jupyter-widgets/base",
            "_view_module_version": "1.2.0",
            "_view_name": "StyleView",
            "description_width": ""
          }
        }
      }
    }
  },
  "nbformat": 4,
  "nbformat_minor": 0
}