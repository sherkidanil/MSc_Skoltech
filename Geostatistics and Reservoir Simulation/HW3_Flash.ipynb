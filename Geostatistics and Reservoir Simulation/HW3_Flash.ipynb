{
 "cells": [
  {
   "cell_type": "markdown",
   "source": [
    "# Homework 3\n",
    "\n",
    "Daniil Sherki\n",
    "\n",
    "# Problem statement\n",
    "\n",
    "A hydrocarbon mixture with the following overall composition is flashed in a\n",
    "separator at 50 psia and 100°F. (You need to use Cox Chart)\n",
    "\n",
    "| Component  | $z_i$ |\n",
    "|------------|-------|\n",
    "| $C_3$      | 0.20  |\n",
    "| $i-C_4$    | 0.10  |\n",
    "| $n-C_4$    | 0.10  |\n",
    "| $i-C_5$    | 0.20  |\n",
    "| $n-C_5$    | 0.20  |\n",
    "| $C_6$      | 0.20  |\n",
    "\n",
    "Assuming an ideal solution behavior, perform flash calculations.\n",
    "\n",
    "# Solution\n",
    "\n",
    "## Import libraries and initial data"
   ],
   "metadata": {
    "collapsed": false
   }
  },
  {
   "cell_type": "code",
   "execution_count": 1,
   "outputs": [],
   "source": [
    "import numpy as np\n",
    "import pandas as pd\n",
    "import matplotlib.pyplot as plt"
   ],
   "metadata": {
    "collapsed": false,
    "ExecuteTime": {
     "start_time": "2023-04-06T14:57:53.356947Z",
     "end_time": "2023-04-06T14:57:55.262823Z"
    }
   }
  },
  {
   "cell_type": "code",
   "execution_count": 2,
   "outputs": [],
   "source": [
    "# conversion functions to convert one measurement systems into other\n",
    "\n",
    "class Conversion():\n",
    "    def __init__(self):\n",
    "        pass\n",
    "\n",
    "    def R2F(self, x):\n",
    "        '''\n",
    "        ** Temperature **\n",
    "        Rankine degrees into Fahrenheit degrees\n",
    "        :param x: float; // R degress\n",
    "        :return: float. // F degrees\n",
    "        '''\n",
    "        return x - 459.67\n",
    "\n",
    "    def F2R(self, x):\n",
    "        '''\n",
    "        ** Temperature **\n",
    "        Fahrenheit degrees into Rankine degrees\n",
    "        :param x: float; // F degress\n",
    "        :return: float. // R degrees\n",
    "        '''\n",
    "        return x + 459.67\n",
    "\n",
    "    def psia2bar(self, x):\n",
    "        '''\n",
    "        ** Pressure **\n",
    "        pisa into bar\n",
    "        1 psi = 0.0689475729 bar\n",
    "        :param x: float; // psia\n",
    "        :return: float. // bar\n",
    "        '''\n",
    "        return 0.0689475729 * x\n",
    "\n",
    "    def bar2psia(self, x):\n",
    "        '''\n",
    "        ** Pressure **\n",
    "        bar into psia\n",
    "        1 bar = 14.503773773 psi\n",
    "        :param x: float; // bar\n",
    "        :return: float. // psia\n",
    "        '''\n",
    "        return 14.503773773 * x\n",
    "\n",
    "c = Conversion()"
   ],
   "metadata": {
    "collapsed": false,
    "ExecuteTime": {
     "start_time": "2023-04-06T14:57:57.867858Z",
     "end_time": "2023-04-06T14:57:57.874904Z"
    }
   }
  },
  {
   "cell_type": "code",
   "execution_count": 4,
   "outputs": [
    {
     "data": {
      "text/plain": "  Component  z_i\n0        C3  0.2\n1       iC4  0.1\n2       nC4  0.1\n3       iC5  0.2\n4       nC5  0.2\n5        C6  0.2",
      "text/html": "<div>\n<style scoped>\n    .dataframe tbody tr th:only-of-type {\n        vertical-align: middle;\n    }\n\n    .dataframe tbody tr th {\n        vertical-align: top;\n    }\n\n    .dataframe thead th {\n        text-align: right;\n    }\n</style>\n<table border=\"1\" class=\"dataframe\">\n  <thead>\n    <tr style=\"text-align: right;\">\n      <th></th>\n      <th>Component</th>\n      <th>z_i</th>\n    </tr>\n  </thead>\n  <tbody>\n    <tr>\n      <th>0</th>\n      <td>C3</td>\n      <td>0.2</td>\n    </tr>\n    <tr>\n      <th>1</th>\n      <td>iC4</td>\n      <td>0.1</td>\n    </tr>\n    <tr>\n      <th>2</th>\n      <td>nC4</td>\n      <td>0.1</td>\n    </tr>\n    <tr>\n      <th>3</th>\n      <td>iC5</td>\n      <td>0.2</td>\n    </tr>\n    <tr>\n      <th>4</th>\n      <td>nC5</td>\n      <td>0.2</td>\n    </tr>\n    <tr>\n      <th>5</th>\n      <td>C6</td>\n      <td>0.2</td>\n    </tr>\n  </tbody>\n</table>\n</div>"
     },
     "execution_count": 4,
     "metadata": {},
     "output_type": "execute_result"
    }
   ],
   "source": [
    "df = pd.DataFrame({'Component':['C3', 'iC4', 'nC4', 'iC5', 'nC5', 'C6'],\n",
    "                   'z_i': [0.2, 0.1, 0.1, 0.2, 0.2, 0.2]})\n",
    "df"
   ],
   "metadata": {
    "collapsed": false,
    "ExecuteTime": {
     "start_time": "2023-04-06T14:59:17.541656Z",
     "end_time": "2023-04-06T14:59:17.548263Z"
    }
   }
  },
  {
   "cell_type": "markdown",
   "source": [
    "# 1. Determining the vapor pressure $p_{vi}$ from the Cox chart and calculating the equilibrium ratios."
   ],
   "metadata": {
    "collapsed": false
   }
  },
  {
   "cell_type": "markdown",
   "source": [
    "$$ K_i = \\frac{y_i}{x_i} $$\n",
    "\n",
    "where\n",
    "$K_i$ - equilibrium ratio of component $i$\n",
    "$y_i$ - mole fraction of component $i$ in the gas phase\n",
    "$x_i$ - mole fraction of component $i$ in the liquid phase\n",
    "\n",
    "By definition,\n",
    "\n",
    "$$ p_i = x_i p_{vi} $$\n",
    "\n",
    "$$ p_i = y_i p $$\n",
    "\n",
    "$p_i$ - partial pressure of a component i, psia\n",
    "$p_{vi}$ - vapor pressure of component i, psia\n",
    "\n",
    "Thus,\n",
    "\n",
    "$$ K_i = \\frac{y_i}{x_i} = \\frac{p_{vi}}{p}$$"
   ],
   "metadata": {
    "collapsed": false
   }
  },
  {
   "cell_type": "code",
   "execution_count": 9,
   "outputs": [
    {
     "data": {
      "text/plain": "  Component  z_i  p_vi_100F      K_i\n0        C3  0.2    190.000  3.80000\n1       iC4  0.1     72.200  1.44400\n2       nC4  0.1     51.600  1.03200\n3       iC5  0.2     20.440  0.40880\n4       nC5  0.2     15.570  0.31140\n5        C6  0.2      4.956  0.09912",
      "text/html": "<div>\n<style scoped>\n    .dataframe tbody tr th:only-of-type {\n        vertical-align: middle;\n    }\n\n    .dataframe tbody tr th {\n        vertical-align: top;\n    }\n\n    .dataframe thead th {\n        text-align: right;\n    }\n</style>\n<table border=\"1\" class=\"dataframe\">\n  <thead>\n    <tr style=\"text-align: right;\">\n      <th></th>\n      <th>Component</th>\n      <th>z_i</th>\n      <th>p_vi_100F</th>\n      <th>K_i</th>\n    </tr>\n  </thead>\n  <tbody>\n    <tr>\n      <th>0</th>\n      <td>C3</td>\n      <td>0.2</td>\n      <td>190.000</td>\n      <td>3.80000</td>\n    </tr>\n    <tr>\n      <th>1</th>\n      <td>iC4</td>\n      <td>0.1</td>\n      <td>72.200</td>\n      <td>1.44400</td>\n    </tr>\n    <tr>\n      <th>2</th>\n      <td>nC4</td>\n      <td>0.1</td>\n      <td>51.600</td>\n      <td>1.03200</td>\n    </tr>\n    <tr>\n      <th>3</th>\n      <td>iC5</td>\n      <td>0.2</td>\n      <td>20.440</td>\n      <td>0.40880</td>\n    </tr>\n    <tr>\n      <th>4</th>\n      <td>nC5</td>\n      <td>0.2</td>\n      <td>15.570</td>\n      <td>0.31140</td>\n    </tr>\n    <tr>\n      <th>5</th>\n      <td>C6</td>\n      <td>0.2</td>\n      <td>4.956</td>\n      <td>0.09912</td>\n    </tr>\n  </tbody>\n</table>\n</div>"
     },
     "execution_count": 9,
     "metadata": {},
     "output_type": "execute_result"
    }
   ],
   "source": [
    "p = 50\n",
    "df['p_vi_100F'] = [190, 72.2, 51.6, 20.44, 15.57, 4.956]\n",
    "df['K_i'] = df['p_vi_100F'] / p\n",
    "df"
   ],
   "metadata": {
    "collapsed": false,
    "ExecuteTime": {
     "start_time": "2023-04-06T18:41:24.599551Z",
     "end_time": "2023-04-06T18:41:24.602452Z"
    }
   }
  },
  {
   "cell_type": "markdown",
   "source": [
    "# 2. Solving equations for $n_v$ using the Newton-Raphson method.\n",
    "\n",
    "By definition,\n",
    "\n",
    "$$ n_L + n_v = n_t$$\n",
    "\n",
    "$n_t$ - total number of moles of the hydrocarbon mixture, lb-mol\n",
    "$n_L$ - total number of moles in the liquid phase\n",
    "$n_v$ - total number of moles in the vapor (gas) phase\n",
    "\n",
    "A material balance on the ith component results in\n",
    "\n",
    "$$z_i n_t = x_i n_L + y_i n_v$$\n",
    "\n",
    "$z_i n_t$ - total number of moles of component $i$ in the system\n",
    "$x_i n_L$ - total number of moles of component $i$ in the liquid phase\n",
    "$y_i n_v$ - total number of moles of component $i$ in the vapor phase\n",
    "\n",
    "Also, by the definition of the total mole fraction in a hydrocarbon system, we may write:\n",
    "\n",
    "$$ \\sum_i z_i = 1$$\n",
    "$$ \\sum_i x_i = 1$$\n",
    "$$ \\sum_i y_i = 1$$\n",
    "\n",
    "Thus,\n",
    "$$ n_L + n_v = 1$$\n",
    "\n",
    "And\n",
    "$$x_i n_L + y_i n_v = z_i$$\n",
    "$$x_i n_L + (x_i K_i) n_v = z_i$$\n",
    "\n",
    "$$x_i = \\frac{z_i}{n_L + n_v K_i}$$\n",
    "$$y_i = \\frac{z_i K_i}{n_L + n_v K_i} = x_i K_i$$\n",
    "\n",
    "$$\\sum_i x_i = \\sum_i \\frac{z_i}{n_L + n_v K_i}$$\n",
    "$$\\sum_i y_i = \\sum_i \\frac{z_i K_i}{n_L + n_v K_i} = x_i K_i$$\n",
    "$$\\sum_i y_i - \\sum_i x_i = 0$$\n",
    "\n",
    "$$\\sum_i \\frac{z_i K_i}{n_L + n_v K_i } - \\sum_i \\frac{z_i}{n_L + n_v K_i} = 0$$\n",
    "\n",
    "$$\\sum_i \\frac{z_i (K_i - 1)}{n_L + n_v K_i } = 0$$\n",
    "\n",
    "$$n_L = 1 - n_v$$\n",
    "\n",
    "And we need solve this equation using Newton-Raphson method\n",
    "$$f(n_v) = \\sum_i \\frac{z_i (K_i - 1)}{n_v(K_i - 1) + 1} = 0$$\n",
    "\n",
    "$$f'(n_v) = \\sum_i \\frac{z_i (K_i - 1)^2}{\\left[ n_v(K_i - 1) + 1 \\right]^2}$$"
   ],
   "metadata": {
    "collapsed": false
   }
  },
  {
   "cell_type": "code",
   "execution_count": 16,
   "outputs": [
    {
     "name": "stdout",
     "output_type": "stream",
     "text": [
      "iter:0, n_v:0.5, f(n_v):-0.4329324407046753\n",
      "iter:1, n_v:0.13447869641957455, f(n_v):-0.033338684842064786\n",
      "iter:2, n_v:0.1078713170015532, f(n_v):0.0010190875883279715\n",
      "iter:3, n_v:0.10863610135783802, f(n_v):9.719274248476406e-07\n",
      "iter:4, n_v:0.1086368321428544, f(n_v):8.838207943284715e-13\n",
      "iter:5, n_v:0.10863683214351894, f(n_v):-5.551115123125783e-17\n"
     ]
    }
   ],
   "source": [
    "def f_n_v(n_v, z=df['z_i'], K=df['K_i']):\n",
    "    '''f(n_v)\n",
    "    :param n_v: float;\n",
    "    :param z: pandas.Series;\n",
    "    :param K: pandas.Series;\n",
    "    :return: flaot.\n",
    "    '''\n",
    "    out = 0\n",
    "    for i in range(len(z)):\n",
    "       out += z[i]*(K[i]-1)/(n_v * (K[i] - 1)+1)\n",
    "    return out\n",
    "\n",
    "def grad_f_n_v(n_v, z=df['z_i'], K=df['K_i']):\n",
    "   '''\n",
    "   f'(n_v)\n",
    "   :param n_v: float;\n",
    "   :param z: pandas.Series;\n",
    "   :param K: pandas.Series;\n",
    "   :return: flaot.\n",
    "   '''\n",
    "   out = 0\n",
    "   for i in range(len(z)):\n",
    "       out += - z[i]*(K[i]-1)**2/(n_v * (K[i] - 1)+1)**2\n",
    "   return out\n",
    "\n",
    "def Newton_Raphson_method(x0 = 0.5, func = f_n_v, grad_func = grad_f_n_v, disp = True):\n",
    "        '''\n",
    "        Newton-Raphson method to find zero value of reduced density equation\n",
    "        f(x) = 0\n",
    "        :param x0: float; // initial point\n",
    "        :param func: function; // function, which we want to make equal zero\n",
    "        :param grad_func: function; // gradient function\n",
    "        :param disp: Boolean; // do we need disp iter res or not\n",
    "        :return: (float, float). // value function and x*\n",
    "        '''\n",
    "        i = 0\n",
    "        x = x0\n",
    "        x_prev = 0\n",
    "        while abs(x - x_prev) > 1e-12:\n",
    "            if disp:\n",
    "                print(f'iter:{i}, n_v:{x}, f(n_v):{func(x)}')\n",
    "            i+=1\n",
    "            x_prev = x\n",
    "            x = x_prev - func(x)/grad_func(x)\n",
    "        if disp:\n",
    "            print(f'iter:{i}, n_v:{x}, f(n_v):{func(x)}')\n",
    "        return func(x), x\n",
    "\n",
    "f_n_v_val, n_v = Newton_Raphson_method()"
   ],
   "metadata": {
    "collapsed": false,
    "ExecuteTime": {
     "start_time": "2023-04-06T19:37:02.564568Z",
     "end_time": "2023-04-06T19:37:02.572069Z"
    }
   }
  },
  {
   "cell_type": "code",
   "execution_count": 17,
   "outputs": [
    {
     "name": "stdout",
     "output_type": "stream",
     "text": [
      "This, n_v = 0.10863683214351894\n"
     ]
    }
   ],
   "source": [
    "print(f'This, n_v = {n_v}')"
   ],
   "metadata": {
    "collapsed": false,
    "ExecuteTime": {
     "start_time": "2023-04-06T19:37:03.361139Z",
     "end_time": "2023-04-06T19:37:03.371503Z"
    }
   }
  },
  {
   "cell_type": "markdown",
   "source": [
    "# 3. Solution for $n_L$"
   ],
   "metadata": {
    "collapsed": false
   }
  },
  {
   "cell_type": "code",
   "execution_count": 18,
   "outputs": [
    {
     "name": "stdout",
     "output_type": "stream",
     "text": [
      "This, n_L = 0.8913631678564811\n"
     ]
    }
   ],
   "source": [
    "n_L = 1- n_v\n",
    "print(f'This, n_L = {n_L}')"
   ],
   "metadata": {
    "collapsed": false,
    "ExecuteTime": {
     "start_time": "2023-04-06T19:37:04.191005Z",
     "end_time": "2023-04-06T19:37:04.193370Z"
    }
   }
  },
  {
   "cell_type": "markdown",
   "source": [
    "# 4. Solution for $x_i$ and $y_i$ to yield\n",
    "\n",
    "\n",
    "$$x_i = \\frac{z_i}{n_L + n_v K_i}$$\n",
    "$$y_i = x_i K_i$$"
   ],
   "metadata": {
    "collapsed": false
   }
  },
  {
   "cell_type": "code",
   "execution_count": 19,
   "outputs": [
    {
     "data": {
      "text/plain": "  Component  z_i  p_vi_100F      K_i       x_i       y_i\n0        C3  0.2    190.000  3.80000  0.153353  0.582740\n1       iC4  0.1     72.200  1.44400  0.095398  0.137755\n2       nC4  0.1     51.600  1.03200  0.099654  0.102842\n3       iC5  0.2     20.440  0.40880  0.213727  0.087372\n4       nC5  0.2     15.570  0.31140  0.216171  0.067316\n5        C6  0.2      4.956  0.09912  0.221697  0.021975",
      "text/html": "<div>\n<style scoped>\n    .dataframe tbody tr th:only-of-type {\n        vertical-align: middle;\n    }\n\n    .dataframe tbody tr th {\n        vertical-align: top;\n    }\n\n    .dataframe thead th {\n        text-align: right;\n    }\n</style>\n<table border=\"1\" class=\"dataframe\">\n  <thead>\n    <tr style=\"text-align: right;\">\n      <th></th>\n      <th>Component</th>\n      <th>z_i</th>\n      <th>p_vi_100F</th>\n      <th>K_i</th>\n      <th>x_i</th>\n      <th>y_i</th>\n    </tr>\n  </thead>\n  <tbody>\n    <tr>\n      <th>0</th>\n      <td>C3</td>\n      <td>0.2</td>\n      <td>190.000</td>\n      <td>3.80000</td>\n      <td>0.153353</td>\n      <td>0.582740</td>\n    </tr>\n    <tr>\n      <th>1</th>\n      <td>iC4</td>\n      <td>0.1</td>\n      <td>72.200</td>\n      <td>1.44400</td>\n      <td>0.095398</td>\n      <td>0.137755</td>\n    </tr>\n    <tr>\n      <th>2</th>\n      <td>nC4</td>\n      <td>0.1</td>\n      <td>51.600</td>\n      <td>1.03200</td>\n      <td>0.099654</td>\n      <td>0.102842</td>\n    </tr>\n    <tr>\n      <th>3</th>\n      <td>iC5</td>\n      <td>0.2</td>\n      <td>20.440</td>\n      <td>0.40880</td>\n      <td>0.213727</td>\n      <td>0.087372</td>\n    </tr>\n    <tr>\n      <th>4</th>\n      <td>nC5</td>\n      <td>0.2</td>\n      <td>15.570</td>\n      <td>0.31140</td>\n      <td>0.216171</td>\n      <td>0.067316</td>\n    </tr>\n    <tr>\n      <th>5</th>\n      <td>C6</td>\n      <td>0.2</td>\n      <td>4.956</td>\n      <td>0.09912</td>\n      <td>0.221697</td>\n      <td>0.021975</td>\n    </tr>\n  </tbody>\n</table>\n</div>"
     },
     "execution_count": 19,
     "metadata": {},
     "output_type": "execute_result"
    }
   ],
   "source": [
    "df['x_i'] = df['z_i']/(n_L + n_v * df['K_i'])\n",
    "df['y_i'] = df['x_i'] * df['K_i']\n",
    "df"
   ],
   "metadata": {
    "collapsed": false,
    "ExecuteTime": {
     "start_time": "2023-04-06T19:37:05.109278Z",
     "end_time": "2023-04-06T19:37:05.126145Z"
    }
   }
  }
 ],
 "metadata": {
  "kernelspec": {
   "display_name": "Python 3",
   "language": "python",
   "name": "python3"
  },
  "language_info": {
   "codemirror_mode": {
    "name": "ipython",
    "version": 2
   },
   "file_extension": ".py",
   "mimetype": "text/x-python",
   "name": "python",
   "nbconvert_exporter": "python",
   "pygments_lexer": "ipython2",
   "version": "2.7.6"
  }
 },
 "nbformat": 4,
 "nbformat_minor": 0
}
