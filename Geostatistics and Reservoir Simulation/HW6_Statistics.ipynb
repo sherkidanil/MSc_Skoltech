{
 "cells": [
  {
   "cell_type": "markdown",
   "source": [
    "# Homework 6\n",
    "\n",
    "Daniil Sherki"
   ],
   "metadata": {
    "collapsed": false
   }
  },
  {
   "cell_type": "markdown",
   "metadata": {},
   "source": [
    "### Task 1:\n",
    "Investigate the effect of regularisation on the solution of the following inverse problem. The vector m is 40-dimensional. Four measurements related to m have been made.\n",
    "$$d_1=m_4$$\n",
    "$$d_2=m_5$$<br>\n",
    "$$d_3=\\frac{1}{2}(m_{12}+m_{13})$$\n",
    "$$d_4=m_{31}−m_{30}$$\n",
    "The problem is clearly underdetermined. Find solutions by minimising the following objective function.\n",
    "$$S(m)=\\frac{1}{2}(m−m_0)^TW(m−m_0)+\\frac{1}{2}(Gm−d_{obs})^T(Gm−d_{obs})$$\n",
    "with the following regularisation terms:\n",
    "$$W=I$$\n",
    "$$W=D^T D$$\n",
    "$$W=(D^2)^T D^2$$\n",
    "$$W=(D^2)^T D^2+0.05 I $$\n",
    "\n",
    "With observed data,\n",
    "$$d_{obs}=\n",
    "\\begin{pmatrix}\n",
    "5.735 \\\\\n",
    "2.577 \\\\\n",
    "4.409 \\\\\n",
    "0.3497\n",
    "\\end{pmatrix}$$\n",
    "and with a prior estimate $m_0=5.5$.\n",
    "Note that here, $D^2$ denotes the finite difference approximation to the second derivative operator $(−1m_{i−1}+2m_i−1m_{i+1})$.\n",
    "\n",
    "Plot your estimates for each regularisation term."
   ]
  },
  {
   "cell_type": "code",
   "execution_count": 26,
   "metadata": {
    "pycharm": {
     "is_executing": true
    },
    "ExecuteTime": {
     "end_time": "2023-05-05T17:34:39.284161Z",
     "start_time": "2023-05-05T17:34:39.219504Z"
    }
   },
   "outputs": [],
   "source": [
    "import pandas as pd\n",
    "import numpy as np\n",
    "import matplotlib.pyplot as plt\n",
    "\n",
    "%matplotlib inline\n",
    "\n",
    "from scipy.optimize import minimize\n",
    "from sympy import symbols, integrate\n",
    "\n",
    "import warnings\n",
    "warnings.filterwarnings('ignore')"
   ]
  },
  {
   "cell_type": "code",
   "execution_count": 27,
   "metadata": {
    "pycharm": {
     "is_executing": true
    },
    "ExecuteTime": {
     "end_time": "2023-05-05T17:34:39.284674Z",
     "start_time": "2023-05-05T17:34:39.224082Z"
    }
   },
   "outputs": [],
   "source": [
    "#Initial data:\n",
    "\n",
    "#Prior estimate vector:\n",
    "m_0 = 5.5\n",
    "m0 = m_0 * np.ones((40,1), dtype='single')\n",
    "\n",
    "\n",
    "#Measured data:\n",
    "dobs = np.array([5.735, 2.577, 4.409, 0.3497])"
   ]
  },
  {
   "cell_type": "code",
   "execution_count": 28,
   "outputs": [],
   "source": [
    "# Define finite difference operators\n",
    "def D(m):\n",
    "    return np.diff(m)\n",
    "\n",
    "def D2(m):\n",
    "    return np.diff(np.diff(m))\n",
    "\n",
    "# Define objective function and gradient\n",
    "def objective_function(m, regularization_type):\n",
    "    W = np.identity(len(m))\n",
    "    if regularization_type == 2:\n",
    "        W = np.dot(D(m).T, D(m))\n",
    "    elif regularization_type  == 3:\n",
    "        W = np.dot(D2(m).T, D2(m))\n",
    "    else:\n",
    "        W = np.dot(D2(m).T, D2(m)) + 0.05*np.identity(len(m))\n",
    "\n",
    "    G = np.zeros((4, len(m)))\n",
    "    G[0, 3] = 1\n",
    "    G[1, 4] = 1\n",
    "    G[2, 11:13] = 0.5\n",
    "    G[3, 31] = 1\n",
    "    G[3, 30] = -1\n",
    "\n",
    "    S = 0.5 * np.dot(np.dot((m - m_0).T, W), m - m_0) + 0.5 * np.dot(np.dot((np.dot(G, m) - dobs).T, np.identity(4)), np.dot(G, m) - dobs)\n",
    "    return S\n",
    "\n",
    "def gradient(m, regularization_type):\n",
    "    W = np.identity(len(m))\n",
    "    if regularization_type == 2:\n",
    "        W = np.dot(D(m).T, D(m))\n",
    "    elif regularization_type == 3:\n",
    "        W = np.dot(D2(m).T, D2(m))\n",
    "    else:\n",
    "        W = np.dot(D2(m).T, D2(m)) + 0.05*np.identity(len(m))\n",
    "\n",
    "    G = np.zeros((4, len(m)))\n",
    "    G[0, 3] = 1\n",
    "    G[1, 4] = 1\n",
    "    G[2, 11:13] = 0.5\n",
    "    G[3, 31] = 1\n",
    "    G[3, 30] = -1\n",
    "\n",
    "    grad = np.dot(W, (m - m_0)) + np.dot(np.dot(G.T, np.identity(4)), np.dot(G, m) - dobs)\n",
    "    return grad"
   ],
   "metadata": {
    "collapsed": false,
    "ExecuteTime": {
     "end_time": "2023-05-05T17:34:39.321442Z",
     "start_time": "2023-05-05T17:34:39.233927Z"
    }
   }
  },
  {
   "cell_type": "markdown",
   "metadata": {},
   "source": [
    "### a) First case\n",
    "\n",
    "$$W = I $$"
   ]
  },
  {
   "cell_type": "code",
   "execution_count": 29,
   "metadata": {
    "ExecuteTime": {
     "end_time": "2023-05-05T17:34:39.321939Z",
     "start_time": "2023-05-05T17:34:39.237401Z"
    }
   },
   "outputs": [],
   "source": [
    "sol1 = minimize(objective_function, m0, args=(1), jac=gradient, method='L-BFGS-B').x"
   ]
  },
  {
   "cell_type": "markdown",
   "source": [
    "### b) Second case :\n",
    "\n",
    "$$W = D^TD$$"
   ],
   "metadata": {
    "collapsed": false
   }
  },
  {
   "cell_type": "code",
   "execution_count": 30,
   "metadata": {
    "ExecuteTime": {
     "end_time": "2023-05-05T17:34:39.322286Z",
     "start_time": "2023-05-05T17:34:39.247842Z"
    }
   },
   "outputs": [],
   "source": [
    "sol2 = minimize(objective_function, m0, args=(2), jac=gradient, method='L-BFGS-B').x"
   ]
  },
  {
   "cell_type": "markdown",
   "metadata": {},
   "source": [
    "### c) Third case:\n",
    "\n",
    "$$W = (D^2)^TD^2$$\n"
   ]
  },
  {
   "cell_type": "code",
   "execution_count": 31,
   "metadata": {
    "ExecuteTime": {
     "end_time": "2023-05-05T17:34:39.323159Z",
     "start_time": "2023-05-05T17:34:39.252820Z"
    }
   },
   "outputs": [],
   "source": [
    "sol3 = minimize(objective_function, m0, args=(3), jac=gradient, method='L-BFGS-B').x"
   ]
  },
  {
   "cell_type": "markdown",
   "metadata": {},
   "source": [
    "### d) Fourth case:\n",
    "\n",
    "$$W = (D^2)^TD^2 + 0.05I$$\n"
   ]
  },
  {
   "cell_type": "code",
   "execution_count": 32,
   "metadata": {
    "ExecuteTime": {
     "end_time": "2023-05-05T17:34:39.323516Z",
     "start_time": "2023-05-05T17:34:39.259921Z"
    }
   },
   "outputs": [],
   "source": [
    "sol4 = minimize(objective_function, m0, args=(4), jac=gradient, method='L-BFGS-B').x"
   ]
  },
  {
   "cell_type": "markdown",
   "metadata": {},
   "source": [
    "### e) Plotting results:"
   ]
  },
  {
   "cell_type": "code",
   "execution_count": 33,
   "metadata": {
    "ExecuteTime": {
     "end_time": "2023-05-05T17:34:39.323845Z",
     "start_time": "2023-05-05T17:34:39.268482Z"
    }
   },
   "outputs": [],
   "source": [
    "d = []\n",
    "for sol in [sol1, sol2, sol3, sol4]:\n",
    "    d_cur = [sol[3], sol[4], 1/2 * (sol[11] + sol[12]), sol[31] - sol[30]]\n",
    "    d.append(d_cur)"
   ]
  },
  {
   "cell_type": "code",
   "execution_count": 34,
   "outputs": [
    {
     "data": {
      "text/plain": "<Figure size 640x480 with 1 Axes>",
      "image/png": "[encoded data removed]"
     },
     "metadata": {},
     "output_type": "display_data"
    }
   ],
   "source": [
    "for d_vec, label in zip(d,[fr'$W=I$',fr'$W=D^T D$',fr'$W=(D^2)^T D^2$',fr'$W=(D^2)^T D^2+0.05 I$']):\n",
    "    plt.plot(range(1,len(d_vec)+1), d_vec, label=label, marker = 'o')\n",
    "plt.plot(range(1,len(d_obs)+1), d_obs, label = 'observation', ls='--', marker = '*')\n",
    "plt.legend()\n",
    "plt.ylabel(fr'$d_i$')\n",
    "plt.xlabel(fr'$i$')\n",
    "plt.title(fr'Different regularization $W$ approach comparing')\n",
    "plt.show()"
   ],
   "metadata": {
    "collapsed": false,
    "ExecuteTime": {
     "end_time": "2023-05-05T17:34:39.661232Z",
     "start_time": "2023-05-05T17:34:39.282759Z"
    }
   }
  },
  {
   "cell_type": "markdown",
   "metadata": {},
   "source": [
    "### Task 2:\n",
    "Let a point be picked at random (uniform density) in the unit square. Compute the probability that it is in the triangle bounded by $x=0$, $y=0$, and $x+y=1$. Recompute the probability if $fX(x)=2x$ and $fY(y)=2(1−𝑦)$ and $x$ and $y$ are independent random variables."
   ]
  },
  {
   "cell_type": "markdown",
   "metadata": {},
   "source": [
    "### a) Probability that it is in the triangle bounded by $x=0$, $y=0$, and $x+y=1$:\n",
    "\n",
    "$P = \\int_{0}^1 \\int_0 ^{1-y} \\mathrm{d}x \\mathrm{d}y = \\int_0^1 (1-y)\\mathrm{d}y = 1 - \\frac{1}{2} = \\frac{1}{2}$"
   ]
  },
  {
   "cell_type": "code",
   "execution_count": 35,
   "outputs": [
    {
     "name": "stdout",
     "output_type": "stream",
     "text": [
      "Probability is 0.50\n"
     ]
    }
   ],
   "source": [
    "x, y = symbols('x y')\n",
    "integral_expr = integrate(1, (x, 0, 1-y), (y, 0, 1))\n",
    "result = integral_expr.evalf()\n",
    "print(f'Probability is {result :.2f}')"
   ],
   "metadata": {
    "collapsed": false,
    "ExecuteTime": {
     "end_time": "2023-05-05T17:34:39.775415Z",
     "start_time": "2023-05-05T17:34:39.662572Z"
    }
   }
  },
  {
   "cell_type": "markdown",
   "source": [
    "### b) Probability if $fX(x)=2x$ and $fY(y)=2(1−y)$:\n",
    "\n",
    "$$P = \\int_{0}^1 \\int_0^{1-y} 2x(2(1-y)) \\mathrm{d}x \\mathrm{d}y = 4 \\int_{0}^1 \\int_0^{1-y} (x - xy) \\mathrm{d}x \\mathrm{d}y = 4\\int_{0}^1 \\int_0 ^{1-y}x \\mathrm{d}x \\mathrm{d}y - 4\\int_{0}^1 \\int_0 ^{1-y} xy \\mathrm{d}x \\mathrm{d}y = \\\\2 \\int_{0}^1 (1 - 2y + y^2)\\mathrm{d}y - 2 \\int_{0}^1 (y-2y^2 +y^3)\\mathrm{d}y = 2 \\left[1- 1 + \\frac{1}{3}\\right] - 2 \\left[\\frac{1}{2} - \\frac{2}{3} + \\frac{1}{4} \\right] = \\frac{1}{2}$$"
   ],
   "metadata": {
    "collapsed": false
   }
  },
  {
   "cell_type": "code",
   "execution_count": 36,
   "outputs": [
    {
     "name": "stdout",
     "output_type": "stream",
     "text": [
      "Probability is 0.50\n"
     ]
    }
   ],
   "source": [
    "x, y = symbols('x y')\n",
    "integral_expr = integrate(2*x*2*(1-y), (x, 0, 1-y), (y, 0, 1))\n",
    "result = integral_expr.evalf()\n",
    "print(f'Probability is {result :.2f}')"
   ],
   "metadata": {
    "collapsed": false,
    "ExecuteTime": {
     "end_time": "2023-05-05T17:34:39.913812Z",
     "start_time": "2023-05-05T17:34:39.774697Z"
    }
   }
  },
  {
   "cell_type": "markdown",
   "metadata": {},
   "source": [
    "### Task 3:\n",
    "For the following two examples, compute the expectations of $X$, $Y$ and $E[XY]$. Compute the covariance of $X$ and $Y$. Are the two variables correlated? Are the two variables independent? For both cases, what is the conditional probability that $x=1$ given that $y=1$?\n",
    "\n",
    "Case 1. $X$ and $Y$ are discrete random variables with joint probability:\n",
    "\n",
    "|   | y=0 | y=1 | y=2 |\n",
    "|---|:---:|:---:|:---:|\n",
    "| x=0 | 0.1 | 0.3 | 0.1 |\n",
    "| x=1 | 0.0 | 0.2 | 0.3 |\n",
    "\n",
    "Case 2. $X$ and $Y$ are discrete random variables with joint probability:\n",
    "\n",
    "|   | y=-1 | y=0 | y=1 |\n",
    "|---|:----:|:---:|:---:|\n",
    "| x=0 | 0.00 | 0.33 | 0.00 |\n",
    "| x=1 | 0.33 | 0.00 | 0.33 |"
   ]
  },
  {
   "cell_type": "markdown",
   "metadata": {},
   "source": [
    "### Case 1\n",
    "\n",
    "### a) Expactations $E(X)$, $E(Y)$ and $E(XY)$:\n",
    "\n",
    "$$ E(X) = \\sum_x x P_x$$\n",
    "\n",
    "$$E(Y) = \\sum_y y P_y $$\n",
    "$$E(XY) = \\sum_{xy} xy P_x P_y $$"
   ]
  },
  {
   "cell_type": "code",
   "execution_count": 37,
   "metadata": {
    "ExecuteTime": {
     "end_time": "2023-05-05T17:34:39.914178Z",
     "start_time": "2023-05-05T17:34:39.875680Z"
    }
   },
   "outputs": [],
   "source": [
    "# Define the joint probability distribution\n",
    "joint_prob = [[0.1, 0.3, 0.1],\n",
    "              [0.0, 0.2, 0.3]]\n",
    "\n",
    "# Compute the expectations of X and Y\\\n",
    "def expectations(joint_prob,X=[0,1],Y=[0,1,2]):\n",
    "    ex = 0\n",
    "    ey = 0\n",
    "    exy = 0\n",
    "    for i, x in enumerate(X):\n",
    "        for j,y in enumerate(Y):\n",
    "            ex += x * joint_prob[i][j]\n",
    "            ey += y * joint_prob[i][j]\n",
    "            exy += x*y*joint_prob[i][j]\n",
    "\n",
    "    return ex, ey, exy"
   ]
  },
  {
   "cell_type": "code",
   "execution_count": 38,
   "metadata": {
    "ExecuteTime": {
     "end_time": "2023-05-05T17:34:39.914473Z",
     "start_time": "2023-05-05T17:34:39.883693Z"
    }
   },
   "outputs": [
    {
     "name": "stdout",
     "output_type": "stream",
     "text": [
      "E[X] = 0.5\n",
      "E[Y] = 1.2999999999999998\n",
      "E[XY] = 0.8\n"
     ]
    }
   ],
   "source": [
    "ex, ey, exy = expectations(joint_prob,[0,1],[0,1,2])\n",
    "print(\"E[X] =\", ex)\n",
    "print(\"E[Y] =\", ey)\n",
    "print(\"E[XY] =\", exy)"
   ]
  },
  {
   "cell_type": "markdown",
   "metadata": {},
   "source": [
    "### b) Covariance of $X$ and $Y$, correlation and dependency:\n",
    "$$Cov(X, Y) = E(XY) - E(X)E(Y)$$"
   ]
  },
  {
   "cell_type": "code",
   "execution_count": 39,
   "metadata": {
    "ExecuteTime": {
     "end_time": "2023-05-05T17:34:39.914700Z",
     "start_time": "2023-05-05T17:34:39.894996Z"
    }
   },
   "outputs": [
    {
     "name": "stdout",
     "output_type": "stream",
     "text": [
      "Cov(X,Y) = 0.15000000000000013\n"
     ]
    }
   ],
   "source": [
    "# Compute the covariance of X and Y\n",
    "def covariance(ex, ey, exy):\n",
    "    cov_xy = exy - ex*ey\n",
    "    return cov_xy\n",
    "\n",
    "cov_xy = covariance(ex, ey, exy)\n",
    "print(\"Cov(X,Y) =\", cov_xy)"
   ]
  },
  {
   "cell_type": "markdown",
   "source": [
    "$Cov(X,Y) > 0$ that means the variables are positive correlated (dependent)"
   ],
   "metadata": {
    "collapsed": false
   }
  },
  {
   "cell_type": "markdown",
   "metadata": {},
   "source": [
    "### c) Conditional probability that  $x=1$  given that  $y=1$:\n",
    "\n",
    "$$ P (x=1 | y=1) = \\frac{P(x=1 \\cap y=1)}{P(y=1)}$$\n"
   ]
  },
  {
   "cell_type": "code",
   "execution_count": 40,
   "outputs": [
    {
     "name": "stdout",
     "output_type": "stream",
     "text": [
      "P(X=1|Y=1) = 0.4\n"
     ]
    }
   ],
   "source": [
    "# Compute the marginal probabilities\n",
    "\n",
    "def cond_prob_given_y_equals_1(joint_prob_table, one = 1):\n",
    "    sum_over_x = 0\n",
    "    sum_over_all = 0\n",
    "    for i in range(len(joint_prob_table)):\n",
    "        sum_over_all += joint_prob_table[i][1]\n",
    "        if i == one:\n",
    "            sum_over_x += joint_prob_table[i][1]\n",
    "    return sum_over_x / sum_over_all\n",
    "\n",
    "px1_given_y1_bayes = cond_prob_given_y_equals_1(joint_prob)\n",
    "print(\"P(X=1|Y=1) =\", px1_given_y1_bayes)\n"
   ],
   "metadata": {
    "collapsed": false,
    "ExecuteTime": {
     "end_time": "2023-05-05T17:34:39.915546Z",
     "start_time": "2023-05-05T17:34:39.903061Z"
    }
   }
  },
  {
   "cell_type": "markdown",
   "source": [
    "### Case 2"
   ],
   "metadata": {
    "collapsed": false
   }
  },
  {
   "cell_type": "code",
   "execution_count": 41,
   "metadata": {
    "ExecuteTime": {
     "end_time": "2023-05-05T17:34:39.992071Z",
     "start_time": "2023-05-05T17:34:39.916820Z"
    }
   },
   "outputs": [
    {
     "name": "stdout",
     "output_type": "stream",
     "text": [
      "E[X] = 0.66\n",
      "E[Y] = 0.0\n",
      "E[XY] = 0.0\n",
      "Cov(X,Y) = 0.0\n",
      "P(X=1|Y=1) = 1.0\n"
     ]
    }
   ],
   "source": [
    "joint_prob = [[0.00, 0.33, 0.00],\n",
    "              [0.33, 0.00, 0.33]]\n",
    "\n",
    "ex, ey, exy = expectations(joint_prob,[0,1],[-1,0,1])\n",
    "cov_xy = covariance(ex, ey, exy)\n",
    "px1_given_y1_bayes = cond_prob_given_y_equals_1(joint_prob,0)\n",
    "print(\"E[X] =\", ex)\n",
    "print(\"E[Y] =\", ey)\n",
    "print(\"E[XY] =\", exy)\n",
    "print(\"Cov(X,Y) =\", cov_xy)\n",
    "print(\"P(X=1|Y=1) =\", px1_given_y1_bayes)"
   ]
  },
  {
   "cell_type": "markdown",
   "source": [
    "$Cov(X,Y) = 0$ that means the variables are independent"
   ],
   "metadata": {
    "collapsed": false
   }
  }
 ],
 "metadata": {
  "kernelspec": {
   "display_name": "Python 3",
   "language": "python",
   "name": "python3"
  },
  "language_info": {
   "codemirror_mode": {
    "name": "ipython",
    "version": 3
   },
   "file_extension": ".py",
   "mimetype": "text/x-python",
   "name": "python",
   "nbconvert_exporter": "python",
   "pygments_lexer": "ipython3",
   "version": "3.7.4"
  }
 },
 "nbformat": 4,
 "nbformat_minor": 2
}
