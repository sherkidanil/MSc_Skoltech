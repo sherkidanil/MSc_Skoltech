{
  "cells": [
    {
      "cell_type": "markdown",
      "metadata": {
        "id": "7YdqwWkHrWl-"
      },
      "source": [
        "# Problem Set 2 (93 points)"
      ]
    },
    {
      "cell_type": "markdown",
      "metadata": {
        "id": "OIRScpR8roDI"
      },
      "source": [
        "## Important information\n",
        "1.  We provide signatures of the functions that you have to implement. Make sure you follow the signatures defined, otherwise your coding solutions will not be graded.\n",
        "\n",
        "2.  Please submit the single Jupyter Notebook file, where only Python and Markdown/$\\\\LaTeX$ are used. Any hand-written solutions inserted by photos or in any other way **are prohibitive and will not be graded**. If you will have any questions about using Markdown, ask them!\n",
        "3.  The works will be checked for **plagiarism**. The score will be divided by the number of similar works."
      ]
    },
    {
      "cell_type": "markdown",
      "metadata": {
        "id": "UeU6nZR4uxdq"
      },
      "source": [
        "## Submatrices (bonus).\n",
        "\n",
        "\n",
        "Let $U$ be an $n \\times r$ orthogonal matrix, $n \\geq r$. It is well known, that such matrix has $r \\times r$ non-singular submatrix $\\hat{U}$. To measure ``non-singularity'' of this submatrix one can use the minimal singular value, or the norm of the inverse $\\Vert \\hat{U}^{-1} \\Vert.$\n",
        "\n",
        "Suppose we select the submatrix that has the smallest possible norm of the inverse among all $r \\times r$ submatrices of $U$. What is the maximal value of such norm? Mathematically, we need to estimate\n",
        "\n",
        "$$t(n, r) = \\max_U \\min_{\\hat{U}} \\Vert \\hat{U}^{-1} \\Vert_2.$$\n",
        "\n",
        "Is it true that $t(n, r) \\leq \\sqrt{n}$?\n",
        "\n",
        "\n"
      ]
    },
    {
      "cell_type": "markdown",
      "source": [
        "The proof is obvious and is left as an exercise for the reader (just joke)"
      ],
      "metadata": {
        "id": "H5bQkQMzjQkz"
      }
    },
    {
      "cell_type": "markdown",
      "source": [
        "You might be interested in looking at the articles I found to solve this problem. I didn't have time to solve it("
      ],
      "metadata": {
        "id": "o7sm4_Ie8jK7"
      }
    },
    {
      "cell_type": "markdown",
      "source": [
        "[The min-max theorem, or variational theorem, or Courant–Fischer–Weyl min-max principle](https://en.wikipedia.org/wiki/Min-max_theorem)"
      ],
      "metadata": {
        "id": "-7OdjwNHhX9y"
      }
    },
    {
      "cell_type": "markdown",
      "source": [
        "Theorem 1 (Cauchy Interlace Theorem). Let A be a Hermitian matrix of order n,\n",
        "and let B be a principal submatrix of A of order n − 1. If λn ≤ λn−1 ≤···≤ λ2 ≤ λ1\n",
        "lists the eigenvalues of A and µn ≤ µn−1 ≤···≤ µ3 ≤ µ2 the eigenvalues of B, then\n",
        "λn ≤ µn ≤ λn−1 ≤ µn−1 ≤···≤ λ2 ≤ µ2 ≤ λ1."
      ],
      "metadata": {
        "id": "tUJaDKe-hu2m"
      }
    },
    {
      "cell_type": "markdown",
      "source": [
        "[Cauchy interlace theorem](http://matrix.skku.ac.kr/Series-E/Monthly-E.pdf)"
      ],
      "metadata": {
        "id": "1cP2IEXlhv2p"
      }
    },
    {
      "cell_type": "markdown",
      "source": [
        "[How to find a good submatrix](https://www.researchgate.net/profile/Ivan-Oseledets/publication/251735015_How_to_Find_a_Good_Submatrix/links/628340177da61013d7484c01/How-to-Find-a-Good-Submatrix.pdf)"
      ],
      "metadata": {
        "id": "i4_pAA8Cibb9"
      }
    },
    {
      "cell_type": "markdown",
      "metadata": {
        "id": "kwVN4-v2rtMp"
      },
      "source": [
        "# Problem 1 (QR algorithm) (22 pts)"
      ]
    },
    {
      "cell_type": "markdown",
      "metadata": {
        "id": "UTufw3WgsQCJ"
      },
      "source": [
        "One of the way to find eigenvalues for real matrix $A$ of size $(n,n)$ is **QR algorithm**. Each iteration of the algorithm consists of two main steps:\n",
        "\n",
        "1. Compute QR decompostion $A_k = Q_kR_k$\n",
        "2. Compute new matrix $A_{k+1} = R_kQ_k$\n",
        "\n",
        "$A_0 = A$\n",
        "\n",
        "From lecture materials you have seen that algorithm complexity in general is $O(Nn^3)$ ($N$ - number of iterations). But we can make an improvement by transforming matrix to **Upper Hessenberg form** ([link](https://en.wikipedia.org/wiki/Hessenberg_matrix)) before running the algorithm. \n",
        "\n",
        "The good property of Hessenberg matrix is preservation of its structure during QR algorithm iteration. In other words, if $A_{k}$ is Hessenberg matrix, then $A_{k+1}$ will also be a Hessenberg matrix. We can use this property to reduce complexity of each iteration. Since we need only to zero first lower subdiagonal for QR factorization (first step in each iteration) we can use **Givens rotations** $O(n^2)$ instead of **Householder reflections** $O(n^3)$. Now, the last question is how to obtain Hessenberg matrix - use Householder reflections. Since it is done only once (initialization stage), complexity of algorithm will not be increased.\n",
        "\n",
        "Final algorithm:\n",
        "\n",
        "I. **Initialization**\n",
        "\n",
        "> - Transform original matrix $A$ to Hessenberg form $H_0 = U^TAU$ using Householder reflections.\n",
        "\n",
        "II. **Loop**\n",
        "\n",
        "> **for** k in range(**N**):\n",
        "> -  Compute QR using Givens rotation: such matrices $Q_k,R_k$ that $H_k = Q_kR_k$\n",
        "\n",
        "> - Update matrix $H_{k+1} = R_k Q_k$\n",
        "\n"
      ]
    },
    {
      "cell_type": "markdown",
      "metadata": {
        "id": "yF_T3dA0mt3T"
      },
      "source": [
        "## What do you need to do:\n",
        "### Theoretical part\n",
        "<!-- 1. For real square metrices $Q,A,\\hat{A}$ prove that if we have relation $A = Q^T\\hat{A}Q$ ($Q$ - orthogonal matrix) then eigenvalues of $A$ and $\\hat{A}$ are equal. **(3 pts)**\n",
        "2. Suppose we factorize real square matrix $A = Q^TTQ$, where $Q$ is orthogonal and $T$ is upper/lower triangular matrix. Describe the easiest way to find eigenvalues of $A$. **(2 pts)** -->\n",
        "1. Show that Hessenberg matrix preserves its structure under QR algorithm: if $A_k$ hessenberg matrix then $A_{k+1}$ hessenberg as well. **(5 pts)**\n",
        "\n",
        "2. **(Bonus task)** For real square matrix $A$, which all leading minors are nondegenerate, prove that QR algorithm converges to upper triangular matrix: $\\lim\\limits_{k\\rightarrow \\infty} A_k = T$, where $T$ - upper triangular matrix.\n",
        "\n",
        "### Practical part\n",
        "\n",
        "1. Implement function **Hessenberg_Transform** which takes a real square matrix $A$ and returns transformed matrix in Hessenberg form $H$ (use householder reflections). **(5 pts)**\n",
        "\n",
        "2. Implement function **QR_givens** which takes a real square matrix in Hessenberg form $H$ and returns QR factorization: matrices $Q$ and $R$. **(5 pts)**\n",
        "\n",
        "3. Implement function **QR_algorithm**, which takes a real square matrix $A$ and returns $H_{N}$ - the result of $N$ iterations of QR algorithm. Use previously implemented **Hessenberg_Transform** to get Hessenberg form of matrix $A$, and  **QR_givens** to make QR factorization on each iteration. **(2 pts)**\n",
        "\n",
        "4. Varing parameter $n$ generate random matrix of size $(n,n)$ and measure the computation time of **QR_algorithm** function. Plot observed data: computation time versus $n$. Use logarithmic scale for both axes. Explain obtained results.**(3 pts)**\n",
        "\n",
        "5. Compare eigenvalues computed using your implemented algorithm and standard numpy functionality for some random matrix. Try different number of iterations for the algorithm. Explain results. **(2 pts)**"
      ]
    },
    {
      "cell_type": "markdown",
      "source": [
        "### Bonus task\n"
      ],
      "metadata": {
        "id": "ZD9E5jatr1VC"
      }
    },
    {
      "cell_type": "code",
      "source": [
        "#Counterexample for bonus task. \n",
        "import numpy as np\n",
        "\n",
        "N_iterations = 1000\n",
        "\n",
        "A = np.array([[1,2,4,1],\n",
        "              [1,-1,4,1],\n",
        "              [1,1,1,1],\n",
        "              [0,5,-1,1]])\n",
        "\n",
        "print(f'A = \\n {A}')\n",
        "\n",
        "A_buf = np.copy(A)\n",
        "\n",
        "lead_mins = [A[0][0]]\n",
        "\n",
        "determ = np.linalg.det(A)\n",
        "print(f'Determinant of A equal {determ}')\n",
        "\n",
        "for i in range(1, A.shape[0]-1):\n",
        "  row = np.delete(A_buf, [i+1, A.shape[0]-1] ,axis=0) \n",
        "  row_col = np.delete(row, [i+1, A.shape[0]-1] ,axis=1)\n",
        "  lead_mins.append(np.linalg.det(row_col))\n",
        "\n",
        "print('Leadind minors')\n",
        "print(lead_mins)\n",
        "\n",
        "eigvals,_ = np.linalg.eig(A)\n",
        "print('Eigenvalues', eigvals)"
      ],
      "metadata": {
        "colab": {
          "base_uri": "https://localhost:8080/"
        },
        "id": "lpHugC3br0Za",
        "outputId": "4d523e5e-9026-4165-a86a-efdd8125d6d9"
      },
      "execution_count": 141,
      "outputs": [
        {
          "output_type": "stream",
          "name": "stdout",
          "text": [
            "A = \n",
            " [[ 1  2  4  1]\n",
            " [ 1 -1  4  1]\n",
            " [ 1  1  1  1]\n",
            " [ 0  5 -1  1]]\n",
            "Determinant of A equal 9.000000000000002\n",
            "Leadind minors\n",
            "[1, -3.0000000000000004, 9.000000000000002]\n",
            "Eigenvalues [ 5.1000992 +0.j          0.49275719+0.j         -1.7964282 +0.59503365j\n",
            " -1.7964282 -0.59503365j]\n"
          ]
        }
      ]
    },
    {
      "cell_type": "code",
      "source": [
        "for i in range(1000):\n",
        "    Q_in,R_in = np.linalg.qr(A)\n",
        "    A = R_in @ Q_in\n",
        "\n",
        "A = np.around(A, decimals = 6)\n",
        "A"
      ],
      "metadata": {
        "colab": {
          "base_uri": "https://localhost:8080/"
        },
        "id": "hHmfZOyesCfg",
        "outputId": "3b085469-4ffa-4b95-e3b4-177cbf63356b"
      },
      "execution_count": 142,
      "outputs": [
        {
          "output_type": "execute_result",
          "data": {
            "text/plain": [
              "array([[ 5.100099,  0.35044 , -3.39209 , -0.651296],\n",
              "       [ 0.      , -2.970992,  1.482818, -4.359864],\n",
              "       [ 0.      , -1.169169, -0.621864, -1.380318],\n",
              "       [ 0.      ,  0.      ,  0.      ,  0.492757]])"
            ]
          },
          "metadata": {},
          "execution_count": 142
        }
      ]
    },
    {
      "cell_type": "markdown",
      "source": [
        "---\n",
        "\n",
        "**In the counter-example, it turns out that the leading minors are not degenerate, which means that the matrix in this algorithm is not triangular. But for all that, the real eigenvalues of this matrix are located on the main diagonal of the matrix after the algorithm. Further, we can see that the complexes can be computed from the subdiagonal submatrices.  With degenerate minors, all eigenvalues will be valid and will lie on the main diagonal, which means that the matrix will be triangular**\n",
        "\n",
        "----"
      ],
      "metadata": {
        "id": "w7JWIuYesRAF"
      }
    },
    {
      "cell_type": "markdown",
      "metadata": {
        "id": "jo7DXTGlHCtb"
      },
      "source": [
        "### Theoretical proofs\n",
        "If A is a Hessenberg matrix, then the derivative Q is also a Hessenberg matrix. \n",
        "\n",
        "The upper triangular matrix multiplied by the Hessenberg matrix will still be the Hessenberg matrix.\n",
        "\n",
        "\n",
        "$$RQ=\\sum_{i,j=1}^{n} r_{j}q_{j,k}$$\n",
        "\n",
        "If we assume that one of the values $q_{jk}$б$r_{ij}$ is zero\n",
        "$$q_{j,k}=0 \\text{, if } j\\geq k+2$$\n",
        "$$r_{i,j}=0 \\text{, if } j\\leq i-1$$\n",
        "\n",
        "\n",
        "This means that for $i \\geq k+2 \\quad r_{ij}q_{jk}=0$ there is Hessenberg matrix.\n"
      ]
    },
    {
      "cell_type": "code",
      "execution_count": null,
      "metadata": {
        "id": "fDmZd2M10l3e"
      },
      "outputs": [],
      "source": [
        "import numpy as np"
      ]
    },
    {
      "cell_type": "code",
      "execution_count": null,
      "metadata": {
        "id": "mW_6vkzZenqD"
      },
      "outputs": [],
      "source": [
        "def Hessenberg_Transform(A):\n",
        "    \n",
        "    H = A\n",
        "    \n",
        "    def column_convertor(x):\n",
        "        \"\"\" Converts 1d array to column vector\"\"\"\n",
        "        x.shape = (1, x.shape[0])\n",
        "        return x\n",
        "    \n",
        "    def householder_transformation(v):\n",
        "        \"\"\" Returns Householder matrix for vector v \"\"\"\n",
        "        size_of_v = v.shape[1]\n",
        "        e1 = np.zeros_like(v)\n",
        "        e1[0, 0] = 1\n",
        "        vector = np.sqrt(np.sum(np.square(v))) * e1\n",
        "        if v[0, 0] < 0:\n",
        "            vector = - vector\n",
        "        u = (v + vector).astype(np.float32)\n",
        "        \"\"\"hr - householser reflector\"\"\"\n",
        "        hr = np.identity(size_of_v) - ((2 * np.matmul(np.transpose(u), u)) / np.matmul(u, np.transpose(u)))\n",
        "        return hr\n",
        "    \n",
        "    def house_holder_apply(M, i):\n",
        "        v = column_convertor(M[i+1:, i])\n",
        "        hr = householder_transformation(v)\n",
        "        \"\"\"HM - householder matrix\"\"\"\n",
        "        HM = np.identity(M.shape[0])\n",
        "        HM[i+1:, i+1:] = hr\n",
        "        M = np.matmul(HM,M)\n",
        "        M = np.matmul(M,HM)\n",
        "        return M\n",
        "        \n",
        "    for i in range(min(H.shape[0], H.shape[1])-2):\n",
        "        H = house_holder_apply(H, i)\n",
        "    \n",
        "    H = np.around(H, decimals=6)\n",
        "    return H"
      ]
    },
    {
      "cell_type": "code",
      "execution_count": null,
      "metadata": {
        "id": "ZIIEZphhvvPP"
      },
      "outputs": [],
      "source": [
        "def QR_givens(H):\n",
        "    def _givens_rotation_matrix_entries(a, b):\n",
        "        \"\"\"Compute matrix entries for Givens rotation.\"\"\"\n",
        "        r = np.power(a*a + b*b, 0.5)\n",
        "        c = a/r\n",
        "        s = -b/r\n",
        "\n",
        "        return c, s\n",
        "    \"\"\"\n",
        "    Perform QR decomposition of matrix A using Givens rotation.\n",
        "    It's only unique up to the signs of the rows of R. If you want to enforce positive diagonals of R, and thereby get a unique factorisation, construct\n",
        "    D = diag(sign(diag(R)));\n",
        "    Qunique = Q*D; Runique = D*R;\n",
        "    \"\"\"\n",
        "    num_rows, num_cols = np.shape(H)\n",
        "\n",
        "    # Initialize orthogonal matrix Q and upper triangular matrix R.\n",
        "    Q = np.identity(num_rows)\n",
        "    R = np.copy(H)\n",
        "\n",
        "    # Iterate over lower triangular matrix.\n",
        "    rows, cols = np.tril_indices(num_rows, -1, num_cols)\n",
        "    for row, col in zip(rows, cols):\n",
        "\n",
        "        # Compute Givens rotation matrix and\n",
        "        # zero-out lower triangular matrix entries.\n",
        "        if R[row, col] != 0:\n",
        "            (c, s) = _givens_rotation_matrix_entries(R[col, col], R[row, col])\n",
        "\n",
        "            G = np.identity(num_rows)\n",
        "            G[[col, row], [col, row]] = c\n",
        "            G[row, col] = s\n",
        "            G[col, row] = -s\n",
        "            #D = np.diag(np.sign(np.diag(R)))\n",
        "            R = np.dot(G, R)\n",
        "            #R = D @ R\n",
        "            Q = np.dot(Q, G.T)\n",
        "            #Q = Q @ D\n",
        "\n",
        "    return Q, R"
      ]
    },
    {
      "cell_type": "code",
      "execution_count": null,
      "metadata": {
        "id": "_z1nw6kTwDu6"
      },
      "outputs": [],
      "source": [
        "def QR_algorithm(A, N_iterations):\n",
        "    H = Hessenberg_Transform(A)\n",
        "    for i in range(N_iterations):\n",
        "        Q,R = QR_givens(H)\n",
        "        H = R @ Q\n",
        "    H = np.around(H, decimals=6)\n",
        "    return H"
      ]
    },
    {
      "cell_type": "code",
      "execution_count": null,
      "metadata": {
        "colab": {
          "base_uri": "https://localhost:8080/"
        },
        "id": "HEClDModFQEx",
        "outputId": "8f59f377-0e0c-4e83-d38e-313e77a70b96"
      },
      "outputs": [
        {
          "output_type": "execute_result",
          "data": {
            "text/plain": [
              "(array([[-0.358664,  2.435477,  0.889128,  0.324423],\n",
              "        [-1.065199,  0.446707, -0.461399,  0.871572],\n",
              "        [ 0.      ,  0.      ,  1.318672,  1.428187],\n",
              "        [ 0.      , -0.      ,  0.      , -0.962572]]),\n",
              " array([[-0.358679,  2.435468,  0.889133,  0.324414],\n",
              "        [-1.065207,  0.446721, -0.46139 ,  0.871575],\n",
              "        [-0.      ,  0.      ,  1.318672,  1.428188],\n",
              "        [-0.      , -0.      , -0.      , -0.962573]]))"
            ]
          },
          "metadata": {},
          "execution_count": 9
        }
      ],
      "source": [
        "# A = np.array([[2, 5, 8, 7], [5, 2, 2, 8], [7, 5, 6, 6], [5, 4, 4, 8]])\n",
        "\n",
        "n = 4\n",
        "\n",
        "A = np.random.randn(n, n)\n",
        "\n",
        "N_iterations = 100\n",
        "\n",
        "A_alg = A\n",
        "A_in = A\n",
        "\n",
        "H = QR_algorithm(A_alg,N_iterations)\n",
        "\n",
        "for i in range(N_iterations):\n",
        "        Q_in,R_in = np.linalg.qr(A_in)\n",
        "        A_in = R_in @ Q_in\n",
        "        \n",
        "np.around(H, decimals=6), np.around(A_in, decimals=6)\n"
      ]
    },
    {
      "cell_type": "code",
      "execution_count": null,
      "metadata": {
        "colab": {
          "base_uri": "https://localhost:8080/",
          "height": 514
        },
        "id": "N-8sZlQkFQEy",
        "outputId": "ed196289-5c88-4c41-a45c-2e3c7e06a074"
      },
      "outputs": [
        {
          "output_type": "stream",
          "name": "stdout",
          "text": [
            "Dimension = 5\n",
            "Time = 0.21869841800000245\n",
            "Dimension = 10\n"
          ]
        },
        {
          "output_type": "error",
          "ename": "KeyboardInterrupt",
          "evalue": "ignored",
          "traceback": [
            "\u001b[0;31m---------------------------------------------------------------------------\u001b[0m",
            "\u001b[0;31mKeyboardInterrupt\u001b[0m                         Traceback (most recent call last)",
            "\u001b[0;32m<ipython-input-10-c569dceda5e8>\u001b[0m in \u001b[0;36m<module>\u001b[0;34m\u001b[0m\n\u001b[1;32m      7\u001b[0m     \u001b[0mprint\u001b[0m\u001b[0;34m(\u001b[0m\u001b[0;34m\"Dimension = {}\"\u001b[0m\u001b[0;34m.\u001b[0m\u001b[0mformat\u001b[0m\u001b[0;34m(\u001b[0m\u001b[0mn\u001b[0m\u001b[0;34m)\u001b[0m\u001b[0;34m)\u001b[0m\u001b[0;34m\u001b[0m\u001b[0;34m\u001b[0m\u001b[0m\n\u001b[1;32m      8\u001b[0m     \u001b[0mA\u001b[0m \u001b[0;34m=\u001b[0m \u001b[0mnp\u001b[0m\u001b[0;34m.\u001b[0m\u001b[0mrandom\u001b[0m\u001b[0;34m.\u001b[0m\u001b[0mrandn\u001b[0m\u001b[0;34m(\u001b[0m\u001b[0mn\u001b[0m\u001b[0;34m,\u001b[0m \u001b[0mn\u001b[0m\u001b[0;34m)\u001b[0m\u001b[0;34m\u001b[0m\u001b[0;34m\u001b[0m\u001b[0m\n\u001b[0;32m----> 9\u001b[0;31m     \u001b[0mt\u001b[0m \u001b[0;34m=\u001b[0m \u001b[0mget_ipython\u001b[0m\u001b[0;34m(\u001b[0m\u001b[0;34m)\u001b[0m\u001b[0;34m.\u001b[0m\u001b[0mrun_line_magic\u001b[0m\u001b[0;34m(\u001b[0m\u001b[0;34m'timeit'\u001b[0m\u001b[0;34m,\u001b[0m \u001b[0;34m'-o -q QR_algorithm(A, 1000)'\u001b[0m\u001b[0;34m)\u001b[0m\u001b[0;34m\u001b[0m\u001b[0;34m\u001b[0m\u001b[0m\n\u001b[0m\u001b[1;32m     10\u001b[0m     \u001b[0mtime_range\u001b[0m\u001b[0;34m.\u001b[0m\u001b[0mappend\u001b[0m\u001b[0;34m(\u001b[0m\u001b[0mt\u001b[0m\u001b[0;34m.\u001b[0m\u001b[0mbest\u001b[0m\u001b[0;34m)\u001b[0m\u001b[0;34m\u001b[0m\u001b[0;34m\u001b[0m\u001b[0m\n\u001b[1;32m     11\u001b[0m     \u001b[0mprint\u001b[0m\u001b[0;34m(\u001b[0m\u001b[0;34m\"Time = {}\"\u001b[0m\u001b[0;34m.\u001b[0m\u001b[0mformat\u001b[0m\u001b[0;34m(\u001b[0m\u001b[0mt\u001b[0m\u001b[0;34m.\u001b[0m\u001b[0mbest\u001b[0m\u001b[0;34m)\u001b[0m\u001b[0;34m)\u001b[0m\u001b[0;34m\u001b[0m\u001b[0;34m\u001b[0m\u001b[0m\n",
            "\u001b[0;32m/usr/local/lib/python3.8/dist-packages/IPython/core/interactiveshell.py\u001b[0m in \u001b[0;36mrun_line_magic\u001b[0;34m(self, magic_name, line, _stack_depth)\u001b[0m\n\u001b[1;32m   2312\u001b[0m                 \u001b[0mkwargs\u001b[0m\u001b[0;34m[\u001b[0m\u001b[0;34m'local_ns'\u001b[0m\u001b[0;34m]\u001b[0m \u001b[0;34m=\u001b[0m \u001b[0msys\u001b[0m\u001b[0;34m.\u001b[0m\u001b[0m_getframe\u001b[0m\u001b[0;34m(\u001b[0m\u001b[0mstack_depth\u001b[0m\u001b[0;34m)\u001b[0m\u001b[0;34m.\u001b[0m\u001b[0mf_locals\u001b[0m\u001b[0;34m\u001b[0m\u001b[0;34m\u001b[0m\u001b[0m\n\u001b[1;32m   2313\u001b[0m             \u001b[0;32mwith\u001b[0m \u001b[0mself\u001b[0m\u001b[0;34m.\u001b[0m\u001b[0mbuiltin_trap\u001b[0m\u001b[0;34m:\u001b[0m\u001b[0;34m\u001b[0m\u001b[0;34m\u001b[0m\u001b[0m\n\u001b[0;32m-> 2314\u001b[0;31m                 \u001b[0mresult\u001b[0m \u001b[0;34m=\u001b[0m \u001b[0mfn\u001b[0m\u001b[0;34m(\u001b[0m\u001b[0;34m*\u001b[0m\u001b[0margs\u001b[0m\u001b[0;34m,\u001b[0m \u001b[0;34m**\u001b[0m\u001b[0mkwargs\u001b[0m\u001b[0;34m)\u001b[0m\u001b[0;34m\u001b[0m\u001b[0;34m\u001b[0m\u001b[0m\n\u001b[0m\u001b[1;32m   2315\u001b[0m             \u001b[0;32mreturn\u001b[0m \u001b[0mresult\u001b[0m\u001b[0;34m\u001b[0m\u001b[0;34m\u001b[0m\u001b[0m\n\u001b[1;32m   2316\u001b[0m \u001b[0;34m\u001b[0m\u001b[0m\n",
            "\u001b[0;32m<decorator-gen-53>\u001b[0m in \u001b[0;36mtimeit\u001b[0;34m(self, line, cell, local_ns)\u001b[0m\n",
            "\u001b[0;32m/usr/local/lib/python3.8/dist-packages/IPython/core/magic.py\u001b[0m in \u001b[0;36m<lambda>\u001b[0;34m(f, *a, **k)\u001b[0m\n\u001b[1;32m    185\u001b[0m     \u001b[0;31m# but it's overkill for just that one bit of state.\u001b[0m\u001b[0;34m\u001b[0m\u001b[0;34m\u001b[0m\u001b[0;34m\u001b[0m\u001b[0m\n\u001b[1;32m    186\u001b[0m     \u001b[0;32mdef\u001b[0m \u001b[0mmagic_deco\u001b[0m\u001b[0;34m(\u001b[0m\u001b[0marg\u001b[0m\u001b[0;34m)\u001b[0m\u001b[0;34m:\u001b[0m\u001b[0;34m\u001b[0m\u001b[0;34m\u001b[0m\u001b[0m\n\u001b[0;32m--> 187\u001b[0;31m         \u001b[0mcall\u001b[0m \u001b[0;34m=\u001b[0m \u001b[0;32mlambda\u001b[0m \u001b[0mf\u001b[0m\u001b[0;34m,\u001b[0m \u001b[0;34m*\u001b[0m\u001b[0ma\u001b[0m\u001b[0;34m,\u001b[0m \u001b[0;34m**\u001b[0m\u001b[0mk\u001b[0m\u001b[0;34m:\u001b[0m \u001b[0mf\u001b[0m\u001b[0;34m(\u001b[0m\u001b[0;34m*\u001b[0m\u001b[0ma\u001b[0m\u001b[0;34m,\u001b[0m \u001b[0;34m**\u001b[0m\u001b[0mk\u001b[0m\u001b[0;34m)\u001b[0m\u001b[0;34m\u001b[0m\u001b[0;34m\u001b[0m\u001b[0m\n\u001b[0m\u001b[1;32m    188\u001b[0m \u001b[0;34m\u001b[0m\u001b[0m\n\u001b[1;32m    189\u001b[0m         \u001b[0;32mif\u001b[0m \u001b[0mcallable\u001b[0m\u001b[0;34m(\u001b[0m\u001b[0marg\u001b[0m\u001b[0;34m)\u001b[0m\u001b[0;34m:\u001b[0m\u001b[0;34m\u001b[0m\u001b[0;34m\u001b[0m\u001b[0m\n",
            "\u001b[0;32m/usr/local/lib/python3.8/dist-packages/IPython/core/magics/execution.py\u001b[0m in \u001b[0;36mtimeit\u001b[0;34m(self, line, cell, local_ns)\u001b[0m\n\u001b[1;32m   1160\u001b[0m                     \u001b[0;32mbreak\u001b[0m\u001b[0;34m\u001b[0m\u001b[0;34m\u001b[0m\u001b[0m\n\u001b[1;32m   1161\u001b[0m \u001b[0;34m\u001b[0m\u001b[0m\n\u001b[0;32m-> 1162\u001b[0;31m         \u001b[0mall_runs\u001b[0m \u001b[0;34m=\u001b[0m \u001b[0mtimer\u001b[0m\u001b[0;34m.\u001b[0m\u001b[0mrepeat\u001b[0m\u001b[0;34m(\u001b[0m\u001b[0mrepeat\u001b[0m\u001b[0;34m,\u001b[0m \u001b[0mnumber\u001b[0m\u001b[0;34m)\u001b[0m\u001b[0;34m\u001b[0m\u001b[0;34m\u001b[0m\u001b[0m\n\u001b[0m\u001b[1;32m   1163\u001b[0m         \u001b[0mbest\u001b[0m \u001b[0;34m=\u001b[0m \u001b[0mmin\u001b[0m\u001b[0;34m(\u001b[0m\u001b[0mall_runs\u001b[0m\u001b[0;34m)\u001b[0m \u001b[0;34m/\u001b[0m \u001b[0mnumber\u001b[0m\u001b[0;34m\u001b[0m\u001b[0;34m\u001b[0m\u001b[0m\n\u001b[1;32m   1164\u001b[0m         \u001b[0mworst\u001b[0m \u001b[0;34m=\u001b[0m \u001b[0mmax\u001b[0m\u001b[0;34m(\u001b[0m\u001b[0mall_runs\u001b[0m\u001b[0;34m)\u001b[0m \u001b[0;34m/\u001b[0m \u001b[0mnumber\u001b[0m\u001b[0;34m\u001b[0m\u001b[0;34m\u001b[0m\u001b[0m\n",
            "\u001b[0;32m/usr/lib/python3.8/timeit.py\u001b[0m in \u001b[0;36mrepeat\u001b[0;34m(self, repeat, number)\u001b[0m\n\u001b[1;32m    203\u001b[0m         \u001b[0mr\u001b[0m \u001b[0;34m=\u001b[0m \u001b[0;34m[\u001b[0m\u001b[0;34m]\u001b[0m\u001b[0;34m\u001b[0m\u001b[0;34m\u001b[0m\u001b[0m\n\u001b[1;32m    204\u001b[0m         \u001b[0;32mfor\u001b[0m \u001b[0mi\u001b[0m \u001b[0;32min\u001b[0m \u001b[0mrange\u001b[0m\u001b[0;34m(\u001b[0m\u001b[0mrepeat\u001b[0m\u001b[0;34m)\u001b[0m\u001b[0;34m:\u001b[0m\u001b[0;34m\u001b[0m\u001b[0;34m\u001b[0m\u001b[0m\n\u001b[0;32m--> 205\u001b[0;31m             \u001b[0mt\u001b[0m \u001b[0;34m=\u001b[0m \u001b[0mself\u001b[0m\u001b[0;34m.\u001b[0m\u001b[0mtimeit\u001b[0m\u001b[0;34m(\u001b[0m\u001b[0mnumber\u001b[0m\u001b[0;34m)\u001b[0m\u001b[0;34m\u001b[0m\u001b[0;34m\u001b[0m\u001b[0m\n\u001b[0m\u001b[1;32m    206\u001b[0m             \u001b[0mr\u001b[0m\u001b[0;34m.\u001b[0m\u001b[0mappend\u001b[0m\u001b[0;34m(\u001b[0m\u001b[0mt\u001b[0m\u001b[0;34m)\u001b[0m\u001b[0;34m\u001b[0m\u001b[0;34m\u001b[0m\u001b[0m\n\u001b[1;32m    207\u001b[0m         \u001b[0;32mreturn\u001b[0m \u001b[0mr\u001b[0m\u001b[0;34m\u001b[0m\u001b[0;34m\u001b[0m\u001b[0m\n",
            "\u001b[0;32m/usr/local/lib/python3.8/dist-packages/IPython/core/magics/execution.py\u001b[0m in \u001b[0;36mtimeit\u001b[0;34m(self, number)\u001b[0m\n\u001b[1;32m    167\u001b[0m         \u001b[0mgc\u001b[0m\u001b[0;34m.\u001b[0m\u001b[0mdisable\u001b[0m\u001b[0;34m(\u001b[0m\u001b[0;34m)\u001b[0m\u001b[0;34m\u001b[0m\u001b[0;34m\u001b[0m\u001b[0m\n\u001b[1;32m    168\u001b[0m         \u001b[0;32mtry\u001b[0m\u001b[0;34m:\u001b[0m\u001b[0;34m\u001b[0m\u001b[0;34m\u001b[0m\u001b[0m\n\u001b[0;32m--> 169\u001b[0;31m             \u001b[0mtiming\u001b[0m \u001b[0;34m=\u001b[0m \u001b[0mself\u001b[0m\u001b[0;34m.\u001b[0m\u001b[0minner\u001b[0m\u001b[0;34m(\u001b[0m\u001b[0mit\u001b[0m\u001b[0;34m,\u001b[0m \u001b[0mself\u001b[0m\u001b[0;34m.\u001b[0m\u001b[0mtimer\u001b[0m\u001b[0;34m)\u001b[0m\u001b[0;34m\u001b[0m\u001b[0;34m\u001b[0m\u001b[0m\n\u001b[0m\u001b[1;32m    170\u001b[0m         \u001b[0;32mfinally\u001b[0m\u001b[0;34m:\u001b[0m\u001b[0;34m\u001b[0m\u001b[0;34m\u001b[0m\u001b[0m\n\u001b[1;32m    171\u001b[0m             \u001b[0;32mif\u001b[0m \u001b[0mgcold\u001b[0m\u001b[0;34m:\u001b[0m\u001b[0;34m\u001b[0m\u001b[0;34m\u001b[0m\u001b[0m\n",
            "\u001b[0;32m<magic-timeit>\u001b[0m in \u001b[0;36minner\u001b[0;34m(_it, _timer)\u001b[0m\n",
            "\u001b[0;32m<ipython-input-7-02b5c4dd3ece>\u001b[0m in \u001b[0;36mQR_algorithm\u001b[0;34m(A, N_iterations)\u001b[0m\n\u001b[1;32m      2\u001b[0m     \u001b[0mH\u001b[0m \u001b[0;34m=\u001b[0m \u001b[0mHessenberg_Transform\u001b[0m\u001b[0;34m(\u001b[0m\u001b[0mA\u001b[0m\u001b[0;34m)\u001b[0m\u001b[0;34m\u001b[0m\u001b[0;34m\u001b[0m\u001b[0m\n\u001b[1;32m      3\u001b[0m     \u001b[0;32mfor\u001b[0m \u001b[0mi\u001b[0m \u001b[0;32min\u001b[0m \u001b[0mrange\u001b[0m\u001b[0;34m(\u001b[0m\u001b[0mN_iterations\u001b[0m\u001b[0;34m)\u001b[0m\u001b[0;34m:\u001b[0m\u001b[0;34m\u001b[0m\u001b[0;34m\u001b[0m\u001b[0m\n\u001b[0;32m----> 4\u001b[0;31m         \u001b[0mQ\u001b[0m\u001b[0;34m,\u001b[0m\u001b[0mR\u001b[0m \u001b[0;34m=\u001b[0m \u001b[0mQR_givens\u001b[0m\u001b[0;34m(\u001b[0m\u001b[0mH\u001b[0m\u001b[0;34m)\u001b[0m\u001b[0;34m\u001b[0m\u001b[0;34m\u001b[0m\u001b[0m\n\u001b[0m\u001b[1;32m      5\u001b[0m         \u001b[0mH\u001b[0m \u001b[0;34m=\u001b[0m \u001b[0mR\u001b[0m \u001b[0;34m@\u001b[0m \u001b[0mQ\u001b[0m\u001b[0;34m\u001b[0m\u001b[0;34m\u001b[0m\u001b[0m\n\u001b[1;32m      6\u001b[0m     \u001b[0mH\u001b[0m \u001b[0;34m=\u001b[0m \u001b[0mnp\u001b[0m\u001b[0;34m.\u001b[0m\u001b[0maround\u001b[0m\u001b[0;34m(\u001b[0m\u001b[0mH\u001b[0m\u001b[0;34m,\u001b[0m \u001b[0mdecimals\u001b[0m\u001b[0;34m=\u001b[0m\u001b[0;36m6\u001b[0m\u001b[0;34m)\u001b[0m\u001b[0;34m\u001b[0m\u001b[0;34m\u001b[0m\u001b[0m\n",
            "\u001b[0;32m<ipython-input-6-52636425f888>\u001b[0m in \u001b[0;36mQR_givens\u001b[0;34m(H)\u001b[0m\n\u001b[1;32m     29\u001b[0m \u001b[0;34m\u001b[0m\u001b[0m\n\u001b[1;32m     30\u001b[0m             \u001b[0mG\u001b[0m \u001b[0;34m=\u001b[0m \u001b[0mnp\u001b[0m\u001b[0;34m.\u001b[0m\u001b[0midentity\u001b[0m\u001b[0;34m(\u001b[0m\u001b[0mnum_rows\u001b[0m\u001b[0;34m)\u001b[0m\u001b[0;34m\u001b[0m\u001b[0;34m\u001b[0m\u001b[0m\n\u001b[0;32m---> 31\u001b[0;31m             \u001b[0mG\u001b[0m\u001b[0;34m[\u001b[0m\u001b[0;34m[\u001b[0m\u001b[0mcol\u001b[0m\u001b[0;34m,\u001b[0m \u001b[0mrow\u001b[0m\u001b[0;34m]\u001b[0m\u001b[0;34m,\u001b[0m \u001b[0;34m[\u001b[0m\u001b[0mcol\u001b[0m\u001b[0;34m,\u001b[0m \u001b[0mrow\u001b[0m\u001b[0;34m]\u001b[0m\u001b[0;34m]\u001b[0m \u001b[0;34m=\u001b[0m \u001b[0mc\u001b[0m\u001b[0;34m\u001b[0m\u001b[0;34m\u001b[0m\u001b[0m\n\u001b[0m\u001b[1;32m     32\u001b[0m             \u001b[0mG\u001b[0m\u001b[0;34m[\u001b[0m\u001b[0mrow\u001b[0m\u001b[0;34m,\u001b[0m \u001b[0mcol\u001b[0m\u001b[0;34m]\u001b[0m \u001b[0;34m=\u001b[0m \u001b[0ms\u001b[0m\u001b[0;34m\u001b[0m\u001b[0;34m\u001b[0m\u001b[0m\n\u001b[1;32m     33\u001b[0m             \u001b[0mG\u001b[0m\u001b[0;34m[\u001b[0m\u001b[0mcol\u001b[0m\u001b[0;34m,\u001b[0m \u001b[0mrow\u001b[0m\u001b[0;34m]\u001b[0m \u001b[0;34m=\u001b[0m \u001b[0;34m-\u001b[0m\u001b[0ms\u001b[0m\u001b[0;34m\u001b[0m\u001b[0;34m\u001b[0m\u001b[0m\n",
            "\u001b[0;31mKeyboardInterrupt\u001b[0m: "
          ]
        }
      ],
      "source": [
        "import matplotlib.pyplot as plt\n",
        "%matplotlib inline\n",
        "\n",
        "time_range = []\n",
        "dim_range = [5*i for i in range(1, 11)]\n",
        "for n in dim_range:\n",
        "    print(\"Dimension = {}\".format(n))\n",
        "    A = np.random.randn(n, n)\n",
        "    t = %timeit -o -q QR_algorithm(A, 1000)\n",
        "    time_range.append(t.best)\n",
        "    print(\"Time = {}\".format(t.best))"
      ]
    },
    {
      "cell_type": "code",
      "execution_count": null,
      "metadata": {
        "id": "0Ja2ocVjFQEy",
        "outputId": "ae083d4f-db7a-413e-d330-0996c9f728ca"
      },
      "outputs": [
        {
          "data": {
            "text/plain": [
              "Text(0.5, 1.0, 'Time vs. Dimension for QR-algorithm')"
            ]
          },
          "execution_count": 434,
          "metadata": {},
          "output_type": "execute_result"
        },
        {
          "data": {
            "image/png": "[encoded data removed]",
            "text/plain": [
              "<Figure size 640x480 with 1 Axes>"
            ]
          },
          "metadata": {},
          "output_type": "display_data"
        }
      ],
      "source": [
        "plt.plot(dim_range, time_range, label=\"1000 iterations\")\n",
        "plt.legend()\n",
        "plt.xlabel(\"Dimension\")\n",
        "plt.ylabel(\"Time\")\n",
        "plt.xscale(\"log\")\n",
        "plt.yscale(\"log\")\n",
        "plt.title(\"Time vs. Dimension for QR-algorithm\");"
      ]
    },
    {
      "cell_type": "code",
      "execution_count": null,
      "metadata": {
        "id": "K92fbfJ2FQEy"
      },
      "outputs": [],
      "source": [
        "n = 5\n",
        "\n",
        "A = np.random.randn(n, n)\n",
        "\n",
        "N_iterations = 100000\n",
        "\n",
        "A_alg = A\n",
        "A_in = A\n",
        "\n",
        "H = QR_algorithm(A_alg,N_iterations)\n",
        "\n",
        "# eigs_alg,_ = np.linalg.eig(H)\n",
        "# eigs_in,_ = np.linalg.eig(A_in)\n",
        "\n",
        "# eigs_alg, eigs_in"
      ]
    },
    {
      "cell_type": "code",
      "execution_count": null,
      "metadata": {
        "colab": {
          "base_uri": "https://localhost:8080/"
        },
        "id": "DZ4TOTIwFQEy",
        "outputId": "067deb7e-215d-4407-f806-43e7abf0d659"
      },
      "outputs": [
        {
          "output_type": "execute_result",
          "data": {
            "text/plain": [
              "array([[-2.648942,  1.009401, -1.674576, -0.410224, -0.112814],\n",
              "       [-0.      ,  1.443175, -1.499467, -0.181031,  0.925161],\n",
              "       [-0.      ,  0.177633,  1.032513, -0.678177,  1.766782],\n",
              "       [-0.      ,  0.      ,  0.      , -1.236671,  1.25733 ],\n",
              "       [ 0.      ,  0.      ,  0.      ,  0.      ,  0.732328]])"
            ]
          },
          "metadata": {},
          "execution_count": 12
        }
      ],
      "source": [
        "H"
      ]
    },
    {
      "cell_type": "code",
      "execution_count": null,
      "metadata": {
        "id": "9JlY9iS3FQEz"
      },
      "outputs": [],
      "source": [
        "def eigs_block_detect(H):\n",
        "    eigs_block = []\n",
        "    eigs_not_block = []\n",
        "    k = None\n",
        "    for i in range(H.shape[0]):\n",
        "        for j in range(H.shape[1]):\n",
        "            if i==j:\n",
        "                eigs_not_block.append(H[i][j])\n",
        "    for i in range(H.shape[0]-1):\n",
        "        if H[i+1][i] != 0.:\n",
        "            H_block = H[i:i+2, i:i+2]\n",
        "            eigs_block, _= np.linalg.eig(H[i:i+2, i:i+2])\n",
        "            eigs_not_block.remove(H[i][i])\n",
        "            eigs_not_block.remove(H[i+1][i+1])\n",
        "    for i in range(len(eigs_block)):\n",
        "        eigs_not_block.append(eigs_block[i])\n",
        "    return eigs_not_block\n",
        "    \n",
        "\n",
        "eigs_list = eigs_block_detect(H)"
      ]
    },
    {
      "cell_type": "code",
      "execution_count": null,
      "metadata": {
        "colab": {
          "base_uri": "https://localhost:8080/"
        },
        "id": "kH4dAqfQFQEz",
        "outputId": "4d9ead2b-3e6a-4ce2-861f-5d0f61ae7587"
      },
      "outputs": [
        {
          "output_type": "execute_result",
          "data": {
            "text/plain": [
              "[-2.648942,\n",
              " -1.236671,\n",
              " 0.732328,\n",
              " (1.237844+0.4734912903634025j),\n",
              " (1.237844-0.4734912903634025j)]"
            ]
          },
          "metadata": {},
          "execution_count": 14
        }
      ],
      "source": [
        "eigs_list"
      ]
    },
    {
      "cell_type": "code",
      "execution_count": null,
      "metadata": {
        "colab": {
          "base_uri": "https://localhost:8080/"
        },
        "id": "5gBpCJxbFQEz",
        "outputId": "de253982-3645-442f-c088-eba6466cdfa7"
      },
      "outputs": [
        {
          "output_type": "execute_result",
          "data": {
            "text/plain": [
              "([(1.237844+0.4734912903634025j),\n",
              "  (1.237844-0.4734912903634025j),\n",
              "  0.732328,\n",
              "  -1.236671,\n",
              "  -2.648942],\n",
              " [(1.237844+0.4734912903634025j),\n",
              "  (1.237844-0.4734912903634025j),\n",
              "  (0.732328+0j),\n",
              "  (-1.236671+0j),\n",
              "  (-2.648942+0j)])"
            ]
          },
          "metadata": {},
          "execution_count": 15
        }
      ],
      "source": [
        "eigs_lib,_ = np.linalg.eig(H)\n",
        "\n",
        "eigs_list = sorted(eigs_list, reverse = True)\n",
        "eigs_lib =  sorted(eigs_lib, reverse = True)\n",
        "\n",
        "eigs_list, eigs_lib"
      ]
    },
    {
      "cell_type": "code",
      "execution_count": null,
      "metadata": {
        "id": "PqY9-AXSFQEz"
      },
      "outputs": [],
      "source": [
        "def RMSE_func(y_pred, y_true):\n",
        "    sum_mse = 0\n",
        "    if len(y_pred)==len(y_true):\n",
        "        for i in range(len(y_pred)):\n",
        "            sum_mse += (y_pred[i]**2 - y_true[i]**2)/len(y_pred)\n",
        "    return sum_mse"
      ]
    },
    {
      "cell_type": "code",
      "execution_count": null,
      "metadata": {
        "colab": {
          "base_uri": "https://localhost:8080/"
        },
        "id": "OxnqYxdUFQEz",
        "outputId": "c031fae6-c785-4518-b9c5-c4ad8c126c61"
      },
      "outputs": [
        {
          "output_type": "execute_result",
          "data": {
            "text/plain": [
              "0j"
            ]
          },
          "metadata": {},
          "execution_count": 17
        }
      ],
      "source": [
        "RMSE_func(eigs_list, eigs_lib)"
      ]
    },
    {
      "cell_type": "markdown",
      "metadata": {
        "id": "0CzvluMS3Kys"
      },
      "source": [
        "# Problem 2 (Stochastic trace estimation) (30 pts) "
      ]
    },
    {
      "cell_type": "markdown",
      "metadata": {
        "id": "qFFd6Gfpw_SK"
      },
      "source": [
        "In this problem we consider stochastic estimation of trace for implicitly-defined matrices.\n",
        "\n",
        "Impicitly-defined matrices are such that matrix-vector multiplication is easy to perform, but matrix entries are not easy to obtain (examples are given by integral kernels, products of sparse matrices, products of a set of circulants, low-rank matrices given in a compressed form, etc).\n",
        "\n",
        "In such cases it is often possible to approximate trace with $k\\ll N$ matrix-vector products, where $N$ is the size of matrix.\n",
        "\n",
        "One popular way to obtain stochastic estimate is Hutchinson algorithm."
      ]
    },
    {
      "cell_type": "markdown",
      "metadata": {
        "id": "5h9q64EeRD9t"
      },
      "source": [
        "## Hutchinson algorithm\n",
        "Let $u$ be a random vector from $\\mathbb{R}^{n}$ with independent identicaly distributed entries $u_i$ each having zero mean and variance $\\sigma^2$.\n",
        "\n",
        "Let $B$ be a symmetric matrix from $\\mathbb{R}^{n\\times n}$.\n",
        "\n",
        "Hutchinson algorithm is roughly as follows:\n",
        "\n",
        "    trace_estimate = 0\n",
        "    for i=1:N do\n",
        "        u = random_vector\n",
        "        trace_estimate += (u,Bu)\n",
        "    end do\n",
        "    trace_estimate /= N\n",
        "\n",
        "So Hutchinson algorithm uses empirical mean $u^\\top B u$ as a trace estimation. Below we ask you to find properties of this estimator."
      ]
    },
    {
      "cell_type": "markdown",
      "metadata": {
        "id": "VgHOv00abY_0"
      },
      "source": [
        "**Subproblem 1 (5 pts)**"
      ]
    },
    {
      "cell_type": "markdown",
      "metadata": {
        "id": "3C5hsAIZReDq"
      },
      "source": [
        "1. Show that $\\mathbb{E}\\left[u^\\top B u\\right] = \\sigma^2 \\text{tr} B$, where $\\mathbb{E}\\left[\\cdot\\right]$ denotes average wrt $u$."
      ]
    },
    {
      "cell_type": "markdown",
      "source": [
        "---\n",
        "\n",
        "We know that $B$ is a symmetric matrix and it's means that we can rewrite equation elementwise like\n",
        "\n",
        "$$u^T B u = \\sum^n_{i,j} u_{i} b_{i,j} u_{j} = \\sum^n_{i,j} b_{i,j} u_{i}  u_{j}$$\n",
        "\n",
        "And \n",
        "\n",
        "$$ \\mathbb{E}\\left[u^\\top B u\\right] = \\mathbb{E} \\left[ \\sum^n_{i, j} u_i b_{i,j} u_j \\right] =  \\sum^n_{i, j}  \\mathbb{E} \\left[ u_i b_{i,j} u_j \\right]  $$\n",
        "\n",
        "Then, according to first raw we can say that\n",
        "\n",
        "$$\\sum^n_{i, j}  \\mathbb{E} \\left[ u_i b_{i,j} u_j \\right]  = \\sum^n_{i, j}  \\mathbb{E} \\left[b_{i,j} u_i  u_j \\right] =  \\sum^n_{i, j} b_{i,j} \\mathbb{E} \\left[ u_i  u_j \\right]$$\n",
        "\n",
        "$$ \\sum^n_{i, j} b_{i,j} \\mathbb{E} \\left[ u_i  u_j \\right] = \\sum^n_{i = j} b_{ij} \\mathbb{E} \\left[ u_i^2 \\right] + \\sum^n_{i, j} b_{i \\neq j} \\mathbb{E}\\left[ u_i \\right] \\mathbb{E} \\left[ u_j \\right] $$\n",
        "\n",
        "We know that $ \\mathbb{E} \\left[ u \\right] = 0$\n",
        "\n",
        "$$\\sum^n_{i = j} b_{ij} \\mathbb{E} \\left[ u_i^2 \\right]  = \\sum^n_{i = j} b_{ij} \\sigma^2 = \\sigma^2 \\sum^n_{i} b_{ii} = \\sigma^2 \\text{tr}B$$\n",
        "\n",
        "---"
      ],
      "metadata": {
        "id": "uncndNJTvIKW"
      }
    },
    {
      "cell_type": "markdown",
      "metadata": {
        "id": "YLIKOSDTSLRC"
      },
      "source": [
        "2. Show that $\\text{var}\\left[u^\\top B u\\right] = 2\\sigma^4 \\sum_{i\\neq j}B_{ij}^2 + \\left(\\mathbb{E}\\left[u^4\\right] - \\sigma^4\\right)\\sum_{i}B_{ii}^2$, where $\\text{var}$ denotes [variance](https://en.wikipedia.org/wiki/Variance)."
      ]
    },
    {
      "cell_type": "markdown",
      "source": [
        "---\n",
        "By definition, $\\text{var}\\left[u^T B u\\right] = \\mathbb{E}\\left[(u^T B u\\right)^2] - (\\mathbb{E}\\left[u^T B u\\right])^2 $\n",
        "\n",
        "We can rewritting this equation like \n",
        "$$ \\mathbb{E} \\left[(u^T B u)^2 \\right]  =  \\mathbb{E} \\left[\\sum^n_{i, j} u_i b_{i,j} u_j  \\sum^n_{k, l} u_k b_{k,l} u_l \\right] $$\n",
        "\n",
        "$$ \\mathbb{E} \\left[\\sum^n_{i, j} \\sum^n_{k, l} b_{i,j} b_{k,l} u_i u_j  u_k u_l \\right] = \\sum^n_{i, j} \\sum^n_{k, l} b_{i,j} b_{k,l}  \\mathbb{E} \\left[u_i u_j  u_k  u_l \\right]$$\n",
        "\n",
        "$$ = \\sum^n_{i = j} b_{i,i} b_{j,j} \\mathbb{E} \\left[u_i \\right]^4 + \\sum^n_{i \\neq j} b_{i,j} b_{i,j}  \\mathbb{E} \\left[u_i u_j  u_i u_j \\right] = $$\n",
        "\n",
        "$$ = \\sum^n_{i = j} b_{i,i} b_{i,i} \\mathbb{E}[u_i]^4 + \\sum^n_{i \\neq j} b_{i,i} b_{j,j}  \\sigma^4 +\n",
        "2 \\sum^n_{i \\neq j} b_{i,j}^2 \\sigma^4 $$\n",
        "\n",
        "and we can considere\n",
        "$$\\mathbb{E}[u_i  u_j  u_k u_l ] = 0$$\n",
        ", when $i \\neq j \\neq k \\neq l$\n",
        "\n",
        "$$ (\\mathbb{E}\\left[u^\\top B u\\right])^2 = (\\sigma^2 \\sum^n_{i} b_{i,i})^2 = \\sigma^4 \\sum^n_{i} b_{i,i} \\sum^n_{j} b_{j,j} = \\sigma^4  \\sum^n_{i,j} b_{i,i} b_{j,j} $$\n",
        "\n",
        "$$\\text{var}\\left[u^\\top B u\\right] = \n",
        "\\sum^n_{i = j} b_{i,i} b_{i,i} \\mathbb{E}[u_i]^4 \n",
        "+ \\sigma^4 \\sum^n_{i \\neq j} b_{i,i} b_{j,j}  +\n",
        "2 \\sigma^4  \\sum^n_{i \\neq j} b_{i,j}^2 \n",
        "- \\sigma^4  \\sum^n_{i=j} b_{i,i} b_{j,j} \n",
        "- \\sigma^4  \\sum^n_{i \\neq j} b_{i,i} b_{j,j} \n",
        "= 2 \\sigma^4  \\sum^n_{i \\neq j} b_{i,j}^2 + \\left(\\mathbb{E}\\left[u^4\\right] - \\sigma^4\\right)\\sum^n_{i}b_{i,i}^2$$\n",
        "---"
      ],
      "metadata": {
        "id": "2NcepIlpNZrv"
      }
    },
    {
      "cell_type": "markdown",
      "metadata": {
        "id": "vymc7lvsSpqC"
      },
      "source": [
        "3. Find the variance for the case when:\n",
        "\n",
        "  a. each $u_{i}\\sim \\mathcal{N}(0, \\sigma^2)$, i.e., for normally distributed with zero mean and variance $\\sigma^2$;\n",
        "\n",
        "  b. each $u_{i}$ follows [Rademacher distribution](https://en.wikipedia.org/wiki/Rademacher_distribution);"
      ]
    },
    {
      "cell_type": "markdown",
      "source": [
        "a. each $u_{i}\\sim \\mathcal{N}(0, \\sigma^2)$;\n",
        "$$\\text{var}\\left[u^\\top B u\\right] = 2\\sigma^4 \\sum_{i\\neq j}b_{i,j}^2 + \\left(\\mathbb{E}\\left[u^4\\right] - \\sigma^4\\right)\\sum_{i}b_{i,i}^2  = \n",
        "2\\sigma^4 \\sum_{i\\neq j}b_{i,j}^2 + \\left(3\\sigma^4 - \\sigma^4\\right)\\sum_{i}b_{i,i}^2 = 2\\sigma^4 (\\sum_{i\\neq j}b_{i,j}^2 + \\sum_{i}b_{i,i}^2 ) =  2\\sigma^4 \\sum^n_{i,j}b_{i,j}^2 =  2\\sigma^4 \\text{tr}^2B\n",
        "$$"
      ],
      "metadata": {
        "id": "thvNiloNQR9w"
      }
    },
    {
      "cell_type": "markdown",
      "source": [
        "b. each $u_{i}$ is in Rademacher distribution\n",
        "\n",
        "$$ \\mathbb{E}[ u^4] = \\frac{1}{2} (-1)^4 + \\frac{1}{2} (1)^4 = 1$$\n",
        "$$ \\text{var}[ u] = \\frac{1}{2} (-1)^2 + \\frac{1}{2} (1)^2 = 1$$\n",
        "\n",
        "$$\\text{var}\\left[u^\\top B u\\right] = 2\\sigma^4 \\sum^n_{i\\neq j}b_{i,j}^2 + \\left(\\mathbb{E}\\left[u^4\\right] - \\sigma^4\\right)\\sum^n_{i}b_{i,i}^2\n",
        "  = 2 \\sum^n_{i\\neq j}b_{i,j}^2$$"
      ],
      "metadata": {
        "id": "yR61Cr1SQXhf"
      }
    },
    {
      "cell_type": "markdown",
      "metadata": {
        "id": "_g6jeeJBmiAI"
      },
      "source": [
        "4. Why variance matters.\n",
        "  \n",
        "  Let $z_1, \\dots, z_N$ are independent identicaly distributed samples of random variable with mean $\\mu$ and variance $\\sigma^2$ and $\\hat{\\mu} = \\frac{1}{N}\\sum_{i=1}^{N} z_{i}$ is a standard Monte Carlo extimator for mean.\n",
        "\n",
        "  a. Show that $\\mathbb{E}\\left[\\hat{\\mu}\\right] = \\mu$ and $\\text{var}\\left[\\hat{\\mu}\\right] = \\sigma^2 \\big/ N$.\n",
        "\n",
        "  b. Use [Chebyshev inequality](https://en.wikipedia.org/wiki/Chebyshev%27s_inequality) to find the number of samples $N$ you need to use to guarante that estimate $\\hat{\\mu}$ deviates from $\\mu$ on $\\epsilon\\ll 1$ with probability at most $\\delta\\ll 1$."
      ]
    },
    {
      "cell_type": "markdown",
      "source": [
        "a. \n",
        "\n",
        "$$\\mathbb{E} \\left[ \\hat{\\mu} \\right] =\n",
        " \\mathbb{E} \\left[\\frac{1}{N}\\sum^N_{i=1} z_{i} \\right]=\n",
        " \\frac{1}{N}\\sum^N_{i=1} \\mathbb{E} \\left[ z_{i} \\right] = \\frac{N}{N} \\mu =  \\mu $$\n",
        "\n",
        "$$\\text{var} [\\hat{\\mu}] =\n",
        "\\text{var} [\\frac{1}{N}\\sum_{i=1}^{N} z_{i}]=\n",
        " \\frac{1}{N^2}\\sum_{i=1}^{N} \\text{var} [z_{i}] = \\frac{N}{N^2} \\sigma^2 = \\frac{\\sigma^2 }{N} $$"
      ],
      "metadata": {
        "id": "AHkE2dfPTtde"
      }
    },
    {
      "cell_type": "markdown",
      "source": [
        "b.\n",
        "\n",
        " $$ \\mathbb{P}\\left(|\\hat{\\mu}-\\mu|\\geqslant \\epsilon \\right) \\leqslant \\frac{ \\sigma^2}{N \\epsilon^2} \\leq \\delta$$\n",
        " \n",
        " $$ \\delta \\geq \\frac{\\sigma^2}{N \\epsilon^2} $$\n",
        "\n",
        " $$N \\geq \\frac{\\sigma^2}{\\delta \\epsilon^2}$$"
      ],
      "metadata": {
        "id": "XGH0o1mmVr6S"
      }
    },
    {
      "cell_type": "markdown",
      "metadata": {
        "id": "dVGZe5pFoWRF"
      },
      "source": [
        "5. Does the variance of the estimator matters?\n",
        "\n",
        "  a. Adapt bounds from _Subproblem 1 point 4.b_ for Hutchinson algorithm with normal and Rademacher distributions.\n",
        "\n",
        "  b. Empirically evaluate variances from _Subproblem 1 point 2_ using several sparse, low-rank and circulant matrices.\n",
        "\n",
        "  c. Comment on practicality of Chebyshev bounds. What is the number of iterations you need to perform to achieve reasonably small error with reasonably large probability according to this bound?"
      ]
    },
    {
      "cell_type": "markdown",
      "source": [
        "a. \n",
        "\n",
        "For normal distribution\n",
        "\n",
        "  $$\\text{var}\\left[u^\\top B u\\right] = 2\\sigma^4 \\text{tr}^2 B = 2\\sigma^4 \\Vert B \\Vert_F  $$\n",
        "\n",
        "   $$N \\geq \\frac{ \\sigma^4 \\Vert B \\Vert_F }{\\delta \\epsilon^2}$$\n",
        "\n",
        "For Rademacher distribution\n",
        "\n",
        "  $$\\text{var}\\left[u^\\top B u\\right] = 2 \\sum^n_{i\\neq j} b_{i,j}^2  $$\n",
        "  \n",
        "  $$N \\geq \\dfrac{ 2 \\sum^n_{i\\neq j} b_{i,j}^2 }{\\delta \\epsilon^2}$$"
      ],
      "metadata": {
        "id": "OqVjBRa3fz-H"
      }
    },
    {
      "cell_type": "markdown",
      "source": [
        "b."
      ],
      "metadata": {
        "id": "MyXjA1l_Q4x2"
      }
    },
    {
      "cell_type": "code",
      "source": [
        "import numpy as np\n",
        "from scipy.sparse import random\n",
        "from scipy.linalg import circulant\n",
        "from scipy import stats\n",
        "from numpy.random import default_rng"
      ],
      "metadata": {
        "id": "c6-7G_n0A-8h"
      },
      "execution_count": 25,
      "outputs": []
    },
    {
      "cell_type": "code",
      "source": [
        "def normal_variance(B, N_iter, mu=0, sigma=1):\n",
        "  m, n = B.shape\n",
        "  variance = []\n",
        "\n",
        "  for i in range(N_iter):\n",
        "    u = np.random.normal(0, sigma, size=m)\n",
        "    Bu = np.dot(B, u)\n",
        "    uTBu = np.dot(u, Bu)\n",
        "    variance.append(uTBu)\n",
        "  varience = np.array(variance)\n",
        "  return varience"
      ],
      "metadata": {
        "id": "FFqNFI5zLAPt"
      },
      "execution_count": 26,
      "outputs": []
    },
    {
      "cell_type": "code",
      "source": [
        "def rademacher_variance(B, N_iter, n=1, p=0.5):\n",
        "  m, n = B.shape\n",
        "  variance = []\n",
        "\n",
        "  for i in range(N_iter):\n",
        "    u = 2 * np.random.binomial(n, p, size=m) - 1\n",
        "    Bu = np.dot(B, u)\n",
        "    uTBu = np.dot(u, Bu)\n",
        "    variance.append(uTBu)\n",
        "  variance = np.array(variance)\n",
        "  return variance "
      ],
      "metadata": {
        "id": "67saNkQ-Lsdn"
      },
      "execution_count": null,
      "outputs": []
    },
    {
      "cell_type": "code",
      "source": [
        "def normal_var_theor(A):\n",
        "  res = 2 * np.power(np.linalg.norm(A, 'fro'),2)\n",
        "  return res"
      ],
      "metadata": {
        "id": "IDL9sTm0BKBF"
      },
      "execution_count": null,
      "outputs": []
    },
    {
      "cell_type": "code",
      "source": [
        "def rademacher_var_theor(A):\n",
        "  A = A - np.diagonal(A)\n",
        "  res = 2 * np.power(np.linalg.norm(A, 'fro'),2)\n",
        "  return res"
      ],
      "metadata": {
        "id": "Tw5c6N2-MrOB"
      },
      "execution_count": null,
      "outputs": []
    },
    {
      "cell_type": "code",
      "source": [
        "import pandas as pd\n",
        "\n",
        "matr_num = 12\n",
        "\n",
        "theoretical_sol_nv_arr = []\n",
        "theoretical_sol_rv_arr = []\n",
        "HA_sol_nv_arr = []\n",
        "HA_sol_rv_arr = []\n",
        "\n",
        "#sparse matrix\n",
        "for i in range(matr_num):\n",
        "  rng = default_rng()\n",
        "  rvs = stats.poisson(25, loc=10).rvs\n",
        "  sparse_element = random(50, 50, density=0.25, random_state=rng, data_rvs=rvs)\n",
        "  sparse = (sparse_element.A + sparse_element.A.T)/2\n",
        "\n",
        "  HA_sol_nv_arr.append(np.var(normal_variance(sparse, 500)))\n",
        "  HA_sol_rv_arr.append(np.var(rademacher_variance(sparse, 500)))\n",
        "  theoretical_sol_nv_arr.append(normal_var_theor(sparse))\n",
        "  theoretical_sol_rv_arr.append(rademacher_var_theor(sparse))\n",
        "\n",
        "variance_comparing_dict = {'theor_normal':theoretical_sol_nv_arr, 'hutchinson_normal': HA_sol_nv_arr,\n",
        "                           'theor_rademacher':theoretical_sol_rv_arr, 'hutchinson_rademacher': HA_sol_rv_arr}\n",
        "\n",
        "df_circ = pd.DataFrame.from_dict(variance_comparing_dict)\n",
        "df_circ['difference_norm_%'] = 100 * abs(df_circ['theor_normal'] - df_circ['hutchinson_normal'])/df_circ['theor_normal']\n",
        "df_circ['difference_rad_%'] = 100 * abs(df_circ['theor_rademacher'] - df_circ['hutchinson_rademacher'])/df_circ['theor_rademacher']\n",
        "print('For sparse matrices:')\n",
        "df_circ"
      ],
      "metadata": {
        "colab": {
          "base_uri": "https://localhost:8080/",
          "height": 444
        },
        "id": "-dK3NBoq5-Zi",
        "outputId": "ec228360-3ead-45bf-9bca-2a4a63aa9e01"
      },
      "execution_count": null,
      "outputs": [
        {
          "output_type": "stream",
          "name": "stdout",
          "text": [
            "For sparse matrices:\n"
          ]
        },
        {
          "output_type": "execute_result",
          "data": {
            "text/plain": [
              "    theor_normal  hutchinson_normal  theor_rademacher  hutchinson_rademacher  \\\n",
              "0       986512.0       9.491621e+05         1809856.0           4.793435e+12   \n",
              "1       999053.0       1.045153e+06         1385789.0           4.801678e+12   \n",
              "2       975004.0       8.097448e+05         1458900.0           4.802408e+12   \n",
              "3       972069.0       1.008749e+06         1522167.0           4.906901e+12   \n",
              "4      1014790.0       1.084525e+06         1930924.0           4.860182e+12   \n",
              "5       951001.0       9.544113e+05         1736551.0           4.784591e+12   \n",
              "6       982813.0       1.032520e+06         1754429.0           4.464428e+12   \n",
              "7       971435.0       8.720626e+05         2086261.0           5.459741e+12   \n",
              "8       983238.0       9.814375e+05         1729614.0           4.268814e+12   \n",
              "9      1008642.0       9.042805e+05         1703702.0           5.001273e+12   \n",
              "10     1012179.0       1.014153e+06         1952443.0           4.642261e+12   \n",
              "11      982071.0       8.940310e+05         1555539.0           4.720624e+12   \n",
              "\n",
              "    difference_norm_%  difference_rad_%  \n",
              "0            3.786061      2.648516e+08  \n",
              "1            4.614406      3.464941e+08  \n",
              "2           16.949588      3.291799e+08  \n",
              "3            3.773406      3.223627e+08  \n",
              "4            6.871908      2.517023e+08  \n",
              "5            0.358604      2.755225e+08  \n",
              "6            5.057610      2.544661e+08  \n",
              "7           10.229442      2.616997e+08  \n",
              "8            0.183123      2.468072e+08  \n",
              "9           10.346730      2.935532e+08  \n",
              "10           0.195022      2.377667e+08  \n",
              "11           8.964726      3.034718e+08  "
            ],
            "text/html": [
              "\n",
              "  <div id=\"df-c353a3de-15bd-4cd9-bccc-6605282d9954\">\n",
              "    <div class=\"colab-df-container\">\n",
              "      <div>\n",
              "<style scoped>\n",
              "    .dataframe tbody tr th:only-of-type {\n",
              "        vertical-align: middle;\n",
              "    }\n",
              "\n",
              "    .dataframe tbody tr th {\n",
              "        vertical-align: top;\n",
              "    }\n",
              "\n",
              "    .dataframe thead th {\n",
              "        text-align: right;\n",
              "    }\n",
              "</style>\n",
              "<table border=\"1\" class=\"dataframe\">\n",
              "  <thead>\n",
              "    <tr style=\"text-align: right;\">\n",
              "      <th></th>\n",
              "      <th>theor_normal</th>\n",
              "      <th>hutchinson_normal</th>\n",
              "      <th>theor_rademacher</th>\n",
              "      <th>hutchinson_rademacher</th>\n",
              "      <th>difference_norm_%</th>\n",
              "      <th>difference_rad_%</th>\n",
              "    </tr>\n",
              "  </thead>\n",
              "  <tbody>\n",
              "    <tr>\n",
              "      <th>0</th>\n",
              "      <td>986512.0</td>\n",
              "      <td>9.491621e+05</td>\n",
              "      <td>1809856.0</td>\n",
              "      <td>4.793435e+12</td>\n",
              "      <td>3.786061</td>\n",
              "      <td>2.648516e+08</td>\n",
              "    </tr>\n",
              "    <tr>\n",
              "      <th>1</th>\n",
              "      <td>999053.0</td>\n",
              "      <td>1.045153e+06</td>\n",
              "      <td>1385789.0</td>\n",
              "      <td>4.801678e+12</td>\n",
              "      <td>4.614406</td>\n",
              "      <td>3.464941e+08</td>\n",
              "    </tr>\n",
              "    <tr>\n",
              "      <th>2</th>\n",
              "      <td>975004.0</td>\n",
              "      <td>8.097448e+05</td>\n",
              "      <td>1458900.0</td>\n",
              "      <td>4.802408e+12</td>\n",
              "      <td>16.949588</td>\n",
              "      <td>3.291799e+08</td>\n",
              "    </tr>\n",
              "    <tr>\n",
              "      <th>3</th>\n",
              "      <td>972069.0</td>\n",
              "      <td>1.008749e+06</td>\n",
              "      <td>1522167.0</td>\n",
              "      <td>4.906901e+12</td>\n",
              "      <td>3.773406</td>\n",
              "      <td>3.223627e+08</td>\n",
              "    </tr>\n",
              "    <tr>\n",
              "      <th>4</th>\n",
              "      <td>1014790.0</td>\n",
              "      <td>1.084525e+06</td>\n",
              "      <td>1930924.0</td>\n",
              "      <td>4.860182e+12</td>\n",
              "      <td>6.871908</td>\n",
              "      <td>2.517023e+08</td>\n",
              "    </tr>\n",
              "    <tr>\n",
              "      <th>5</th>\n",
              "      <td>951001.0</td>\n",
              "      <td>9.544113e+05</td>\n",
              "      <td>1736551.0</td>\n",
              "      <td>4.784591e+12</td>\n",
              "      <td>0.358604</td>\n",
              "      <td>2.755225e+08</td>\n",
              "    </tr>\n",
              "    <tr>\n",
              "      <th>6</th>\n",
              "      <td>982813.0</td>\n",
              "      <td>1.032520e+06</td>\n",
              "      <td>1754429.0</td>\n",
              "      <td>4.464428e+12</td>\n",
              "      <td>5.057610</td>\n",
              "      <td>2.544661e+08</td>\n",
              "    </tr>\n",
              "    <tr>\n",
              "      <th>7</th>\n",
              "      <td>971435.0</td>\n",
              "      <td>8.720626e+05</td>\n",
              "      <td>2086261.0</td>\n",
              "      <td>5.459741e+12</td>\n",
              "      <td>10.229442</td>\n",
              "      <td>2.616997e+08</td>\n",
              "    </tr>\n",
              "    <tr>\n",
              "      <th>8</th>\n",
              "      <td>983238.0</td>\n",
              "      <td>9.814375e+05</td>\n",
              "      <td>1729614.0</td>\n",
              "      <td>4.268814e+12</td>\n",
              "      <td>0.183123</td>\n",
              "      <td>2.468072e+08</td>\n",
              "    </tr>\n",
              "    <tr>\n",
              "      <th>9</th>\n",
              "      <td>1008642.0</td>\n",
              "      <td>9.042805e+05</td>\n",
              "      <td>1703702.0</td>\n",
              "      <td>5.001273e+12</td>\n",
              "      <td>10.346730</td>\n",
              "      <td>2.935532e+08</td>\n",
              "    </tr>\n",
              "    <tr>\n",
              "      <th>10</th>\n",
              "      <td>1012179.0</td>\n",
              "      <td>1.014153e+06</td>\n",
              "      <td>1952443.0</td>\n",
              "      <td>4.642261e+12</td>\n",
              "      <td>0.195022</td>\n",
              "      <td>2.377667e+08</td>\n",
              "    </tr>\n",
              "    <tr>\n",
              "      <th>11</th>\n",
              "      <td>982071.0</td>\n",
              "      <td>8.940310e+05</td>\n",
              "      <td>1555539.0</td>\n",
              "      <td>4.720624e+12</td>\n",
              "      <td>8.964726</td>\n",
              "      <td>3.034718e+08</td>\n",
              "    </tr>\n",
              "  </tbody>\n",
              "</table>\n",
              "</div>\n",
              "      <button class=\"colab-df-convert\" onclick=\"convertToInteractive('df-c353a3de-15bd-4cd9-bccc-6605282d9954')\"\n",
              "              title=\"Convert this dataframe to an interactive table.\"\n",
              "              style=\"display:none;\">\n",
              "        \n",
              "  <svg xmlns=\"http://www.w3.org/2000/svg\" height=\"24px\"viewBox=\"0 0 24 24\"\n",
              "       width=\"24px\">\n",
              "    <path d=\"M0 0h24v24H0V0z\" fill=\"none\"/>\n",
              "    <path d=\"M18.56 5.44l.94 2.06.94-2.06 2.06-.94-2.06-.94-.94-2.06-.94 2.06-2.06.94zm-11 1L8.5 8.5l.94-2.06 2.06-.94-2.06-.94L8.5 2.5l-.94 2.06-2.06.94zm10 10l.94 2.06.94-2.06 2.06-.94-2.06-.94-.94-2.06-.94 2.06-2.06.94z\"/><path d=\"M17.41 7.96l-1.37-1.37c-.4-.4-.92-.59-1.43-.59-.52 0-1.04.2-1.43.59L10.3 9.45l-7.72 7.72c-.78.78-.78 2.05 0 2.83L4 21.41c.39.39.9.59 1.41.59.51 0 1.02-.2 1.41-.59l7.78-7.78 2.81-2.81c.8-.78.8-2.07 0-2.86zM5.41 20L4 18.59l7.72-7.72 1.47 1.35L5.41 20z\"/>\n",
              "  </svg>\n",
              "      </button>\n",
              "      \n",
              "  <style>\n",
              "    .colab-df-container {\n",
              "      display:flex;\n",
              "      flex-wrap:wrap;\n",
              "      gap: 12px;\n",
              "    }\n",
              "\n",
              "    .colab-df-convert {\n",
              "      background-color: #E8F0FE;\n",
              "      border: none;\n",
              "      border-radius: 50%;\n",
              "      cursor: pointer;\n",
              "      display: none;\n",
              "      fill: #1967D2;\n",
              "      height: 32px;\n",
              "      padding: 0 0 0 0;\n",
              "      width: 32px;\n",
              "    }\n",
              "\n",
              "    .colab-df-convert:hover {\n",
              "      background-color: #E2EBFA;\n",
              "      box-shadow: 0px 1px 2px rgba(60, 64, 67, 0.3), 0px 1px 3px 1px rgba(60, 64, 67, 0.15);\n",
              "      fill: #174EA6;\n",
              "    }\n",
              "\n",
              "    [theme=dark] .colab-df-convert {\n",
              "      background-color: #3B4455;\n",
              "      fill: #D2E3FC;\n",
              "    }\n",
              "\n",
              "    [theme=dark] .colab-df-convert:hover {\n",
              "      background-color: #434B5C;\n",
              "      box-shadow: 0px 1px 3px 1px rgba(0, 0, 0, 0.15);\n",
              "      filter: drop-shadow(0px 1px 2px rgba(0, 0, 0, 0.3));\n",
              "      fill: #FFFFFF;\n",
              "    }\n",
              "  </style>\n",
              "\n",
              "      <script>\n",
              "        const buttonEl =\n",
              "          document.querySelector('#df-c353a3de-15bd-4cd9-bccc-6605282d9954 button.colab-df-convert');\n",
              "        buttonEl.style.display =\n",
              "          google.colab.kernel.accessAllowed ? 'block' : 'none';\n",
              "\n",
              "        async function convertToInteractive(key) {\n",
              "          const element = document.querySelector('#df-c353a3de-15bd-4cd9-bccc-6605282d9954');\n",
              "          const dataTable =\n",
              "            await google.colab.kernel.invokeFunction('convertToInteractive',\n",
              "                                                     [key], {});\n",
              "          if (!dataTable) return;\n",
              "\n",
              "          const docLinkHtml = 'Like what you see? Visit the ' +\n",
              "            '<a target=\"_blank\" href=https://colab.research.google.com/notebooks/data_table.ipynb>data table notebook</a>'\n",
              "            + ' to learn more about interactive tables.';\n",
              "          element.innerHTML = '';\n",
              "          dataTable['output_type'] = 'display_data';\n",
              "          await google.colab.output.renderOutput(dataTable, element);\n",
              "          const docLink = document.createElement('div');\n",
              "          docLink.innerHTML = docLinkHtml;\n",
              "          element.appendChild(docLink);\n",
              "        }\n",
              "      </script>\n",
              "    </div>\n",
              "  </div>\n",
              "  "
            ]
          },
          "metadata": {},
          "execution_count": 13
        }
      ]
    },
    {
      "cell_type": "code",
      "source": [
        "theoretical_sol_nv_arr = []\n",
        "theoretical_sol_rv_arr = []\n",
        "HA_sol_nv_arr = []\n",
        "HA_sol_rv_arr = []\n",
        "\n",
        "#low-rank matrix\n",
        "for i in range(matr_num):\n",
        "  # we can apply checked method to creation low-rank matrix from Ethernet\n",
        "  u = np.random.normal(size=(50, 2)) @ np.random.normal(size=(2, 50))\n",
        "  low_rank_matrix = (u + u.T)/2\n",
        "\n",
        "  HA_sol_nv_arr.append(np.var(normal_variance(low_rank_matrix , 500)))\n",
        "  HA_sol_rv_arr.append(np.var(rademacher_variance(low_rank_matrix , 500)))\n",
        "  theoretical_sol_nv_arr.append(normal_var_theor(low_rank_matrix))\n",
        "  theoretical_sol_rv_arr.append(rademacher_var_theor(low_rank_matrix))\n",
        "\n",
        "variance_comparing_dict = {'theor_normal':theoretical_sol_nv_arr, 'hutchinson_normal': HA_sol_nv_arr,\n",
        "                           'theor_rademacher':theoretical_sol_rv_arr, 'hutchinson_rademacher': HA_sol_rv_arr}\n",
        "\n",
        "df_low_rank = pd.DataFrame.from_dict(variance_comparing_dict)\n",
        "df_low_rank['difference_norm_%'] = 100 * abs(df_low_rank['theor_normal'] - df_low_rank['hutchinson_normal'])/df_low_rank['theor_normal']\n",
        "df_low_rank['difference_rad_%'] = 100 * abs(df_low_rank['theor_rademacher'] - df_low_rank['hutchinson_rademacher'])/df_low_rank['theor_rademacher']\n",
        "print('For low-rank matrices:')\n",
        "df_low_rank"
      ],
      "metadata": {
        "colab": {
          "base_uri": "https://localhost:8080/",
          "height": 444
        },
        "id": "eYi-Jx14xlXm",
        "outputId": "451e457c-a467-424b-8588-42c67fdd104b"
      },
      "execution_count": null,
      "outputs": [
        {
          "output_type": "stream",
          "name": "stdout",
          "text": [
            "For low-rank matrices:\n"
          ]
        },
        {
          "output_type": "execute_result",
          "data": {
            "text/plain": [
              "    theor_normal  hutchinson_normal  theor_rademacher  hutchinson_rademacher  \\\n",
              "0    5123.282666        6277.555832      14149.270802           2.556957e+09   \n",
              "1    4999.526749        5955.424027      19157.763768           1.063878e+09   \n",
              "2    7693.659118        7032.269303      24297.209606           1.762306e+09   \n",
              "3    6850.472428        7850.010641      18325.085077           3.552215e+09   \n",
              "4    5502.559406        4634.741317      14795.984738           1.684770e+09   \n",
              "5    5714.165035        6242.502907      12623.035151           9.086464e+08   \n",
              "6    3494.465498        4431.761715       9328.801438           1.748946e+09   \n",
              "7    5126.047028        5238.987668      13544.364665           3.807369e+09   \n",
              "8    5600.103426        5533.335123      17004.511771           1.796001e+08   \n",
              "9    5079.223949        4860.891542      13024.185533           6.310955e+08   \n",
              "10   3999.252773        4719.388786      10737.176183           1.574380e+09   \n",
              "11   5227.457412        6366.216175      14493.683561           2.226276e+08   \n",
              "\n",
              "    difference_norm_%  difference_rad_%  \n",
              "0           22.529953      1.807120e+07  \n",
              "1           19.119755      5.553146e+06  \n",
              "2            8.596557      7.253022e+06  \n",
              "3           14.590792      1.938434e+07  \n",
              "4           15.771172      1.138657e+07  \n",
              "5            9.246108      7.198219e+06  \n",
              "6           26.822306      1.874771e+07  \n",
              "7            2.203270      2.811026e+07  \n",
              "8            1.192269      1.056091e+06  \n",
              "9            4.298539      4.845466e+06  \n",
              "10          18.006764      1.466279e+07  \n",
              "11          21.784181      1.535932e+06  "
            ],
            "text/html": [
              "\n",
              "  <div id=\"df-7704bd19-8d66-4e05-939c-8aaf4c54656e\">\n",
              "    <div class=\"colab-df-container\">\n",
              "      <div>\n",
              "<style scoped>\n",
              "    .dataframe tbody tr th:only-of-type {\n",
              "        vertical-align: middle;\n",
              "    }\n",
              "\n",
              "    .dataframe tbody tr th {\n",
              "        vertical-align: top;\n",
              "    }\n",
              "\n",
              "    .dataframe thead th {\n",
              "        text-align: right;\n",
              "    }\n",
              "</style>\n",
              "<table border=\"1\" class=\"dataframe\">\n",
              "  <thead>\n",
              "    <tr style=\"text-align: right;\">\n",
              "      <th></th>\n",
              "      <th>theor_normal</th>\n",
              "      <th>hutchinson_normal</th>\n",
              "      <th>theor_rademacher</th>\n",
              "      <th>hutchinson_rademacher</th>\n",
              "      <th>difference_norm_%</th>\n",
              "      <th>difference_rad_%</th>\n",
              "    </tr>\n",
              "  </thead>\n",
              "  <tbody>\n",
              "    <tr>\n",
              "      <th>0</th>\n",
              "      <td>5123.282666</td>\n",
              "      <td>6277.555832</td>\n",
              "      <td>14149.270802</td>\n",
              "      <td>2.556957e+09</td>\n",
              "      <td>22.529953</td>\n",
              "      <td>1.807120e+07</td>\n",
              "    </tr>\n",
              "    <tr>\n",
              "      <th>1</th>\n",
              "      <td>4999.526749</td>\n",
              "      <td>5955.424027</td>\n",
              "      <td>19157.763768</td>\n",
              "      <td>1.063878e+09</td>\n",
              "      <td>19.119755</td>\n",
              "      <td>5.553146e+06</td>\n",
              "    </tr>\n",
              "    <tr>\n",
              "      <th>2</th>\n",
              "      <td>7693.659118</td>\n",
              "      <td>7032.269303</td>\n",
              "      <td>24297.209606</td>\n",
              "      <td>1.762306e+09</td>\n",
              "      <td>8.596557</td>\n",
              "      <td>7.253022e+06</td>\n",
              "    </tr>\n",
              "    <tr>\n",
              "      <th>3</th>\n",
              "      <td>6850.472428</td>\n",
              "      <td>7850.010641</td>\n",
              "      <td>18325.085077</td>\n",
              "      <td>3.552215e+09</td>\n",
              "      <td>14.590792</td>\n",
              "      <td>1.938434e+07</td>\n",
              "    </tr>\n",
              "    <tr>\n",
              "      <th>4</th>\n",
              "      <td>5502.559406</td>\n",
              "      <td>4634.741317</td>\n",
              "      <td>14795.984738</td>\n",
              "      <td>1.684770e+09</td>\n",
              "      <td>15.771172</td>\n",
              "      <td>1.138657e+07</td>\n",
              "    </tr>\n",
              "    <tr>\n",
              "      <th>5</th>\n",
              "      <td>5714.165035</td>\n",
              "      <td>6242.502907</td>\n",
              "      <td>12623.035151</td>\n",
              "      <td>9.086464e+08</td>\n",
              "      <td>9.246108</td>\n",
              "      <td>7.198219e+06</td>\n",
              "    </tr>\n",
              "    <tr>\n",
              "      <th>6</th>\n",
              "      <td>3494.465498</td>\n",
              "      <td>4431.761715</td>\n",
              "      <td>9328.801438</td>\n",
              "      <td>1.748946e+09</td>\n",
              "      <td>26.822306</td>\n",
              "      <td>1.874771e+07</td>\n",
              "    </tr>\n",
              "    <tr>\n",
              "      <th>7</th>\n",
              "      <td>5126.047028</td>\n",
              "      <td>5238.987668</td>\n",
              "      <td>13544.364665</td>\n",
              "      <td>3.807369e+09</td>\n",
              "      <td>2.203270</td>\n",
              "      <td>2.811026e+07</td>\n",
              "    </tr>\n",
              "    <tr>\n",
              "      <th>8</th>\n",
              "      <td>5600.103426</td>\n",
              "      <td>5533.335123</td>\n",
              "      <td>17004.511771</td>\n",
              "      <td>1.796001e+08</td>\n",
              "      <td>1.192269</td>\n",
              "      <td>1.056091e+06</td>\n",
              "    </tr>\n",
              "    <tr>\n",
              "      <th>9</th>\n",
              "      <td>5079.223949</td>\n",
              "      <td>4860.891542</td>\n",
              "      <td>13024.185533</td>\n",
              "      <td>6.310955e+08</td>\n",
              "      <td>4.298539</td>\n",
              "      <td>4.845466e+06</td>\n",
              "    </tr>\n",
              "    <tr>\n",
              "      <th>10</th>\n",
              "      <td>3999.252773</td>\n",
              "      <td>4719.388786</td>\n",
              "      <td>10737.176183</td>\n",
              "      <td>1.574380e+09</td>\n",
              "      <td>18.006764</td>\n",
              "      <td>1.466279e+07</td>\n",
              "    </tr>\n",
              "    <tr>\n",
              "      <th>11</th>\n",
              "      <td>5227.457412</td>\n",
              "      <td>6366.216175</td>\n",
              "      <td>14493.683561</td>\n",
              "      <td>2.226276e+08</td>\n",
              "      <td>21.784181</td>\n",
              "      <td>1.535932e+06</td>\n",
              "    </tr>\n",
              "  </tbody>\n",
              "</table>\n",
              "</div>\n",
              "      <button class=\"colab-df-convert\" onclick=\"convertToInteractive('df-7704bd19-8d66-4e05-939c-8aaf4c54656e')\"\n",
              "              title=\"Convert this dataframe to an interactive table.\"\n",
              "              style=\"display:none;\">\n",
              "        \n",
              "  <svg xmlns=\"http://www.w3.org/2000/svg\" height=\"24px\"viewBox=\"0 0 24 24\"\n",
              "       width=\"24px\">\n",
              "    <path d=\"M0 0h24v24H0V0z\" fill=\"none\"/>\n",
              "    <path d=\"M18.56 5.44l.94 2.06.94-2.06 2.06-.94-2.06-.94-.94-2.06-.94 2.06-2.06.94zm-11 1L8.5 8.5l.94-2.06 2.06-.94-2.06-.94L8.5 2.5l-.94 2.06-2.06.94zm10 10l.94 2.06.94-2.06 2.06-.94-2.06-.94-.94-2.06-.94 2.06-2.06.94z\"/><path d=\"M17.41 7.96l-1.37-1.37c-.4-.4-.92-.59-1.43-.59-.52 0-1.04.2-1.43.59L10.3 9.45l-7.72 7.72c-.78.78-.78 2.05 0 2.83L4 21.41c.39.39.9.59 1.41.59.51 0 1.02-.2 1.41-.59l7.78-7.78 2.81-2.81c.8-.78.8-2.07 0-2.86zM5.41 20L4 18.59l7.72-7.72 1.47 1.35L5.41 20z\"/>\n",
              "  </svg>\n",
              "      </button>\n",
              "      \n",
              "  <style>\n",
              "    .colab-df-container {\n",
              "      display:flex;\n",
              "      flex-wrap:wrap;\n",
              "      gap: 12px;\n",
              "    }\n",
              "\n",
              "    .colab-df-convert {\n",
              "      background-color: #E8F0FE;\n",
              "      border: none;\n",
              "      border-radius: 50%;\n",
              "      cursor: pointer;\n",
              "      display: none;\n",
              "      fill: #1967D2;\n",
              "      height: 32px;\n",
              "      padding: 0 0 0 0;\n",
              "      width: 32px;\n",
              "    }\n",
              "\n",
              "    .colab-df-convert:hover {\n",
              "      background-color: #E2EBFA;\n",
              "      box-shadow: 0px 1px 2px rgba(60, 64, 67, 0.3), 0px 1px 3px 1px rgba(60, 64, 67, 0.15);\n",
              "      fill: #174EA6;\n",
              "    }\n",
              "\n",
              "    [theme=dark] .colab-df-convert {\n",
              "      background-color: #3B4455;\n",
              "      fill: #D2E3FC;\n",
              "    }\n",
              "\n",
              "    [theme=dark] .colab-df-convert:hover {\n",
              "      background-color: #434B5C;\n",
              "      box-shadow: 0px 1px 3px 1px rgba(0, 0, 0, 0.15);\n",
              "      filter: drop-shadow(0px 1px 2px rgba(0, 0, 0, 0.3));\n",
              "      fill: #FFFFFF;\n",
              "    }\n",
              "  </style>\n",
              "\n",
              "      <script>\n",
              "        const buttonEl =\n",
              "          document.querySelector('#df-7704bd19-8d66-4e05-939c-8aaf4c54656e button.colab-df-convert');\n",
              "        buttonEl.style.display =\n",
              "          google.colab.kernel.accessAllowed ? 'block' : 'none';\n",
              "\n",
              "        async function convertToInteractive(key) {\n",
              "          const element = document.querySelector('#df-7704bd19-8d66-4e05-939c-8aaf4c54656e');\n",
              "          const dataTable =\n",
              "            await google.colab.kernel.invokeFunction('convertToInteractive',\n",
              "                                                     [key], {});\n",
              "          if (!dataTable) return;\n",
              "\n",
              "          const docLinkHtml = 'Like what you see? Visit the ' +\n",
              "            '<a target=\"_blank\" href=https://colab.research.google.com/notebooks/data_table.ipynb>data table notebook</a>'\n",
              "            + ' to learn more about interactive tables.';\n",
              "          element.innerHTML = '';\n",
              "          dataTable['output_type'] = 'display_data';\n",
              "          await google.colab.output.renderOutput(dataTable, element);\n",
              "          const docLink = document.createElement('div');\n",
              "          docLink.innerHTML = docLinkHtml;\n",
              "          element.appendChild(docLink);\n",
              "        }\n",
              "      </script>\n",
              "    </div>\n",
              "  </div>\n",
              "  "
            ]
          },
          "metadata": {},
          "execution_count": 14
        }
      ]
    },
    {
      "cell_type": "code",
      "source": [
        "theoretical_sol_nv_arr = []\n",
        "theoretical_sol_rv_arr = []\n",
        "HA_sol_nv_arr = []\n",
        "HA_sol_rv_arr = []\n",
        "\n",
        "#circulant matrix\n",
        "for i in range(matr_num):\n",
        "  circ_matrix = circulant(np.arange(10 + i))\n",
        "  circ = (circ_matrix + circ_matrix.T)/2\n",
        "\n",
        "  HA_sol_nv_arr.append(np.var(normal_variance(circ , 500)))\n",
        "  HA_sol_rv_arr.append(np.var(rademacher_variance(circ , 500)))\n",
        "  theoretical_sol_nv_arr.append(normal_var_theor(circ))\n",
        "  theoretical_sol_rv_arr.append(rademacher_var_theor(circ))\n",
        "\n",
        "variance_comparing_dict = {'theor_normal':theoretical_sol_nv_arr, 'hutchinson_normal': HA_sol_nv_arr,\n",
        "                           'theor_rademacher':theoretical_sol_rv_arr, 'hutchinson_rademacher': HA_sol_rv_arr}\n",
        "\n",
        "df_circ = pd.DataFrame.from_dict(variance_comparing_dict)\n",
        "df_circ['difference_norm_%'] = 100 * abs(df_circ['theor_normal'] - df_circ['hutchinson_normal'])/df_circ['theor_normal']\n",
        "df_circ['difference_rad_%'] = 100 * abs(df_circ['theor_rademacher'] - df_circ['hutchinson_rademacher'])/df_circ['theor_rademacher']\n",
        "print('For circulant matrices:')\n",
        "df_circ"
      ],
      "metadata": {
        "colab": {
          "base_uri": "https://localhost:8080/",
          "height": 444
        },
        "id": "H7wvDK7Zxydx",
        "outputId": "5efec018-d682-402d-9c84-9539ba2f6dfe"
      },
      "execution_count": null,
      "outputs": [
        {
          "output_type": "stream",
          "name": "stdout",
          "text": [
            "For circulant matrices:\n"
          ]
        },
        {
          "output_type": "execute_result",
          "data": {
            "text/plain": [
              "    theor_normal  hutchinson_normal  theor_rademacher  hutchinson_rademacher  \\\n",
              "0         4500.0        4246.140996            4500.0           6.778083e+07   \n",
              "1         6655.0        6459.748036            6655.0           1.340306e+08   \n",
              "2         9504.0       10608.582162            9504.0           2.815288e+08   \n",
              "3        13182.0       10127.685563           13182.0           6.088052e+08   \n",
              "4        17836.0       18960.947855           17836.0           1.150908e+09   \n",
              "5        23625.0       21965.719639           23625.0           1.966591e+09   \n",
              "6        30720.0       30959.837247           30720.0           3.432340e+09   \n",
              "7        39304.0       43668.549743           39304.0           5.493751e+09   \n",
              "8        49572.0       50193.757900           49572.0           8.715027e+09   \n",
              "9        61731.0       61233.615572           61731.0           1.477499e+10   \n",
              "10       76000.0       74867.889175           76000.0           2.345707e+10   \n",
              "11       92610.0       86217.297659           92610.0           3.165521e+10   \n",
              "\n",
              "    difference_norm_%  difference_rad_%  \n",
              "0            5.641311      1.506141e+06  \n",
              "1            2.933914      2.013883e+06  \n",
              "2           11.622287      2.962113e+06  \n",
              "3           23.170342      4.618358e+06  \n",
              "4            6.307176      6.452626e+06  \n",
              "5            7.023409      8.324095e+06  \n",
              "6            0.780720      1.117288e+07  \n",
              "7           11.104594      1.397749e+07  \n",
              "8            1.254252      1.758044e+07  \n",
              "9            0.805729      2.393438e+07  \n",
              "10           1.489620      3.086446e+07  \n",
              "11           6.902821      3.418110e+07  "
            ],
            "text/html": [
              "\n",
              "  <div id=\"df-b8d0f8c2-e2c3-4d15-92ee-507b5cf9123b\">\n",
              "    <div class=\"colab-df-container\">\n",
              "      <div>\n",
              "<style scoped>\n",
              "    .dataframe tbody tr th:only-of-type {\n",
              "        vertical-align: middle;\n",
              "    }\n",
              "\n",
              "    .dataframe tbody tr th {\n",
              "        vertical-align: top;\n",
              "    }\n",
              "\n",
              "    .dataframe thead th {\n",
              "        text-align: right;\n",
              "    }\n",
              "</style>\n",
              "<table border=\"1\" class=\"dataframe\">\n",
              "  <thead>\n",
              "    <tr style=\"text-align: right;\">\n",
              "      <th></th>\n",
              "      <th>theor_normal</th>\n",
              "      <th>hutchinson_normal</th>\n",
              "      <th>theor_rademacher</th>\n",
              "      <th>hutchinson_rademacher</th>\n",
              "      <th>difference_norm_%</th>\n",
              "      <th>difference_rad_%</th>\n",
              "    </tr>\n",
              "  </thead>\n",
              "  <tbody>\n",
              "    <tr>\n",
              "      <th>0</th>\n",
              "      <td>4500.0</td>\n",
              "      <td>4246.140996</td>\n",
              "      <td>4500.0</td>\n",
              "      <td>6.778083e+07</td>\n",
              "      <td>5.641311</td>\n",
              "      <td>1.506141e+06</td>\n",
              "    </tr>\n",
              "    <tr>\n",
              "      <th>1</th>\n",
              "      <td>6655.0</td>\n",
              "      <td>6459.748036</td>\n",
              "      <td>6655.0</td>\n",
              "      <td>1.340306e+08</td>\n",
              "      <td>2.933914</td>\n",
              "      <td>2.013883e+06</td>\n",
              "    </tr>\n",
              "    <tr>\n",
              "      <th>2</th>\n",
              "      <td>9504.0</td>\n",
              "      <td>10608.582162</td>\n",
              "      <td>9504.0</td>\n",
              "      <td>2.815288e+08</td>\n",
              "      <td>11.622287</td>\n",
              "      <td>2.962113e+06</td>\n",
              "    </tr>\n",
              "    <tr>\n",
              "      <th>3</th>\n",
              "      <td>13182.0</td>\n",
              "      <td>10127.685563</td>\n",
              "      <td>13182.0</td>\n",
              "      <td>6.088052e+08</td>\n",
              "      <td>23.170342</td>\n",
              "      <td>4.618358e+06</td>\n",
              "    </tr>\n",
              "    <tr>\n",
              "      <th>4</th>\n",
              "      <td>17836.0</td>\n",
              "      <td>18960.947855</td>\n",
              "      <td>17836.0</td>\n",
              "      <td>1.150908e+09</td>\n",
              "      <td>6.307176</td>\n",
              "      <td>6.452626e+06</td>\n",
              "    </tr>\n",
              "    <tr>\n",
              "      <th>5</th>\n",
              "      <td>23625.0</td>\n",
              "      <td>21965.719639</td>\n",
              "      <td>23625.0</td>\n",
              "      <td>1.966591e+09</td>\n",
              "      <td>7.023409</td>\n",
              "      <td>8.324095e+06</td>\n",
              "    </tr>\n",
              "    <tr>\n",
              "      <th>6</th>\n",
              "      <td>30720.0</td>\n",
              "      <td>30959.837247</td>\n",
              "      <td>30720.0</td>\n",
              "      <td>3.432340e+09</td>\n",
              "      <td>0.780720</td>\n",
              "      <td>1.117288e+07</td>\n",
              "    </tr>\n",
              "    <tr>\n",
              "      <th>7</th>\n",
              "      <td>39304.0</td>\n",
              "      <td>43668.549743</td>\n",
              "      <td>39304.0</td>\n",
              "      <td>5.493751e+09</td>\n",
              "      <td>11.104594</td>\n",
              "      <td>1.397749e+07</td>\n",
              "    </tr>\n",
              "    <tr>\n",
              "      <th>8</th>\n",
              "      <td>49572.0</td>\n",
              "      <td>50193.757900</td>\n",
              "      <td>49572.0</td>\n",
              "      <td>8.715027e+09</td>\n",
              "      <td>1.254252</td>\n",
              "      <td>1.758044e+07</td>\n",
              "    </tr>\n",
              "    <tr>\n",
              "      <th>9</th>\n",
              "      <td>61731.0</td>\n",
              "      <td>61233.615572</td>\n",
              "      <td>61731.0</td>\n",
              "      <td>1.477499e+10</td>\n",
              "      <td>0.805729</td>\n",
              "      <td>2.393438e+07</td>\n",
              "    </tr>\n",
              "    <tr>\n",
              "      <th>10</th>\n",
              "      <td>76000.0</td>\n",
              "      <td>74867.889175</td>\n",
              "      <td>76000.0</td>\n",
              "      <td>2.345707e+10</td>\n",
              "      <td>1.489620</td>\n",
              "      <td>3.086446e+07</td>\n",
              "    </tr>\n",
              "    <tr>\n",
              "      <th>11</th>\n",
              "      <td>92610.0</td>\n",
              "      <td>86217.297659</td>\n",
              "      <td>92610.0</td>\n",
              "      <td>3.165521e+10</td>\n",
              "      <td>6.902821</td>\n",
              "      <td>3.418110e+07</td>\n",
              "    </tr>\n",
              "  </tbody>\n",
              "</table>\n",
              "</div>\n",
              "      <button class=\"colab-df-convert\" onclick=\"convertToInteractive('df-b8d0f8c2-e2c3-4d15-92ee-507b5cf9123b')\"\n",
              "              title=\"Convert this dataframe to an interactive table.\"\n",
              "              style=\"display:none;\">\n",
              "        \n",
              "  <svg xmlns=\"http://www.w3.org/2000/svg\" height=\"24px\"viewBox=\"0 0 24 24\"\n",
              "       width=\"24px\">\n",
              "    <path d=\"M0 0h24v24H0V0z\" fill=\"none\"/>\n",
              "    <path d=\"M18.56 5.44l.94 2.06.94-2.06 2.06-.94-2.06-.94-.94-2.06-.94 2.06-2.06.94zm-11 1L8.5 8.5l.94-2.06 2.06-.94-2.06-.94L8.5 2.5l-.94 2.06-2.06.94zm10 10l.94 2.06.94-2.06 2.06-.94-2.06-.94-.94-2.06-.94 2.06-2.06.94z\"/><path d=\"M17.41 7.96l-1.37-1.37c-.4-.4-.92-.59-1.43-.59-.52 0-1.04.2-1.43.59L10.3 9.45l-7.72 7.72c-.78.78-.78 2.05 0 2.83L4 21.41c.39.39.9.59 1.41.59.51 0 1.02-.2 1.41-.59l7.78-7.78 2.81-2.81c.8-.78.8-2.07 0-2.86zM5.41 20L4 18.59l7.72-7.72 1.47 1.35L5.41 20z\"/>\n",
              "  </svg>\n",
              "      </button>\n",
              "      \n",
              "  <style>\n",
              "    .colab-df-container {\n",
              "      display:flex;\n",
              "      flex-wrap:wrap;\n",
              "      gap: 12px;\n",
              "    }\n",
              "\n",
              "    .colab-df-convert {\n",
              "      background-color: #E8F0FE;\n",
              "      border: none;\n",
              "      border-radius: 50%;\n",
              "      cursor: pointer;\n",
              "      display: none;\n",
              "      fill: #1967D2;\n",
              "      height: 32px;\n",
              "      padding: 0 0 0 0;\n",
              "      width: 32px;\n",
              "    }\n",
              "\n",
              "    .colab-df-convert:hover {\n",
              "      background-color: #E2EBFA;\n",
              "      box-shadow: 0px 1px 2px rgba(60, 64, 67, 0.3), 0px 1px 3px 1px rgba(60, 64, 67, 0.15);\n",
              "      fill: #174EA6;\n",
              "    }\n",
              "\n",
              "    [theme=dark] .colab-df-convert {\n",
              "      background-color: #3B4455;\n",
              "      fill: #D2E3FC;\n",
              "    }\n",
              "\n",
              "    [theme=dark] .colab-df-convert:hover {\n",
              "      background-color: #434B5C;\n",
              "      box-shadow: 0px 1px 3px 1px rgba(0, 0, 0, 0.15);\n",
              "      filter: drop-shadow(0px 1px 2px rgba(0, 0, 0, 0.3));\n",
              "      fill: #FFFFFF;\n",
              "    }\n",
              "  </style>\n",
              "\n",
              "      <script>\n",
              "        const buttonEl =\n",
              "          document.querySelector('#df-b8d0f8c2-e2c3-4d15-92ee-507b5cf9123b button.colab-df-convert');\n",
              "        buttonEl.style.display =\n",
              "          google.colab.kernel.accessAllowed ? 'block' : 'none';\n",
              "\n",
              "        async function convertToInteractive(key) {\n",
              "          const element = document.querySelector('#df-b8d0f8c2-e2c3-4d15-92ee-507b5cf9123b');\n",
              "          const dataTable =\n",
              "            await google.colab.kernel.invokeFunction('convertToInteractive',\n",
              "                                                     [key], {});\n",
              "          if (!dataTable) return;\n",
              "\n",
              "          const docLinkHtml = 'Like what you see? Visit the ' +\n",
              "            '<a target=\"_blank\" href=https://colab.research.google.com/notebooks/data_table.ipynb>data table notebook</a>'\n",
              "            + ' to learn more about interactive tables.';\n",
              "          element.innerHTML = '';\n",
              "          dataTable['output_type'] = 'display_data';\n",
              "          await google.colab.output.renderOutput(dataTable, element);\n",
              "          const docLink = document.createElement('div');\n",
              "          docLink.innerHTML = docLinkHtml;\n",
              "          element.appendChild(docLink);\n",
              "        }\n",
              "      </script>\n",
              "    </div>\n",
              "  </div>\n",
              "  "
            ]
          },
          "metadata": {},
          "execution_count": 15
        }
      ]
    },
    {
      "cell_type": "markdown",
      "source": [
        "c."
      ],
      "metadata": {
        "id": "NbujwsH7Q7j5"
      }
    },
    {
      "cell_type": "code",
      "source": [
        "delta = 0.95\n",
        "epsilon = 0.01\n",
        "\n",
        "N_iter = 10000\n",
        "N_iters = []\n",
        "err_arr = []\n",
        "m = 100000\n",
        "\n",
        "A = np.random.rand(m,m)\n",
        "\n",
        "for i in range(100,10000):\n",
        "  emp = hutchinson_normal(A, i)\n",
        "  theor = np.trace(A)\n",
        "  err = abs(theor - emp)\n",
        "  err_arr.append(err)\n",
        "  if epsilon >= err:\n",
        "    print(i)\n",
        "    break\n",
        "\n",
        "cheb_bounds = np.linalg.norm(A, 'fro')/(delta*epsilon**2)\n",
        "\n",
        "print(cheb_bounds)\n",
        "# plt.plot(sample, est)\n",
        "# plt.axvline(x=approx, color='red')\n",
        "# plt.title('delta:'+str(delta)+ ' eps:'+str(eps))\n",
        "# plt.show()\n"
      ],
      "metadata": {
        "id": "ezvXzr3K4Ixv"
      },
      "execution_count": null,
      "outputs": []
    },
    {
      "cell_type": "markdown",
      "metadata": {
        "id": "68qybAGKFlTT"
      },
      "source": [
        "**Subproblem 2 (5 pts)**"
      ]
    },
    {
      "cell_type": "markdown",
      "metadata": {
        "id": "x1PGkyusGAvH"
      },
      "source": [
        "  1. Implement Hutchinson algorithm for normal and Rademacher distributions."
      ]
    },
    {
      "cell_type": "code",
      "source": [
        "def hutchinson_normal(B, N_iter, mu=0, sigma=1):\n",
        "  m, n = B.shape\n",
        "  tr = 0\n",
        "\n",
        "  for i in range(N_iter):\n",
        "    u = np.random.normal(mu, sigma, size=m)\n",
        "    Bu = np.dot(B, u)\n",
        "    uTBu = np.dot(u, Bu)\n",
        "    tr += uTBu\n",
        "\n",
        "  res = tr/N_iter\n",
        "  return res"
      ],
      "metadata": {
        "id": "mxFpXgkdD2um"
      },
      "execution_count": 27,
      "outputs": []
    },
    {
      "cell_type": "code",
      "source": [
        "def hutchinson_rademarcher(B, N_iter, n=1, p=0.5):\n",
        "  m, n = B.shape\n",
        "  tr = 0\n",
        "\n",
        "  for i in range(N_iter):\n",
        "    u = 2 * np.random.binomial(n, p, size=m) - 1\n",
        "    Bu = np.dot(B, u)\n",
        "    uTBu = np.dot(u, Bu)\n",
        "    tr += uTBu\n",
        "\n",
        "  res = tr/N_iter\n",
        "  return res"
      ],
      "metadata": {
        "id": "MKNQDAE4IT-o"
      },
      "execution_count": 28,
      "outputs": []
    },
    {
      "cell_type": "markdown",
      "metadata": {
        "id": "JGYWRk5aFoY7"
      },
      "source": [
        "2. Evaluate your algorithm on several matrices on your choice."
      ]
    },
    {
      "cell_type": "code",
      "source": [
        "dims = [50, 100, 1000]\n",
        "N_iters = [100, 1000, 10000]\n",
        "\n",
        "def evaluation_hutch(dims, N_iter):\n",
        "  for dim in dims:\n",
        "    for N_iter in N_iters:\n",
        "      M = np.random.rand(dim,dim)\n",
        "      print(f'For Hutchinson normal algorithm with dimension matrix {dim} and N iterations {N_iter}:')\n",
        "      %time hutchinson_normal(M, N_iter)\n",
        "      print('Hutchinson normal trace',hutchinson_normal(M, N_iter))\n",
        "      print(f'For Hutchinson rademarcher algorithm with dimension matrix {dim} and N iterations {N_iter}:')\n",
        "      %time hutchinson_rademarcher(M, N_iter)\n",
        "      print('Hutchinson rademarcher trace ',hutchinson_rademarcher(M, N_iter))\n",
        "      print('Numpy')\n",
        "      %time np.trace(M)\n",
        "      print('Numpy trace', np.trace(M))\n",
        "\n",
        "\n",
        "evaluation_hutch(dims, N_iters)"
      ],
      "metadata": {
        "colab": {
          "base_uri": "https://localhost:8080/"
        },
        "id": "vJ6x-0FXJzj-",
        "outputId": "31625456-0d52-4d99-a895-8c6e76e38323"
      },
      "execution_count": 29,
      "outputs": [
        {
          "output_type": "stream",
          "name": "stdout",
          "text": [
            "For Hutchinson normal algorithm with dimension matrix 50 and N iterations 100:\n",
            "CPU times: user 2.58 ms, sys: 33 µs, total: 2.61 ms\n",
            "Wall time: 2.36 ms\n",
            "Hutchinson normal trace 26.07869475254133\n",
            "For Hutchinson rademarcher algorithm with dimension matrix 50 and N iterations 100:\n",
            "CPU times: user 3.79 ms, sys: 10 µs, total: 3.8 ms\n",
            "Wall time: 3.58 ms\n",
            "Hutchinson rademarcher trace  2957787.7293346636\n",
            "Numpy\n",
            "CPU times: user 44 µs, sys: 2 µs, total: 46 µs\n",
            "Wall time: 48.4 µs\n",
            "Numpy trace 22.95390126007058\n",
            "For Hutchinson normal algorithm with dimension matrix 50 and N iterations 1000:\n",
            "CPU times: user 12.8 ms, sys: 0 ns, total: 12.8 ms\n",
            "Wall time: 12.7 ms\n",
            "Hutchinson normal trace 25.243615491570296\n",
            "For Hutchinson rademarcher algorithm with dimension matrix 50 and N iterations 1000:\n",
            "CPU times: user 22.4 ms, sys: 24 µs, total: 22.5 ms\n",
            "Wall time: 22.4 ms\n",
            "Hutchinson rademarcher trace  3041723.5107842977\n",
            "Numpy\n",
            "CPU times: user 27 µs, sys: 2 µs, total: 29 µs\n",
            "Wall time: 30.8 µs\n",
            "Numpy trace 24.49005675749386\n",
            "For Hutchinson normal algorithm with dimension matrix 50 and N iterations 10000:\n",
            "CPU times: user 121 ms, sys: 3.06 ms, total: 124 ms\n",
            "Wall time: 123 ms\n",
            "Hutchinson normal trace 24.245280827684386\n",
            "For Hutchinson rademarcher algorithm with dimension matrix 50 and N iterations 10000:\n",
            "CPU times: user 382 ms, sys: 962 µs, total: 383 ms\n",
            "Wall time: 432 ms\n",
            "Hutchinson rademarcher trace  3042987.6897167377\n",
            "Numpy\n",
            "CPU times: user 32 µs, sys: 2 µs, total: 34 µs\n",
            "Wall time: 36.2 µs\n",
            "Numpy trace 23.60028761938895\n",
            "For Hutchinson normal algorithm with dimension matrix 100 and N iterations 100:\n",
            "CPU times: user 1.93 ms, sys: 3.94 ms, total: 5.87 ms\n",
            "Wall time: 3.33 ms\n",
            "Hutchinson normal trace 60.33037853340706\n",
            "For Hutchinson rademarcher algorithm with dimension matrix 100 and N iterations 100:\n",
            "CPU times: user 5.33 ms, sys: 1.96 ms, total: 7.29 ms\n",
            "Wall time: 3.65 ms\n",
            "Hutchinson rademarcher trace  48768403.8188251\n",
            "Numpy\n",
            "CPU times: user 62 µs, sys: 4 µs, total: 66 µs\n",
            "Wall time: 35.8 µs\n",
            "Numpy trace 55.65828153632504\n",
            "For Hutchinson normal algorithm with dimension matrix 100 and N iterations 1000:\n",
            "CPU times: user 20.9 ms, sys: 19 ms, total: 39.9 ms\n",
            "Wall time: 20 ms\n",
            "Hutchinson normal trace 47.18418349119899\n",
            "For Hutchinson rademarcher algorithm with dimension matrix 100 and N iterations 1000:\n",
            "CPU times: user 36 ms, sys: 35 ms, total: 71.1 ms\n",
            "Wall time: 37.5 ms\n",
            "Hutchinson rademarcher trace  49135794.506485686\n",
            "Numpy\n",
            "CPU times: user 58 µs, sys: 3 µs, total: 61 µs\n",
            "Wall time: 33.4 µs\n",
            "Numpy trace 45.707415136763686\n",
            "For Hutchinson normal algorithm with dimension matrix 100 and N iterations 10000:\n",
            "CPU times: user 232 ms, sys: 191 ms, total: 424 ms\n",
            "Wall time: 221 ms\n",
            "Hutchinson normal trace 49.589680816325036\n",
            "For Hutchinson rademarcher algorithm with dimension matrix 100 and N iterations 10000:\n",
            "CPU times: user 386 ms, sys: 341 ms, total: 727 ms\n",
            "Wall time: 391 ms\n",
            "Hutchinson rademarcher trace  48873680.93872679\n",
            "Numpy\n",
            "CPU times: user 86 µs, sys: 5 µs, total: 91 µs\n",
            "Wall time: 49.1 µs\n",
            "Numpy trace 49.10546260832401\n",
            "For Hutchinson normal algorithm with dimension matrix 1000 and N iterations 100:\n",
            "CPU times: user 79.2 ms, sys: 8.95 ms, total: 88.2 ms\n",
            "Wall time: 45.8 ms\n",
            "Hutchinson normal trace 394.7408688446616\n",
            "For Hutchinson rademarcher algorithm with dimension matrix 1000 and N iterations 100:\n",
            "CPU times: user 72.2 ms, sys: 21 ms, total: 93.1 ms\n",
            "Wall time: 46.6 ms\n",
            "Hutchinson rademarcher trace  498730547523.4455\n",
            "Numpy\n",
            "CPU times: user 97 µs, sys: 6 µs, total: 103 µs\n",
            "Wall time: 54.8 µs\n",
            "Numpy trace 495.45775581919395\n",
            "For Hutchinson normal algorithm with dimension matrix 1000 and N iterations 1000:\n",
            "CPU times: user 725 ms, sys: 112 ms, total: 837 ms\n",
            "Wall time: 432 ms\n",
            "Hutchinson normal trace 469.27108715326506\n",
            "For Hutchinson rademarcher algorithm with dimension matrix 1000 and N iterations 1000:\n",
            "CPU times: user 660 ms, sys: 178 ms, total: 838 ms\n",
            "Wall time: 438 ms\n",
            "Hutchinson rademarcher trace  499716344694.7993\n",
            "Numpy\n",
            "CPU times: user 97 µs, sys: 6 µs, total: 103 µs\n",
            "Wall time: 55.8 µs\n",
            "Numpy trace 497.45966086693653\n",
            "For Hutchinson normal algorithm with dimension matrix 1000 and N iterations 10000:\n",
            "CPU times: user 5.64 s, sys: 987 ms, total: 6.63 s\n",
            "Wall time: 3.42 s\n",
            "Hutchinson normal trace 488.08638848601487\n",
            "For Hutchinson rademarcher algorithm with dimension matrix 1000 and N iterations 10000:\n",
            "CPU times: user 6.17 s, sys: 1.77 s, total: 7.94 s\n",
            "Wall time: 4.45 s\n",
            "Hutchinson rademarcher trace  499052536810.8162\n",
            "Numpy\n",
            "CPU times: user 105 µs, sys: 7 µs, total: 112 µs\n",
            "Wall time: 59.8 µs\n",
            "Numpy trace 492.2640119517085\n"
          ]
        }
      ]
    },
    {
      "cell_type": "markdown",
      "metadata": {
        "id": "pIL61RpEFqnJ"
      },
      "source": [
        "**Subproblem 3 (5 pts)**"
      ]
    },
    {
      "cell_type": "markdown",
      "metadata": {
        "id": "hzBjryHu4EhR"
      },
      "source": [
        "Is it possible to obtain better bound? Here we study how to do that for simplified case."
      ]
    },
    {
      "cell_type": "markdown",
      "metadata": {
        "id": "ihVhxbSuFxPL"
      },
      "source": [
        "Let $A$ be the $N\\times N$ matrix with all entries equal one, i.e., $A_{ij}=1$. We consider variant of Hutchinson algorithm with standard normal variables, i.e., $u_{i} \\sim \\mathcal{N}(0, 1)$.\n"
      ]
    },
    {
      "cell_type": "markdown",
      "metadata": {
        "id": "2guyMtm5Fz8U"
      },
      "source": [
        "1. Show that $u^\\top A u \\big/ N$ has [chi-squared distribution](https://en.wikipedia.org/wiki/Chi-squared_distribution)."
      ]
    },
    {
      "cell_type": "markdown",
      "source": [
        "---\n",
        "\n",
        "We can say  that matrix A have $\\text{rank }A = 1$ and first eigenvalue $\\lambda_1 = N$\n",
        " \n",
        "Because rank A equal 1, we can rewrite A like \n",
        "\n",
        "$$ A = u v^\\top ,$$\n",
        "\n",
        "where u and v - vectors\n",
        "\n",
        "Then \n",
        "\n",
        "$$\\text{tr } A = \\sum^n_{i=1} u_i v_i$$\n",
        "\n",
        "The kernel of A is the set \n",
        "\n",
        "$$ \\left\\{ w \\in \\mathcal{C}^{n}:\\sum^n_{i=1} w_i v_i  = 0\\right\\}$$\n",
        "\n",
        "A must be diagonizable,\n",
        "\n",
        "$$\\text{tr }A = N \\neq 0$$\n",
        "\n",
        "$$\\frac{u^T A u }{N} = \\frac{u^T Q^T \\Lambda Q u }{N} = \\frac{y^T \\Lambda y }{N} =  \\frac{N y_{1}^2 }{N} = y_1^2$$\n",
        "\n",
        "$$ y_1 = q_{1} u \\sim \\mathcal{N}(0, \\sigma^2)$$\n",
        "\n",
        "$q_1$ is orthonormal, then $\\sigma^2 (\\text{consisting of } q_1)= 1$ and $y_1 \\in \\mathcal{N}(0, 1)$\n",
        "\n",
        "$$y_{1}^2 \\in \\chi^2$$\n",
        "\n",
        "---"
      ],
      "metadata": {
        "id": "HmZ_vZgkFAXd"
      }
    },
    {
      "cell_type": "markdown",
      "metadata": {
        "id": "v483XTyCF4Ks"
      },
      "source": [
        "2. Suppose that Hutchinson algorithm is applied for $M$ iteration. Show that $\\sum_{i=1}^{M}u_i^\\top A u_i \\big/ N$ has $\\chi^2(M)$ distribution (chi-squared distribution with $M$ degrees of freedom)."
      ]
    },
    {
      "cell_type": "markdown",
      "source": [
        "---\n",
        "According to chi-squared property, the sum of independent variables with a chi-square distribution also has a chi-square distribution\n",
        "\n",
        "$$\\sum_{i=1}^{M}u_i^\\top A u_i \\big/ N \\sim \\sum_{i=1}^{M}  \\chi^2(1) \\text{ has }  \\chi^2(M)$$\n",
        "\n",
        "---"
      ],
      "metadata": {
        "id": "B4IZqT9uFLSf"
      }
    },
    {
      "cell_type": "markdown",
      "metadata": {
        "id": "Yru4LU68F6JT"
      },
      "source": [
        "3. Let $M\\geq50$, $G_{M} = \\sum_{i=1}^{M}u_i^\\top A u_i \\big/ M$ and suppose that $\\chi^2(M)$ has approximately normal distribution. Under this assumptions show that there exists small $\\delta$ such that $\\text{Pr}\\left(\\left|G_{M} - \\text{tr}(A)\\right| \\leq \\epsilon \\text{tr}(A)\\right) \\geq 1 - \\delta $."
      ]
    },
    {
      "cell_type": "markdown",
      "source": [
        "---\n",
        "\n",
        "\n",
        "$$M\\geq50 \\implies G_M \\sim \\mathcal{N}(M, 2M)$$\n",
        "\n",
        "$$G_M = \\frac{N}{M} \\frac{N \\sum_{i=1}^{M}u_i^\\top A u_i}{ N }   \\sim \\mathcal{N}(N, 2\\frac{N^2}{M})$$\n",
        "\n",
        "$$ \\text{Pr}\\left(\\left|G_{M} - \\text{tr}(A)\\right| \\leq \\epsilon \\text{tr}(A)\\right) $$\n",
        "\n",
        "$$\\text{Pr}\\left(\\left|G_{M} - N\\right|\\right) \n",
        "\\geq 1 - \\frac{\\text{var }G_M}{\\epsilon N}  = 1 - \\frac{2N}{\\epsilon M} $$\n",
        "\n",
        "If  $\\delta = \\frac{2N}{\\epsilon M}$ then $\\delta \\rightarrow 0$ and $M \\rightarrow\\inf$\n",
        "\n",
        "---"
      ],
      "metadata": {
        "id": "n5EIdd3YFcnx"
      }
    },
    {
      "cell_type": "markdown",
      "metadata": {
        "id": "gCfoFxTiyplo"
      },
      "source": [
        "It is possible to generalize bound from Subproblem 3 point 3 and the result can be found in the paper by Avron and Toledo (2010)."
      ]
    },
    {
      "cell_type": "markdown",
      "metadata": {
        "id": "0WhI2bbzM7Df"
      },
      "source": [
        "---\n",
        "\n",
        "Another similar bound that we state without a proof involves Frobenius norm.\n",
        "\n",
        "For Hutchinson estimate with $l$ steps denoted $T_l$, $\\delta \\in (0, 1/2]$ for fixed constants $c$ and $C$\n",
        "\n",
        "\\begin{equation}\n",
        "  \\text{Pr}\\left(\\left|T_{l} - \\text{tr}(A)\\right|\\leq C \\sqrt{\\frac{\\log(1/\\delta)}{l}}\\left\\|A\\right\\|_{F}\\right) \\geq 1 - \\delta.\n",
        "\\end{equation}"
      ]
    },
    {
      "cell_type": "markdown",
      "metadata": {
        "id": "woLFVgFGP9Xk"
      },
      "source": [
        "## Improved Hutchinson algorithms"
      ]
    },
    {
      "cell_type": "markdown",
      "metadata": {
        "id": "0NwxTEP6eyFp"
      },
      "source": [
        "There are a lot of improved version of Hutchinson algorithms.\n",
        "\n",
        "One fruitful idea is to represent the matrix $A$ as a sum $A = A_1 + A_2$ in such a way that $A_1$ has easy-to-compute trace and $\\left\\|A_2\\right\\|_F^2 \\ll \\left\\|A_1\\right\\|_F^2$ or $\\text{tr}(A_2) \\ll \\text{tr}(A_1)$ if both $A_1$ and $A_2$ are spd matrices.\n",
        "\n",
        "If this splitting is possible to construct, one has smaller one-sample variance or better $(\\epsilon, \\delta)$-estimator.\n",
        "\n",
        "Below we ask you to prove simple theoretical result on the systematic construction of such splittings."
      ]
    },
    {
      "cell_type": "markdown",
      "metadata": {
        "id": "pTGLQf-WFN1B"
      },
      "source": [
        "**Subproblem 4 (5 pts)**"
      ]
    },
    {
      "cell_type": "markdown",
      "metadata": {
        "id": "oNdbqNpnFNiT"
      },
      "source": [
        "Let $A\\in\\mathbb{R}^{N\\times N}$ be symmetric positive definite matrix and $Q\\in\\mathbb{R}^{N\\times k}$ contains $k$ eigenvalues corresponding to top $k$ eigenvalues, i.e., $\\lambda_1 \\leq \\lambda_2\\leq\\dots\\leq \\lambda_k\\leq\\lambda_{k+1}\\leq \\dots \\leq \\lambda_{N}$ eigenvalues are ordered and $Q_{\\star 1}, \\dots Q_{\\star k}$ are eigenvectors with eigenvalues $\\lambda_{N-k},\\dots,\\lambda_{N}$."
      ]
    },
    {
      "cell_type": "markdown",
      "metadata": {
        "id": "3L0H9ZGmKVU4"
      },
      "source": [
        "1. Show that $\\text{tr}\\left(A\\right) = \\text{tr}\\left(Q^T A Q\\right) + \\text{tr}\\left((I - QQ^T)A (I - QQ^T)\\right)$.\n",
        "\n",
        "---\n",
        "\n"
      ]
    },
    {
      "cell_type": "markdown",
      "source": [
        "\n",
        "$$ \\begin{aligned}\n",
        "\\text{tr}\\left(A\\right) &= \\text{tr}\\left(Q^T A Q + (I - QQ^T)A (I - QQ^T)\\right)  \\\\ &=\n",
        "\\text{tr}\\left( A QQ^T + A - QQ^TA - AQQ^T + QQ^TA QQ^T \\right)  \\\\ &=\n",
        "\\text{tr}\\left( A - AQQ^T + QQ^TA QQ^T \\right) \\\\ &= \n",
        "\\text{tr}\\left( A ( I - QQ^T + Q(Q^TQ)Q^T \\right) \\\\ &= \n",
        "\\text{tr}\\left( A ( I - QQ^T + QQ^T \\right) \\\\ &= \\text{tr}\\left( A \\right) \n",
        "\\end{aligned}$$\n",
        "\n",
        "---"
      ],
      "metadata": {
        "id": "jX0qlsSUFnsg"
      }
    },
    {
      "cell_type": "markdown",
      "metadata": {
        "id": "rQoaw5ejFM22"
      },
      "source": [
        "2. Show that $\\left\\|(I - QQ^T)A (I - QQ^T)\\right\\|_{F} \\leq \\frac{1}{\\sqrt{k}}\\text{tr}\\left(A\\right)$."
      ]
    },
    {
      "cell_type": "markdown",
      "source": [
        "---\n",
        "\n",
        "$$B = (I - QQ^T)A (I - QQ^T)$$\n",
        "$$B^\\top = (I - QQ^\\top)A^\\top (I - QQ^\\top)$$\n",
        "$$(I - QQ^\\top)^2 = (I - QQ^T)(I - QQ^\\top) = I - 2 QQ^\\top + Q(Q^\\top Q)Q^\\top = I - QQ^\\top$$ \n",
        "\n",
        "$$\n",
        "\\begin{aligned}\n",
        "\\Vert(I - QQ^T)A (I - QQ^T)\\Vert_{F} &= \\sqrt{\\text{tr }(B^T B)} \\\\ &= \\sqrt{\\text{tr }( (I - QQ^T)^4 A^T A)} \\\\&=  \\sqrt{\\text{tr }( (I - QQ^T) A^T A)}  \\\\&=  \\sqrt{\\text{tr }( A^T A) - \\text{tr }( QQ^TA^T A)} \\\\&= \\sqrt{\\text{tr }( A^T A) - \\text{tr }( A QQ^TA^T )} \\\\&= \\sqrt{\\text{tr }( A^T A) - \\text{tr }( (A Q)^T (AQ) } \\\\&\\leq \\sqrt{\\text{tr }( A^T A)} \\\\&= \\Vert A \\Vert_F \n",
        "\\end {aligned}\n",
        "$$\n",
        "\n",
        "\n",
        "$$\\sqrt{\\sum_i \\sigma^2(A)}$$ \n",
        "\n",
        "that means matrix is pd-matrix\n",
        "\n",
        "And if all eigenvalues is equal\n",
        "\n",
        "$\\sqrt{\\sum_i \\lambda_i^2(A)} \\leq  \\sqrt{k} \\lambda_i(A) =  \\frac{k \\lambda_i(A)}{ \\sqrt{k}}= \\frac{\\sum_i \\lambda_i(A)}{ \\sqrt{k}} = \\frac{\\text{tr }A}{ \\sqrt{k}} $\n",
        "\n",
        "\n",
        "---"
      ],
      "metadata": {
        "id": "U4VwugZkFyCb"
      }
    },
    {
      "cell_type": "markdown",
      "metadata": {
        "id": "eQlENLuRLCBh"
      },
      "source": [
        "3. Show that for any spd matrix $\\left\\|A\\right\\|_{F} \\leq \\text{tr}(A)$."
      ]
    },
    {
      "cell_type": "markdown",
      "source": [
        "---\n",
        "\n",
        "$$\\Vert A \\Vert_{F} = \\sqrt{\\sum_i \\sigma^2 (A)} \\leq \\sum_i \\sigma_i (A)= \\sum^n_i \\lambda_i(A) =  \\text{tr }A$$\n",
        "\n",
        "\n",
        "$$Au = \\lambda u$$\n",
        "\n",
        "$$A^T Au = A Au = \\lambda^2 u$$\n",
        "\n",
        "$$\\sigma^2_i(A) = \\lambda_i(A^\\top A) = \\lambda_i^2(A)$$\n",
        "\n",
        "$$\\sigma_i(A) = \\lambda_i(A)$$\n",
        "\n",
        "---"
      ],
      "metadata": {
        "id": "jRUbnJu5F7by"
      }
    },
    {
      "cell_type": "markdown",
      "metadata": {
        "id": "Tjd_crvCOV7u"
      },
      "source": [
        "4. Use 2. and 3. and the bound for Hutchinson algorithm with Frobenius norm above to show that if $k \\simeq 1/\\epsilon$ one only needs $l\\simeq 1/\\epsilon$ steps in place of $1/\\epsilon^2$ for a given tolerance."
      ]
    },
    {
      "cell_type": "markdown",
      "metadata": {
        "id": "yJWyFEirPSCr"
      },
      "source": [
        "The simple analysis above suggests the following improved Hutchinson algorithm:\n",
        "\n",
        "    trace_estimate = 0\n",
        "    Q = []\n",
        "    for i=1:m/3 do\n",
        "        u = random_vector\n",
        "        Q = [Q, u] # stack vectors\n",
        "    end do\n",
        "    Q = orthonormal basis for columns of AQ\n",
        "    tr_1 = trace(Q^T A Q) # compute exactly\n",
        "    tr_2 = approximate tr(I - QQ^T)A(I - QQ^T) with Hutchinson algorithm m/3 steps\n",
        "    tr = tr_1 + tr_2\n",
        "\n",
        "\n",
        "Observe that we substituted true eigenvalues with orthonormal basis. You may consider this a one-sweep power estimation of eigenvalues."
      ]
    },
    {
      "cell_type": "markdown",
      "metadata": {
        "id": "yF4ETwahQnJo"
      },
      "source": [
        "**Subproblem 5 (5 pts)**"
      ]
    },
    {
      "cell_type": "markdown",
      "metadata": {
        "id": "LNZdCBUzQ7R5"
      },
      "source": [
        "1. Implement improved Hutchinson algorithm. Note that the \"algorithm\" above is rather sketchy. Make sure to introduce improvements where needed."
      ]
    },
    {
      "cell_type": "code",
      "source": [
        "def improved_hutchinson_normal(A, N_iters, mu = 0, sigma=1):\n",
        "    m,n = A.shape\n",
        "    N_iters = N_iters//3\n",
        "    w,v = np.linalg.eigh(A) \n",
        "    Q = v[:, -(m//3):]\n",
        "    tr_1 = np.trace(Q.T @ A @ Q)\n",
        "    M_buf = np.eye(m) - Q @ Q.T\n",
        "    tr_2 = hutchinson_normal(M_buf @ A @ M_buf, N_iters, mu, sigma)\n",
        "    tr = tr_1 + tr_2\n",
        "    return tr"
      ],
      "metadata": {
        "id": "kCoGDC0oGI0e"
      },
      "execution_count": 30,
      "outputs": []
    },
    {
      "cell_type": "code",
      "source": [
        "def improved_hutchinson_rademarcher(A, N_iters,n=1, p=0.5):\n",
        "    m,n = A.shape\n",
        "    N_iters = N_iters//3\n",
        "    w,v = np.linalg.eigh(A) \n",
        "    Q = v[:, -(m//3):]\n",
        "    tr_1 = np.trace(Q.T @ A @ Q)\n",
        "    M_buf = np.eye(m) - Q @ Q.T\n",
        "    tr_2 = hutchinson_rademarcher(M_buf @ A @ M_buf, N_iters, n, p)\n",
        "    tr = tr_1 + tr_2\n",
        "    return tr"
      ],
      "metadata": {
        "id": "IWnnHyRlgDE5"
      },
      "execution_count": 31,
      "outputs": []
    },
    {
      "cell_type": "markdown",
      "metadata": {
        "id": "96ELk5qrRA4M"
      },
      "source": [
        "2. Evaluate you algorithm on several matrices on your choice."
      ]
    },
    {
      "cell_type": "code",
      "source": [
        "dims = [50, 100, 1000]\n",
        "N_iters = [100, 1000, 10000]\n",
        "\n",
        "def improved_evaluation_hutch(dims, N_iter):\n",
        "  for dim in dims:\n",
        "    for N_iter in N_iters:\n",
        "      M = np.random.rand(dim,dim)\n",
        "      print(f'For Hutchinson normal algorithm with dimension matrix {dim} and N iterations {N_iter}:')\n",
        "      %time improved_hutchinson_normal(M, N_iter)\n",
        "      print('Hutchinson normal trace',improved_hutchinson_normal(M, N_iter))\n",
        "      print(f'For Hutchinson rademarcher algorithm with dimension matrix {dim} and N iterations {N_iter}:')\n",
        "      %time improved_hutchinson_rademarcher(M, N_iter)\n",
        "      print('Hutchinson rademarcher trace ',improved_hutchinson_rademarcher(M, N_iter))\n",
        "      print('Numpy')\n",
        "      %time np.trace(M)\n",
        "      print('Numpy trace', np.trace(M))\n",
        "\n",
        "\n",
        "improved_evaluation_hutch(dims, N_iters)"
      ],
      "metadata": {
        "colab": {
          "base_uri": "https://localhost:8080/"
        },
        "id": "PVK6fQj5GMth",
        "outputId": "13277a14-9d2d-4b3a-f0f9-66e8c57c5cec"
      },
      "execution_count": 32,
      "outputs": [
        {
          "output_type": "stream",
          "name": "stdout",
          "text": [
            "For Hutchinson normal algorithm with dimension matrix 50 and N iterations 100:\n",
            "CPU times: user 2.65 ms, sys: 3.85 ms, total: 6.5 ms\n",
            "Wall time: 16 ms\n",
            "Hutchinson normal trace 30.53927423992722\n",
            "For Hutchinson rademarcher algorithm with dimension matrix 50 and N iterations 100:\n",
            "CPU times: user 4.9 ms, sys: 2.07 ms, total: 6.96 ms\n",
            "Wall time: 3.49 ms\n",
            "Hutchinson rademarcher trace  -872.1083029358039\n",
            "Numpy\n",
            "CPU times: user 52 µs, sys: 3 µs, total: 55 µs\n",
            "Wall time: 30.8 µs\n",
            "Numpy trace 29.999284453439834\n",
            "For Hutchinson normal algorithm with dimension matrix 50 and N iterations 1000:\n",
            "CPU times: user 5.48 ms, sys: 7.98 ms, total: 13.5 ms\n",
            "Wall time: 6.74 ms\n",
            "Hutchinson normal trace 25.38808369929456\n",
            "For Hutchinson rademarcher algorithm with dimension matrix 50 and N iterations 1000:\n",
            "CPU times: user 15.2 ms, sys: 9.03 ms, total: 24.2 ms\n",
            "Wall time: 12.1 ms\n",
            "Hutchinson rademarcher trace  -1265.910774156514\n",
            "Numpy\n",
            "CPU times: user 50 µs, sys: 3 µs, total: 53 µs\n",
            "Wall time: 30.3 µs\n",
            "Numpy trace 26.082977679047264\n",
            "For Hutchinson normal algorithm with dimension matrix 50 and N iterations 10000:\n",
            "CPU times: user 79.2 ms, sys: 51.1 ms, total: 130 ms\n",
            "Wall time: 65.4 ms\n",
            "Hutchinson normal trace 23.314931942396885\n",
            "For Hutchinson rademarcher algorithm with dimension matrix 50 and N iterations 10000:\n",
            "CPU times: user 114 ms, sys: 81.2 ms, total: 196 ms\n",
            "Wall time: 102 ms\n",
            "Hutchinson rademarcher trace  -1152.776533231678\n",
            "Numpy\n",
            "CPU times: user 84 µs, sys: 6 µs, total: 90 µs\n",
            "Wall time: 48.4 µs\n",
            "Numpy trace 22.99175694807867\n",
            "For Hutchinson normal algorithm with dimension matrix 100 and N iterations 100:\n",
            "CPU times: user 7.38 ms, sys: 7.97 ms, total: 15.4 ms\n",
            "Wall time: 7.86 ms\n",
            "Hutchinson normal trace 57.45601853995691\n",
            "For Hutchinson rademarcher algorithm with dimension matrix 100 and N iterations 100:\n",
            "CPU times: user 4.55 ms, sys: 8.06 ms, total: 12.6 ms\n",
            "Wall time: 6.31 ms\n",
            "Hutchinson rademarcher trace  -6475.003505398158\n",
            "Numpy\n",
            "CPU times: user 54 µs, sys: 4 µs, total: 58 µs\n",
            "Wall time: 32.7 µs\n",
            "Numpy trace 55.2265695086543\n",
            "For Hutchinson normal algorithm with dimension matrix 100 and N iterations 1000:\n",
            "CPU times: user 8.2 ms, sys: 13.8 ms, total: 22 ms\n",
            "Wall time: 11 ms\n",
            "Hutchinson normal trace 48.42580351592933\n",
            "For Hutchinson rademarcher algorithm with dimension matrix 100 and N iterations 1000:\n",
            "CPU times: user 16.9 ms, sys: 15 ms, total: 31.9 ms\n",
            "Wall time: 16.1 ms\n",
            "Hutchinson rademarcher trace  -6251.437651493479\n",
            "Numpy\n",
            "CPU times: user 56 µs, sys: 4 µs, total: 60 µs\n",
            "Wall time: 32.9 µs\n",
            "Numpy trace 48.38707693454423\n",
            "For Hutchinson normal algorithm with dimension matrix 100 and N iterations 10000:\n",
            "CPU times: user 87 ms, sys: 57.2 ms, total: 144 ms\n",
            "Wall time: 72.5 ms\n",
            "Hutchinson normal trace 46.28036262364147\n",
            "For Hutchinson rademarcher algorithm with dimension matrix 100 and N iterations 10000:\n",
            "CPU times: user 138 ms, sys: 123 ms, total: 261 ms\n",
            "Wall time: 159 ms\n",
            "Hutchinson rademarcher trace  -6355.070871697834\n",
            "Numpy\n",
            "CPU times: user 70 µs, sys: 5 µs, total: 75 µs\n",
            "Wall time: 41.2 µs\n",
            "Numpy trace 47.10391878067904\n",
            "For Hutchinson normal algorithm with dimension matrix 1000 and N iterations 100:\n",
            "CPU times: user 611 ms, sys: 233 ms, total: 844 ms\n",
            "Wall time: 584 ms\n",
            "Hutchinson normal trace 469.90415666969875\n",
            "For Hutchinson rademarcher algorithm with dimension matrix 1000 and N iterations 100:\n",
            "CPU times: user 631 ms, sys: 155 ms, total: 786 ms\n",
            "Wall time: 409 ms\n",
            "Hutchinson rademarcher trace  -2257504.569264617\n",
            "Numpy\n",
            "CPU times: user 119 µs, sys: 8 µs, total: 127 µs\n",
            "Wall time: 67.7 µs\n",
            "Numpy trace 494.4917415624542\n",
            "For Hutchinson normal algorithm with dimension matrix 1000 and N iterations 1000:\n",
            "CPU times: user 856 ms, sys: 146 ms, total: 1 s\n",
            "Wall time: 509 ms\n",
            "Hutchinson normal trace 515.663015870349\n",
            "For Hutchinson rademarcher algorithm with dimension matrix 1000 and N iterations 1000:\n",
            "CPU times: user 874 ms, sys: 181 ms, total: 1.06 s\n",
            "Wall time: 549 ms\n",
            "Hutchinson rademarcher trace  -2240266.5533246268\n",
            "Numpy\n",
            "CPU times: user 124 µs, sys: 9 µs, total: 133 µs\n",
            "Wall time: 72.2 µs\n",
            "Numpy trace 509.8261308104969\n",
            "For Hutchinson normal algorithm with dimension matrix 1000 and N iterations 10000:\n",
            "CPU times: user 3.13 s, sys: 451 ms, total: 3.58 s\n",
            "Wall time: 1.85 s\n",
            "Hutchinson normal trace 474.10904053459853\n",
            "For Hutchinson rademarcher algorithm with dimension matrix 1000 and N iterations 10000:\n",
            "CPU times: user 3.13 s, sys: 638 ms, total: 3.77 s\n",
            "Wall time: 1.94 s\n",
            "Hutchinson rademarcher trace  -2195333.8506389074\n",
            "Numpy\n",
            "CPU times: user 68 µs, sys: 0 ns, total: 68 µs\n",
            "Wall time: 71.8 µs\n",
            "Numpy trace 479.69188459122716\n"
          ]
        }
      ]
    },
    {
      "cell_type": "markdown",
      "metadata": {
        "id": "91Fi_NhTRRgO"
      },
      "source": [
        "## Comparison of Hutchinson and improved Hutchinson algorithms"
      ]
    },
    {
      "cell_type": "markdown",
      "metadata": {
        "id": "jxC1FEI7RVhv"
      },
      "source": [
        "**Subproblem 6 (5 pts)**"
      ]
    },
    {
      "cell_type": "markdown",
      "metadata": {
        "id": "DIOKzFX-RXdR"
      },
      "source": [
        "Produce plots y-axis = relative trace error estimation, x-axis = number of matrix-vector products for original Hutchinson algorithm and for the improved version for the following cases:"
      ]
    },
    {
      "cell_type": "markdown",
      "metadata": {
        "id": "KTj02b_UR0Nb"
      },
      "source": [
        "1. Random matrices on your choise. Suggestions: [randn](https://numpy.org/doc/stable/reference/random/generated/numpy.random.randn.html), [random sparse](https://docs.scipy.org/doc/scipy/reference/generated/scipy.sparse.random.html)."
      ]
    },
    {
      "cell_type": "code",
      "source": [
        "import matplotlib.pyplot as plt\n",
        "\n",
        "m = 50\n",
        "elem = np.random.rand(m,m)\n",
        "B = (elem + elem.T)/2\n",
        "tr = np.trace(B)\n",
        "N_iter = 10000\n",
        "\n",
        "er_tr_usual_arr = []\n",
        "er_tr_improved_arr = []\n",
        "N_iter_arr = []\n",
        "\n",
        "for i in range(10,N_iter,100):\n",
        "  er_tr_usual = abs(tr - hutchinson_normal(B, i))/tr\n",
        "  er_tr_usual_arr.append(er_tr_usual)\n",
        "  er_tr_improved = abs(tr - improved_hutchinson_normal(B, i))/tr\n",
        "  er_tr_improved_arr.append(er_tr_improved)\n",
        "  N_iter_arr.append(i)"
      ],
      "metadata": {
        "id": "0x5QnQydIYQG"
      },
      "execution_count": 40,
      "outputs": []
    },
    {
      "cell_type": "code",
      "source": [
        "plt.plot(N_iter_arr, er_tr_usual_arr, label = 'Hutchinson')\n",
        "plt.plot(N_iter_arr, er_tr_improved_arr, label = 'Improved Hutchinson')\n",
        "plt.legend()\n",
        "plt.xlabel('Matvec number')\n",
        "plt.ylabel('Relative error')\n",
        "plt.show()"
      ],
      "metadata": {
        "colab": {
          "base_uri": "https://localhost:8080/",
          "height": 279
        },
        "id": "4ykYWp-2ktGL",
        "outputId": "f231573a-38c1-41cb-9e62-9c26a5864e52"
      },
      "execution_count": 43,
      "outputs": [
        {
          "output_type": "display_data",
          "data": {
            "text/plain": [
              "<Figure size 432x288 with 1 Axes>"
            ],
            "image/png": "[encoded data removed]"
          },
          "metadata": {
            "needs_background": "light"
          }
        }
      ]
    },
    {
      "cell_type": "markdown",
      "metadata": {
        "id": "OekedwEcSJVa"
      },
      "source": [
        "2. For random spd matrices with eigenvalues $\\lambda_i = i^{-\\alpha}$ for several $\\alpha$, i.e., for matrices with fast- and slow-decaying spectrum."
      ]
    },
    {
      "cell_type": "code",
      "source": [
        "import scipy as sc"
      ],
      "metadata": {
        "id": "xBXIzbyYnnJC"
      },
      "execution_count": 44,
      "outputs": []
    },
    {
      "cell_type": "code",
      "source": [
        "def spd_matrix_construct(m, alpha):\n",
        "  lamdas = 1/(np.power(np.arange(1, m + 1),alpha))\n",
        "  lamdas[:-int(0.5*m)] = 0\n",
        "  spd_diag = np.diag(lamdas)\n",
        "  Q, _ = sc.linalg.qr(np.random.rand(m, m))\n",
        "  spd_matrix = Q.T @ spd_diag @ Q\n",
        "  return spd_matrix\n"
      ],
      "metadata": {
        "id": "250GwrE7IlR2"
      },
      "execution_count": 73,
      "outputs": []
    },
    {
      "cell_type": "code",
      "source": [
        "alphas = [1e-2, 1e-1, 1e0, 1e1, 1e2]"
      ],
      "metadata": {
        "id": "a0_weo6coFz2"
      },
      "execution_count": 77,
      "outputs": []
    },
    {
      "cell_type": "code",
      "source": [
        "for alpha in alphas:\n",
        "  m = 50\n",
        "  B = spd_matrix_construct(m, alpha)\n",
        "  tr = np.trace(B)\n",
        "  N_iter = 10000\n",
        "  er_tr_usual_arr = []\n",
        "  er_tr_improved_arr = []\n",
        "  N_iter_arr = []\n",
        "  for i in range(10,N_iter,100):\n",
        "    er_tr_usual = abs(tr - hutchinson_normal(B, i))/tr\n",
        "    er_tr_usual_arr.append(er_tr_usual)\n",
        "    er_tr_improved = abs(tr - improved_hutchinson_normal(B, i))/tr\n",
        "    er_tr_improved_arr.append(er_tr_improved)\n",
        "    N_iter_arr.append(i)\n",
        "  plt.plot(N_iter_arr, er_tr_usual_arr, label = 'Hutchinson')\n",
        "  plt.plot(N_iter_arr, er_tr_improved_arr, label = 'Improved Hutchinson')\n",
        "  plt.legend()\n",
        "  plt.title(f'alpha = {alpha}')\n",
        "  plt.xlabel('Matvec number')\n",
        "  plt.ylabel('Relative error')\n",
        "  plt.show()"
      ],
      "metadata": {
        "colab": {
          "base_uri": "https://localhost:8080/",
          "height": 1000
        },
        "id": "uuqbPd-uogH0",
        "outputId": "cffbb11a-6b64-4108-ce52-e53df7b7d504"
      },
      "execution_count": 79,
      "outputs": [
        {
          "output_type": "display_data",
          "data": {
            "text/plain": [
              "<Figure size 432x288 with 1 Axes>"
            ],
            "image/png": "[encoded data removed]"
          },
          "metadata": {
            "needs_background": "light"
          }
        },
        {
          "output_type": "display_data",
          "data": {
            "text/plain": [
              "<Figure size 432x288 with 1 Axes>"
            ],
            "image/png": "[encoded data removed]"
          },
          "metadata": {
            "needs_background": "light"
          }
        },
        {
          "output_type": "display_data",
          "data": {
            "text/plain": [
              "<Figure size 432x288 with 1 Axes>"
            ],
            "image/png": "[encoded data removed]"
          },
          "metadata": {
            "needs_background": "light"
          }
        },
        {
          "output_type": "display_data",
          "data": {
            "text/plain": [
              "<Figure size 432x288 with 1 Axes>"
            ],
            "image/png": "[encoded data removed]"
          },
          "metadata": {
            "needs_background": "light"
          }
        }
      ]
    },
    {
      "cell_type": "markdown",
      "metadata": {
        "id": "oVaJoXyoSYeB"
      },
      "source": [
        "3. Summarize your observations."
      ]
    },
    {
      "cell_type": "markdown",
      "source": [
        "Hutchinson's algorithm for normal distribution works well, with low error and at a certain result the error becomes negligibly small, the value of the number of matvec operations can be estimated with Chebyshev norms. But for all that, the regular algorithm performs worse, with a rapid decrease in eigenvalues. The algorithm performs better"
      ],
      "metadata": {
        "id": "heXCYOzbJAy7"
      }
    },
    {
      "cell_type": "markdown",
      "metadata": {
        "id": "Dnjw_vPL3SBY"
      },
      "source": [
        "# Problem 3 (Universal adversarial attacks) (18 pts) "
      ]
    },
    {
      "cell_type": "markdown",
      "metadata": {
        "id": "gjOyTA_dm526"
      },
      "source": [
        "## Intro\n",
        "\n",
        "Suppose we have some classification model $f: X \\to Y$ which takes vector $x \\in \\mathbb{R^n}$ and output some label $y$. It appears that deep neural networks are valunable to small imperceptible perturbations called adversarial attacks. Formally, an adversarial attack is the verctor $\\varepsilon \\in \\mathbb{R^n}$ that leads to misclassification: $y(x) \\neq y(x + \\varepsilon)$.\n",
        "\n",
        "<img src=\"https://openai.com/content/images/2017/02/adversarial_img_1.png\" style=\"display=block; margin:auto\">\n",
        "\n",
        "However, it was shown that there exist universal adversarial perturbations: $\\varepsilon \\in \\mathbb{R^n}$ that leads to misclassification $y(x) \\neq y(x + \\varepsilon)$ for most of inputs.\n",
        "\n",
        "The hypetesis is that perturbation of a hidden layer caused by an attack will propagate further in the network changing predicted label of x.\n",
        "\n",
        "Let $f_i$ be the output of $i$-s hidden layer, then\n",
        "$$f_i(x + \\varepsilon) - f(x) \\approx J_i(x)\\varepsilon$$\n",
        "So, to find attack we need to solve the folliwing optimization problem\n",
        "$$\n",
        "\\max_{\\|\\varepsilon\\|_p = 1} \\sum\\limits_{x \\in \\text{batch}}\\|J_i(x)\\varepsilon\\|_q^q\n",
        "$$\n",
        "\n",
        "## Problem discription\n",
        "\n",
        "+ Obtain fixed point iteration to solve the problem above using first order optimality condition. **(5 pts)**\n",
        "+ Suppose additionally that $\\varepsilon$ should be sparse: $\\|\\varepsilon\\|_0 \\leq k$. Correct the algorithm above using additional truncation operator. **(5 pts)**\n",
        "+ Implement algorithms 1 and 2. Find universal perturbations on CIFAR dataset using random batch of size 64. Report fooling rate depending on hyperparameters **(8 pts)**\n",
        "$$\n",
        "\\text{FoolingRate} = \\frac{1}{N}\\sum\\limits_{i = 1}^N \\mathbb{1}[y(x + \\varepsilon) \\neq y(x)]\n",
        "$$\n",
        "\n"
      ]
    },
    {
      "cell_type": "code",
      "execution_count": null,
      "metadata": {
        "id": "A5bnjKKj3Hm5"
      },
      "outputs": [],
      "source": [
        "import torch\n",
        "import torch.nn as nn\n",
        "import requests"
      ]
    },
    {
      "cell_type": "markdown",
      "source": [
        "Регуляризационный член в денс матрицу"
      ],
      "metadata": {
        "id": "XTUAqHOwaIfL"
      }
    },
    {
      "cell_type": "code",
      "execution_count": null,
      "metadata": {
        "id": "VUFsGCfM5eOX"
      },
      "outputs": [],
      "source": [
        "def download_file_from_google_drive(id, destination):\n",
        "    URL = \"https://docs.google.com/uc?export=download\"\n",
        "\n",
        "    session = requests.Session()\n",
        "\n",
        "    response = session.get(URL, params = { 'id' : id }, stream = True)\n",
        "    token = get_confirm_token(response)\n",
        "\n",
        "    if token:\n",
        "        params = { 'id' : id, 'confirm' : token }\n",
        "        response = session.get(URL, params = params, stream = True)\n",
        "\n",
        "    save_response_content(response, destination)\n",
        "\n",
        "\n",
        "def get_confirm_token(response):\n",
        "    for key, value in response.cookies.items():\n",
        "        if key.startswith('download_warning'):\n",
        "            return value\n",
        "\n",
        "    return None\n",
        "\n",
        "\n",
        "def save_response_content(response, destination):\n",
        "    CHUNK_SIZE = 32768\n",
        "\n",
        "    with open(destination, \"wb\") as f:\n",
        "        for chunk in response.iter_content(CHUNK_SIZE):\n",
        "            if chunk: # filter out keep-alive new chunks\n",
        "                f.write(chunk)"
      ]
    },
    {
      "cell_type": "code",
      "execution_count": null,
      "metadata": {
        "id": "mVGCX5UDm1ld"
      },
      "outputs": [],
      "source": [
        "class CifarNet(nn.Module):\n",
        "    def __init__(self):\n",
        "        super(CifarNet, self).__init__()\n",
        "        self.conv1 = nn.Conv2d(3, 64, kernel_size=3)\n",
        "        self.conv2 = nn.Conv2d(64, 64, kernel_size=3)\n",
        "        self.conv3 = nn.Conv2d(64, 128, kernel_size=3)\n",
        "        self.conv4 = nn.Conv2d(128, 128, kernel_size=3)\n",
        "\n",
        "        self.pool = nn.MaxPool2d(2, 2)\n",
        "\n",
        "        self.relu = nn.ReLU(inplace=True)\n",
        "        self.fc1 = nn.Linear(3200, 256)\n",
        "        \n",
        "        self.dropout = nn.Dropout(0.5)\n",
        "        \n",
        "        self.fc2 = nn.Linear(256, 256)\n",
        "        self.fc3 = nn.Linear(256, 10)\n",
        "\n",
        "    def forward(self, x):\n",
        "        x = self.relu(self.conv1(x))\n",
        "        x = self.relu(self.conv2(x))\n",
        "        x = self.pool(x)\n",
        "\n",
        "        x = self.relu(self.conv3(x))\n",
        "        x = self.relu(self.conv4(x))\n",
        "        x = self.pool(x)\n",
        "\n",
        "        x = x.view(-1, 3200)\n",
        "        x = self.relu(self.fc1(x))\n",
        "        x = self.dropout(x)\n",
        "        \n",
        "        x = self.relu(self.fc2(x))\n",
        "        x = self.fc3(x)\n",
        "\n",
        "        return x"
      ]
    },
    {
      "cell_type": "code",
      "execution_count": null,
      "metadata": {
        "id": "YJ87b3t732Mw",
        "colab": {
          "base_uri": "https://localhost:8080/"
        },
        "outputId": "33533609-01c0-4570-f52b-8d4546429353"
      },
      "outputs": [
        {
          "output_type": "execute_result",
          "data": {
            "text/plain": [
              "<All keys matched successfully>"
            ]
          },
          "metadata": {},
          "execution_count": 5
        }
      ],
      "source": [
        "device = \"cuda:0\" if torch.cuda.is_available() else \"cpu\"\n",
        "\n",
        "file_id = \"1qrNvr3eLYjvbkVg5jY2sYA2rqK9XkTXs\"\n",
        "download_file_from_google_drive(file_id, \"./cifar_checkpoint.pth\")\n",
        "\n",
        "model = CifarNet().to(device)\n",
        "model.load_state_dict(torch.load(\"./cifar_checkpoint.pth\", map_location=\"cpu\"))"
      ]
    },
    {
      "cell_type": "code",
      "execution_count": null,
      "metadata": {
        "id": "BO03LEdS3TTr",
        "colab": {
          "base_uri": "https://localhost:8080/"
        },
        "outputId": "ddba6202-bbad-4aeb-f3cf-48d0de8dae84"
      },
      "outputs": [
        {
          "output_type": "execute_result",
          "data": {
            "text/plain": [
              "<bound method CifarNet.forward of CifarNet(\n",
              "  (conv1): Conv2d(3, 64, kernel_size=(3, 3), stride=(1, 1))\n",
              "  (conv2): Conv2d(64, 64, kernel_size=(3, 3), stride=(1, 1))\n",
              "  (conv3): Conv2d(64, 128, kernel_size=(3, 3), stride=(1, 1))\n",
              "  (conv4): Conv2d(128, 128, kernel_size=(3, 3), stride=(1, 1))\n",
              "  (pool): MaxPool2d(kernel_size=2, stride=2, padding=0, dilation=1, ceil_mode=False)\n",
              "  (relu): ReLU(inplace=True)\n",
              "  (fc1): Linear(in_features=3200, out_features=256, bias=True)\n",
              "  (dropout): Dropout(p=0.5, inplace=False)\n",
              "  (fc2): Linear(in_features=256, out_features=256, bias=True)\n",
              "  (fc3): Linear(in_features=256, out_features=10, bias=True)\n",
              ")>"
            ]
          },
          "metadata": {},
          "execution_count": 6
        }
      ],
      "source": []
    },
    {
      "cell_type": "markdown",
      "source": [
        "I am sorry, I just start my career in data science track (I am petroleum engineer), and I know nothing about deep learning and CIFA. I idk how solve this problrm T_T"
      ],
      "metadata": {
        "id": "SKmPbEcP6KAt"
      }
    },
    {
      "cell_type": "markdown",
      "metadata": {
        "id": "17Ipdn6u3T_n"
      },
      "source": [
        "# Problem 4 (Image restoration) (23 pts) "
      ]
    },
    {
      "cell_type": "markdown",
      "metadata": {
        "id": "15lKpTklxWzn"
      },
      "source": [
        "Image restoration is the task where we need to eliminate blurring and some random noise to get ideal image. Practically, images obtained in real life could be represented in following way:\n",
        "\n",
        "$$g = f * h + n$$\n",
        "\n",
        "where $g$ - obtained image of size $(N,N)$, $h$ - blur kernel of size $(3,3)$, $n$ - an additive zero-mean Gaussian white noise, and $f$ - ideal image (deblurred and denoised). In our work we will use gaussian blur kernel with window size 3:\n",
        "\n",
        "$$h = \\frac{1}{16}\\begin{pmatrix}1 & 2 & 1\\\\ 2 & 4 & 2\\\\ 1 & 2 & 1\\end{pmatrix}$$\n",
        "\n",
        "Here $f*h$ is a 2-d convolution of ideal image with blur kernel, which could be rewritten in matrix format:\n",
        "\n",
        "$$f * h = H \\mathrm{vec}(f)$$\n",
        "\n",
        "where $H$ - block Toeplitz with Toeplitz blocks matrix which corresponds to 2-d convolution with kernel $h$, $\\mathrm{vec}(\\cdot)$ - operation of vectorization.\n",
        "\n",
        "So, let us write the task of finding $f$ as optimization problem:\n",
        "\n",
        "$$\\min\\limits_{f,u} \\|H\\mathrm{vec}(f) - \\mathrm{vec}(g)\\|_2^2 + \\alpha_1\\|\\mathrm{vec}(f-u)\\|_2^2 + \\alpha_2\\|u\\|_{\\mathrm{TV}}$$\n",
        "where $\\|u\\|_{\\mathrm{TV}} = \\sum\\limits_{1\\leq j,k\\leq N}\\|\\nabla u_{j,k}\\|_2 = \\sum\\limits_{1\\leq j,k\\leq N}\\sqrt{(u_{j+1,k}-u_{j,k})^2 + (u_{j,k+1}-u_{j,k})^2}$ here we calculate gradients (pixel differences) along **x** and **y** image dimensions.\n",
        "\n",
        "One can notice that problem could be splitted on two:\n",
        "\n",
        "$$\\min\\limits_{u}\\min\\limits_f \\{\\|H\\mathrm{vec}(f) - \\mathrm{vec}(g)\\|_2^2 + \\alpha_1\\|\\mathrm{vec}(f-u)\\|_2^2\\} + \\alpha_2\\|u\\|_{\\mathrm{TV}}$$\n",
        "\n",
        "To find the solution we will use iterative method:\n",
        "\n",
        "$$\\begin{cases}\n",
        "f^{(i)} = \\arg\\min\\limits_f \\|H\\mathrm{vec}(f) - \\mathrm{vec}(g)\\|_2^2 + \\alpha_1\\|\\mathrm{vec}(f-u^{(i-1)})\\|_2^2 & (a)\\\\\n",
        "u^{(i)} = \\arg\\min\\limits_u \\alpha_1\\|\\mathrm{vec}(f^{(i)}-u)\\|_2^2 + \\alpha_2\\|u\\|_{\\mathrm{TV}} & (b)\n",
        "\\end{cases}$$\n",
        "\n",
        "Taking matrix derivative over the minimization functional in subproblem **(a)** we get the system:\n",
        "\n",
        "$$(H^TH + \\alpha_1I)\\mathrm{vec}(f) = H^T\\mathrm{vec}(g+\\alpha_1u^{(i-1)})$$\n",
        "\n",
        "This system can be solved by conjugate gradient method. Also, taking into account that $H$ is block Toeplitz with Toeplitz blocks (BTTB), we can make fast matrix by vector multiplication.\n",
        "\n",
        "The subproblem **(b)** could be solved by using any kind of solver of your choice.\n",
        "\n",
        "**So, your task is to:**\n",
        "\n",
        "1. Implement creation and fast matrix by vector multiplication for matrix $H$ **(6 pts)**\n",
        "2. Implement solver for subproblem **(a)** based on conjugate gradient descent using fast matrix by vector multiplication for $H$. **(8 pts)**\n",
        "3. Implement some solver for subproblem **(b)** **(3 pts)**\n",
        "4. Implement iterative solver for the total problem using solvers for subproblems **(a)** and **(b)** **(3 pts)**\n",
        "5. Blur (use defined blurring kernel) given image and add gaussian noise with zero mean and some variance (up to you). Try to restore the image, compare the result with the original one. Make a conclusion. **(3 pts)**\n"
      ]
    },
    {
      "cell_type": "code",
      "source": [
        "import numpy as np\n",
        "def TVnorm(u):\n",
        "  res = 0\n",
        "  N = u.shape[0]\n",
        "\n",
        "  for j in range(N-1):\n",
        "    for k in range(N-1):\n",
        "      res += np.power(np.power(u[j+1][k]-u[j][k],2) + np.power(u[j][k]-u[j][k+1],2),0.5)\n",
        "  return res"
      ],
      "metadata": {
        "id": "q0kf0bSp-yCN"
      },
      "execution_count": null,
      "outputs": []
    },
    {
      "cell_type": "markdown",
      "source": [
        "Для сабпроблемы 2:\n",
        "\n",
        "* Показать, что u положительно определеная\n",
        "* Если это так, сделать CG алгоритм\n",
        "\n",
        "\n",
        "В первой сабпроблеме имплементировать алгоритм КГ из лекцийё"
      ],
      "metadata": {
        "id": "3lO141CCcIti"
      }
    },
    {
      "cell_type": "code",
      "source": [
        "def deriv(H, g, u, a1 = 1):\n",
        "  return H.T @ vec(g+a1*u)"
      ],
      "metadata": {
        "id": "NkD4zPILx4NH"
      },
      "execution_count": 91,
      "outputs": []
    },
    {
      "cell_type": "code",
      "execution_count": 92,
      "metadata": {
        "id": "hY7W038m3YoR"
      },
      "outputs": [],
      "source": [
        "from PIL import Image, ImageOps"
      ]
    },
    {
      "cell_type": "code",
      "execution_count": 93,
      "metadata": {
        "colab": {
          "base_uri": "https://localhost:8080/"
        },
        "id": "78IpLj8FtO7_",
        "outputId": "386ae7f0-df03-424a-d867-18ada52c3078"
      },
      "outputs": [
        {
          "output_type": "stream",
          "name": "stdout",
          "text": [
            "--2022-12-11 19:43:25--  https://github.com/oseledets/nla2022/blob/main/hw2/lena.png?raw=true\n",
            "Resolving github.com (github.com)... 20.205.243.166\n",
            "Connecting to github.com (github.com)|20.205.243.166|:443... connected.\n",
            "HTTP request sent, awaiting response... 302 Found\n",
            "Location: https://github.com/oseledets/nla2022/raw/main/hw2/lena.png [following]\n",
            "--2022-12-11 19:43:26--  https://github.com/oseledets/nla2022/raw/main/hw2/lena.png\n",
            "Reusing existing connection to github.com:443.\n",
            "HTTP request sent, awaiting response... 302 Found\n",
            "Location: https://raw.githubusercontent.com/oseledets/nla2022/main/hw2/lena.png [following]\n",
            "--2022-12-11 19:43:26--  https://raw.githubusercontent.com/oseledets/nla2022/main/hw2/lena.png\n",
            "Resolving raw.githubusercontent.com (raw.githubusercontent.com)... 185.199.111.133, 185.199.108.133, 185.199.110.133, ...\n",
            "Connecting to raw.githubusercontent.com (raw.githubusercontent.com)|185.199.111.133|:443... connected.\n",
            "HTTP request sent, awaiting response... 200 OK\n",
            "Length: 20329 (20K) [image/png]\n",
            "Saving to: ‘/lena.png’\n",
            "\n",
            "/lena.png           100%[===================>]  19.85K  --.-KB/s    in 0s      \n",
            "\n",
            "2022-12-11 19:43:26 (107 MB/s) - ‘/lena.png’ saved [20329/20329]\n",
            "\n"
          ]
        }
      ],
      "source": [
        "!wget --no-check-certificate \\\n",
        "    \"https://github.com/oseledets/nla2022/blob/main/hw2/lena.png?raw=true\" \\\n",
        "    -O \"/lena.png\""
      ]
    },
    {
      "cell_type": "code",
      "execution_count": 94,
      "metadata": {
        "colab": {
          "base_uri": "https://localhost:8080/",
          "height": 217
        },
        "id": "NHg9I_PVrlJy",
        "outputId": "a4b114f7-75dc-441e-c049-679dbfb38b78"
      },
      "outputs": [
        {
          "output_type": "execute_result",
          "data": {
            "text/plain": [
              "<PIL.Image.Image image mode=L size=200x200 at 0x7F1B5E94F5B0>"
            ],
            "image/png": "[encoded data removed]"
          },
          "metadata": {},
          "execution_count": 94
        }
      ],
      "source": [
        "orig_image = ImageOps.grayscale(Image.open(\"/lena.png\"))\n",
        "orig_image"
      ]
    },
    {
      "cell_type": "code",
      "execution_count": 95,
      "metadata": {
        "colab": {
          "base_uri": "https://localhost:8080/",
          "height": 287
        },
        "id": "ETSfdV69FQE5",
        "outputId": "b74f1323-e640-4abd-9097-ff77e2c67868"
      },
      "outputs": [
        {
          "output_type": "execute_result",
          "data": {
            "text/plain": [
              "<matplotlib.image.AxesImage at 0x7f1b5e7f0580>"
            ]
          },
          "metadata": {},
          "execution_count": 95
        },
        {
          "output_type": "display_data",
          "data": {
            "text/plain": [
              "<Figure size 432x288 with 1 Axes>"
            ],
            "image/png": "[encoded data removed]"
          },
          "metadata": {
            "needs_background": "light"
          }
        }
      ],
      "source": [
        "import cv2\n",
        "import matplotlib.pyplot as plt\n",
        "\n",
        "img = cv2.imread('/lena.png')\n",
        "img_gray = cv2.cvtColor(img, cv2.COLOR_BGR2GRAY)\n",
        "plt.imshow(img_gray, cmap = 'gray')"
      ]
    },
    {
      "cell_type": "code",
      "source": [
        "from scipy.sparse import lil_matrix\n",
        "from numpy import zeros\n",
        "import scipy\n",
        "\n",
        "def unroll_kernel(kernel, n, sparse=True):\n",
        "    m = kernel.shape[0]\n",
        "    if sparse:\n",
        "         unrolled_K = lil_matrix(((n - m + 1)**2, n**2))\n",
        "    else:\n",
        "         unrolled_K = zeros(((n - m + 1)**2, n**2))\n",
        "\n",
        "    skipped = 0\n",
        "    for i in range(n ** 2):\n",
        "         if (i % n) < n - m + 1 and((i / n) % n) < n - m + 1:\n",
        "             for j in range(m):\n",
        "                 for l in range(m):\n",
        "                    unrolled_K[i - skipped, i + j * n + l] = kernel[j, l]\n",
        "         else:\n",
        "             skipped += 1\n",
        "    return unrolled_K"
      ],
      "metadata": {
        "id": "WA_hNPbOomL0"
      },
      "execution_count": 97,
      "outputs": []
    },
    {
      "cell_type": "code",
      "source": [
        "h = np.array([[1,2,1],[2,4,2],[1,2,1]])\n",
        "h = 1/16 * h\n",
        "h"
      ],
      "metadata": {
        "colab": {
          "base_uri": "https://localhost:8080/"
        },
        "id": "VOecxJLAsGC0",
        "outputId": "a4ce50b5-eee1-468d-d546-ca1e504b4de7"
      },
      "execution_count": 98,
      "outputs": [
        {
          "output_type": "execute_result",
          "data": {
            "text/plain": [
              "array([[0.0625, 0.125 , 0.0625],\n",
              "       [0.125 , 0.25  , 0.125 ],\n",
              "       [0.0625, 0.125 , 0.0625]])"
            ]
          },
          "metadata": {},
          "execution_count": 98
        }
      ]
    },
    {
      "cell_type": "code",
      "source": [
        "def BTTB(f, h):\n",
        "  m1,n1 = f.shape\n",
        "  m2,n2 = h.shape\n",
        "\n",
        "  m = m1 + m2 - 1\n",
        "  n = n1 + n2 - 1\n",
        "\n",
        "  '''\n",
        "  zero-padded matrix creating with (m,n)-shape\n",
        "  '''\n",
        "  zero_padded = np.zeros((m,n))\n",
        "  zero_padded[:m2,:n2] = h\n",
        "\n",
        "  '''\n",
        "  creating Toeplitz matrices for each rows\n",
        "  let's store only rows in t[i]\n",
        "  '''\n",
        "\n",
        "  rows = []\n",
        "  for i in range(zero_padded.shape[0]):\n",
        "    rows.append(zero_padded[i])\n",
        "\n",
        "\n",
        "  return rows\n"
      ],
      "metadata": {
        "id": "wrIwjupJxeri"
      },
      "execution_count": 99,
      "outputs": []
    },
    {
      "cell_type": "code",
      "source": [
        "M = BTTB(img_gray,h)"
      ],
      "metadata": {
        "id": "zLgL6Lifyfna"
      },
      "execution_count": 100,
      "outputs": []
    },
    {
      "cell_type": "code",
      "source": [
        "M[0].shape"
      ],
      "metadata": {
        "colab": {
          "base_uri": "https://localhost:8080/"
        },
        "id": "tw8D-moAETr4",
        "outputId": "8dbe22e1-a8f2-472f-f5f7-57562fd21ead"
      },
      "execution_count": 101,
      "outputs": [
        {
          "output_type": "execute_result",
          "data": {
            "text/plain": [
              "(202,)"
            ]
          },
          "metadata": {},
          "execution_count": 101
        }
      ]
    },
    {
      "cell_type": "code",
      "source": [
        "T = unroll_kernel(h, 200)"
      ],
      "metadata": {
        "id": "cBKjvEPtpXND"
      },
      "execution_count": 102,
      "outputs": []
    },
    {
      "cell_type": "code",
      "source": [
        "T.diagonal(0)"
      ],
      "metadata": {
        "colab": {
          "base_uri": "https://localhost:8080/"
        },
        "id": "W6OpTEg1qhC_",
        "outputId": "1a2c721a-c46a-4cfc-b318-145e3fbfc63f"
      },
      "execution_count": 103,
      "outputs": [
        {
          "output_type": "execute_result",
          "data": {
            "text/plain": [
              "array([0.0625, 0.0625, 0.0625, ..., 0.    , 0.    , 0.    ])"
            ]
          },
          "metadata": {},
          "execution_count": 103
        }
      ]
    },
    {
      "cell_type": "code",
      "source": [
        "plt.spy(T[:25,:25], marker='.', color='k', markersize=8)"
      ],
      "metadata": {
        "colab": {
          "base_uri": "https://localhost:8080/",
          "height": 287
        },
        "id": "g322QaQwsQMN",
        "outputId": "115830c6-8131-44ab-f76c-a92c0c41f9e4"
      },
      "execution_count": 104,
      "outputs": [
        {
          "output_type": "execute_result",
          "data": {
            "text/plain": [
              "<matplotlib.lines.Line2D at 0x7f1b5e8aa2e0>"
            ]
          },
          "metadata": {},
          "execution_count": 104
        },
        {
          "output_type": "display_data",
          "data": {
            "text/plain": [
              "<Figure size 432x288 with 1 Axes>"
            ],
            "image/png": "[encoded data removed]"
          },
          "metadata": {
            "needs_background": "light"
          }
        }
      ]
    },
    {
      "cell_type": "code",
      "source": [
        "T"
      ],
      "metadata": {
        "colab": {
          "base_uri": "https://localhost:8080/"
        },
        "id": "jE1jJWqu9URi",
        "outputId": "8e3404d9-f4fd-41b3-a1e0-9d8df79a3598"
      },
      "execution_count": 105,
      "outputs": [
        {
          "output_type": "execute_result",
          "data": {
            "text/plain": [
              "<39204x40000 sparse matrix of type '<class 'numpy.float64'>'\n",
              "\twith 352836 stored elements in List of Lists format>"
            ]
          },
          "metadata": {},
          "execution_count": 105
        }
      ]
    },
    {
      "cell_type": "code",
      "source": [
        "def vec(matrix):\n",
        "  res = matrix.flatten()\n",
        "  res = np.reshape(res, (res.shape[0],1))\n",
        "  return res"
      ],
      "metadata": {
        "id": "PUgYGDW0snfC"
      },
      "execution_count": 106,
      "outputs": []
    },
    {
      "cell_type": "code",
      "source": [
        "from scipy.linalg import hessenberg\n",
        "from scipy.linalg import qr\n"
      ],
      "metadata": {
        "id": "N5SNCeqiymcH"
      },
      "execution_count": 115,
      "outputs": []
    },
    {
      "cell_type": "code",
      "source": [
        "m_f,n_f = img_gray.shape\n",
        "m_h,n_h = h.shape\n",
        " \n",
        "zero_padded_matrix = np.zeros(((m_f + m_h - 1), (n_f + n_h - 1)))\n",
        "\n",
        "\n",
        "for i in range(m_h):\n",
        "    for j in range(n_h):\n",
        "        zero_padded_matrix[i,j] = h[i,j]\n",
        "\n",
        "rows_arr = []\n",
        "for i in range(m_f + m_h - 1):\n",
        "    rows_arr.append(zero_padded_matrix[i,:])\n",
        "\n",
        "H = []\n",
        "for i in range(m_f + m_h - 1):\n",
        "    H_element = np.zeros(((n_f + n_h - 1),n_f))\n",
        "    for j in range(n_f):\n",
        "        H_element[:,j] = rows_arr[i].T\n",
        "        for k in range(n_f-1):\n",
        "            H_element[:,k+1] = np.roll(H_element[:,k],1,axis = 0)\n",
        "    H.append(H_element)\n",
        "\n",
        "hessenberg = H.copy()\n",
        "\n",
        "img_gray_bigger = np.zeros((202,200))\n",
        "for i in range(img_gray.shape[0]):\n",
        "    for j in range(img_gray.shape[1]):\n",
        "        img_gray_bigger[i,j] = img_gray[i,j]"
      ],
      "metadata": {
        "id": "9N1wT7ZruitH"
      },
      "execution_count": 117,
      "outputs": []
    },
    {
      "cell_type": "code",
      "source": [
        "col1, col2, col3 = [], [], []\n",
        "row1, row2, row3 = [], [], []\n",
        "\n",
        "for i in range(len(hessenberg)-2):\n",
        "    col1.append(np.fft.ifft(np.fft.fft(hessenberg[i][:,0]) * np.fft.fft(img_gray_bigger[:,i])))\n",
        "    col2.append(np.fft.ifft(np.fft.fft(hessenberg[i][:,1]) * np.fft.fft(img_gray_bigger[:,i])))\n",
        "    col3.append(np.fft.ifft(np.fft.fft(hessenberg[i][:,2]) * np.fft.fft(img_gray_bigger[:,i])))\n",
        "\n",
        "    row1.append(np.fft.ifft(np.fft.fft(hessenberg[-len(hessenberg)+i][0,:]) * np.fft.fft(img_gray_bigger[i,0:200])))\n",
        "    row2.append(np.fft.ifft(np.fft.fft(hessenberg[-len(hessenberg)+i][1,:]) * np.fft.fft(img_gray_bigger[i,0:200])))\n",
        "    row3.append(np.fft.ifft(np.fft.fft(hessenberg[-len(hessenberg)+i][2,:]) * np.fft.fft(img_gray_bigger[i,0:200])))\n",
        "\n",
        "    hessenberg[i+1][:,0] = np.roll(hessenberg[i][:,0],0,axis = 0)\n",
        "    hessenberg[i+1][:,1] = np.roll(hessenberg[i][:,1],0,axis = 0)\n",
        "    hessenberg[i+1][:,2] = np.roll(hessenberg[i][:,2],0,axis = 0)\n",
        "    hessenberg[i+1][0,:] = np.roll(hessenberg[-len(hessenberg)+i][0,:],0,axis = 0)\n",
        "    hessenberg[i+1][1,:] = np.roll(hessenberg[-len(hessenberg)+i][1,:],0,axis = 0)\n",
        "    hessenberg[i+1][2,:] = np.roll(hessenberg[-len(hessenberg)+i][2,:],0,axis = 0)\n",
        "\n",
        "\n",
        "col1 = np.array(col1)\n",
        "col2 = np.array(col2)\n",
        "col3 = np.array(col3)\n",
        "\n",
        "row1 = np.array(row1)\n",
        "row2 = np.array(row2)\n",
        "row3 = np.array(row3)\n",
        "\n",
        "blur_img = col1[0:200:,1:201].real.T + col2[0:200:,1:201].real.T + col3[0:200:,1:201].real.T + row1[0:200:,0:200].real + row2[0:200:,0:200].real + row3[0:200:,0:200].real\n",
        "\n",
        "plt.imshow(blur_img, cmap='gray')"
      ],
      "metadata": {
        "colab": {
          "base_uri": "https://localhost:8080/",
          "height": 287
        },
        "id": "-j20ghfVuqLf",
        "outputId": "9da837da-1610-44ff-f084-574fcab3d030"
      },
      "execution_count": 118,
      "outputs": [
        {
          "output_type": "execute_result",
          "data": {
            "text/plain": [
              "<matplotlib.image.AxesImage at 0x7f1b5ec589a0>"
            ]
          },
          "metadata": {},
          "execution_count": 118
        },
        {
          "output_type": "display_data",
          "data": {
            "text/plain": [
              "<Figure size 432x288 with 1 Axes>"
            ],
            "image/png": "[encoded data removed]"
          },
          "metadata": {
            "needs_background": "light"
          }
        }
      ]
    },
    {
      "cell_type": "markdown",
      "source": [
        "![cat memes.jpeg](data:image/jpeg;base64,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)"
      ],
      "metadata": {
        "id": "Z97Zq6T8Twip"
      }
    }
  ],
  "metadata": {
    "colab": {
      "provenance": [],
      "toc_visible": true
    },
    "kernelspec": {
      "display_name": "Python 3 (ipykernel)",
      "language": "python",
      "name": "python3"
    },
    "language_info": {
      "codemirror_mode": {
        "name": "ipython",
        "version": 3
      },
      "file_extension": ".py",
      "mimetype": "text/x-python",
      "name": "python",
      "nbconvert_exporter": "python",
      "pygments_lexer": "ipython3",
      "version": "3.9.13"
    },
    "accelerator": "GPU",
    "gpuClass": "standard"
  },
  "nbformat": 4,
  "nbformat_minor": 0
}