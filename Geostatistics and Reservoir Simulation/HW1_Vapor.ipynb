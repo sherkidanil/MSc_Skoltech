{
  "nbformat": 4,
  "nbformat_minor": 0,
  "metadata": {
    "colab": {
      "provenance": [],
      "toc_visible": true
    },
    "kernelspec": {
      "name": "python3",
      "display_name": "Python 3"
    },
    "language_info": {
      "name": "python"
    }
  },
  "cells": [
    {
      "cell_type": "markdown",
      "source": [
        "# Homework 1\n",
        "\n",
        "Daniil Sherki"
      ],
      "metadata": {
        "id": "q-BFFLIDqUYA"
      }
    },
    {
      "cell_type": "markdown",
      "source": [
        "# Problem statement"
      ],
      "metadata": {
        "id": "XGFQcSO5qaWT"
      }
    },
    {
      "cell_type": "markdown",
      "source": [
        "A pure n-pentane is held in a laboratory cell at 110°F. By means of the method proposed by Lee and Kesler (1975), determine pressure ranges where n-pentane is in a liquid phase and where - in vapor. Additionally, determine the “existence state” of propane, n-decane, and carbon dioxide at the vapor pressure of n-pentane at the same laboratory cell (T=110°F)."
      ],
      "metadata": {
        "id": "jVeEQmzXqPiH"
      }
    },
    {
      "cell_type": "markdown",
      "source": [
        "# Solution"
      ],
      "metadata": {
        "id": "q2TG9qh-qdWz"
      }
    },
    {
      "cell_type": "markdown",
      "source": [
        "## Theory"
      ],
      "metadata": {
        "id": "T_1pMgt_qew4"
      }
    },
    {
      "cell_type": "markdown",
      "source": [
        "### 1. Lee and Kesler (1975) vapor pressure equation\n",
        "\n",
        "$$ p_v = p_c \\cdot \\exp(A+\\omega B) $$\n",
        "\n",
        "With the coefficients $A$ and $B$ as defined below:\n",
        "\n",
        "$$ A = 5.92714 - \\frac{6.09648}{T_r}  - 1.2488 \\log{T_r} + 0.16934 (T_r)^{6} $$\n",
        "\n",
        "$$ B = 15.2518 - \\frac{15.6875}{T_r}  - 13.4721 \\log{T_r} + 0.4357 (T_r)^{6} $$\n",
        "\n",
        "Where:\n",
        "\n",
        "*   $T_r$ - reduced temperature; \n",
        "*   $T$ - substance temperature, $^{\\mathrm{o}}\\mathrm{R}$;\n",
        "*   $T_c$ - critical temperature of the substance, $^{\\mathrm{o}}\\mathrm{R}$;\n",
        "*   $p_c$ - critical pressure of the substance, psia;\n",
        "*   $\\omega$ - accentric factor of the substance.\n",
        "\n",
        "\n",
        "And we can represent this expressions for simplicity like:\n",
        "\n",
        "$$ a = \\{ 5.92714, -6.09648, -1.2488, 0.16934 \\} $$\n",
        "\n",
        "$$ b = \\{ 15.2518, -15.6875, -13.4721, 0.4357 \\} $$\n",
        "\n",
        "$$ t_r = \\{ 1, \\frac{1}{T_r}, \\log{T_r}, T_r^{6} \\}$$\n",
        "\n",
        "$$ A = \\langle a, t_r\\rangle $$\n",
        "\n",
        "$$ B = \\langle b, t_r\\rangle $$"
      ],
      "metadata": {
        "id": "OVdrwhUfqhvt"
      }
    },
    {
      "cell_type": "markdown",
      "source": [
        "---\n",
        "## Practice\n",
        "\n",
        "### Some utils stuff"
      ],
      "metadata": {
        "id": "1N7DiNsPwXno"
      }
    },
    {
      "cell_type": "code",
      "source": [
        "# import libraries\n",
        "\n",
        "import numpy as np\n",
        "import matplotlib.pyplot as plt\n",
        "import plotly.express as px\n",
        "import pandas as pd"
      ],
      "metadata": {
        "id": "dQbcJ3WrmTHU"
      },
      "execution_count": 2,
      "outputs": []
    },
    {
      "cell_type": "code",
      "execution_count": 3,
      "metadata": {
        "id": "bN6OBs49fbVR"
      },
      "outputs": [],
      "source": [
        "# conversion functions to convert one measurement systems into other \n",
        "\n",
        "class Conversion():\n",
        "    def __init__(self):\n",
        "        pass\n",
        "    \n",
        "    def R2F(self, x):\n",
        "        '''\n",
        "        :param x: float; // R degress\n",
        "        return: float. // F degrees\n",
        "        '''\n",
        "        return x - 459.67\n",
        "\n",
        "    def F2R(self, x):\n",
        "        '''\n",
        "        :param x: float; // F degress\n",
        "        return: float. // R degrees\n",
        "        '''\n",
        "        return x + 459.67\n",
        "    \n",
        "    def psia2bar(self, x):\n",
        "        '''\n",
        "        1 psi = 0.0689475729 bar\n",
        "        :param x: float; // psia\n",
        "        return: float. // bar\n",
        "        '''\n",
        "        return 0.0689475729 * x\n",
        "\n",
        "    def bar2psia(self, x):\n",
        "        '''\n",
        "        1 bar = 14.503773773 psi\n",
        "        :param x: float; // bar\n",
        "        return: float. // psia\n",
        "        '''\n",
        "        return 14.503773773 * x"
      ]
    },
    {
      "cell_type": "code",
      "source": [
        "c = Conversion()"
      ],
      "metadata": {
        "id": "bFLwxCRgw3zB"
      },
      "execution_count": 4,
      "outputs": []
    },
    {
      "cell_type": "markdown",
      "source": [
        "### Vapor pressure equation (Lee and Kesler model implementation)"
      ],
      "metadata": {
        "id": "mutU-M6ywnhC"
      }
    },
    {
      "cell_type": "code",
      "source": [
        "def vapor_pressure_equation(p_c, T_c, w, T = c.F2R(110)):\n",
        "    '''\n",
        "    :param p_c: numpy.ndarray; // critical pressure, psia\n",
        "    :param T_c: float; // critical temperature, R degrees\n",
        "    :param w: float; // accentric factor\n",
        "    :param T: float; // temperature, R degrees\n",
        "    :return: numpy.ndarray. // vapor pressure, psia\n",
        "    '''\n",
        "    T_r = T / T_c\n",
        "\n",
        "    T_r_vec = np.array([1, 1/T_r, np.log(T_r), np.power(T_r, 6)])\n",
        "    a = np.array([5.92714, -6.09648, -1.2488, 0.16934])\n",
        "    b = np.array([15.2518, -15.6875, -13.4721, 0.4357])\n",
        "\n",
        "    A = a.T @ T_r_vec\n",
        "    B = b.T @ T_r_vec\n",
        "\n",
        "    return p_c * np.exp(A + w * B)"
      ],
      "metadata": {
        "id": "-XatvUbPh1pc"
      },
      "execution_count": 5,
      "outputs": []
    },
    {
      "cell_type": "code",
      "source": [
        "df = pd.DataFrame({'p_c_psia': [488.6, 616.0, 305.2, 1071.0],\n",
        "                   'T_c_F': [385.8, 206.06, 652.0, 87.91],\n",
        "                   'w': [0.2514, 0.1522, 0.4898, 0.2667]},\n",
        "                  index=['n-pentane', 'propane', ' n-decane', 'co2'])\n",
        "\n",
        "## Fundamentals of Hydrocarbon Phase Behavior p.5-9\n",
        "\n",
        "df['T_c_R'] = c.F2R(df['T_c_F'])\n",
        "df['p_v_psia'] = vapor_pressure_equation(p_c = df['p_c_psia'], T_c = df['T_c_R'], w = df['w'])\n",
        "df"
      ],
      "metadata": {
        "id": "XrSe5xo0qAmx",
        "colab": {
          "base_uri": "https://localhost:8080/",
          "height": 224
        },
        "outputId": "10c9dc38-c6c9-4d3a-936b-d9d079459b4d"
      },
      "execution_count": 6,
      "outputs": [
        {
          "output_type": "stream",
          "name": "stderr",
          "text": [
            "<ipython-input-5-79ae267f32de>:11: VisibleDeprecationWarning: Creating an ndarray from ragged nested sequences (which is a list-or-tuple of lists-or-tuples-or ndarrays with different lengths or shapes) is deprecated. If you meant to do this, you must specify 'dtype=object' when creating the ndarray.\n",
            "  T_r_vec = np.array([1, 1/T_r, np.log(T_r), np.power(T_r, 6)])\n"
          ]
        },
        {
          "output_type": "execute_result",
          "data": {
            "text/plain": [
              "           p_c_psia   T_c_F       w    T_c_R     p_v_psia\n",
              "n-pentane     488.6  385.80  0.2514   845.47    18.323397\n",
              "propane       616.0  206.06  0.1522   665.73   213.491813\n",
              " n-decane     305.2  652.00  0.4898  1111.67     0.080521\n",
              "co2          1071.0   87.91  0.2667   547.58  1422.215306"
            ],
            "text/html": [
              "\n",
              "  <div id=\"df-ac3af5d1-d66c-4815-a37d-18dc3a4f4d74\">\n",
              "    <div class=\"colab-df-container\">\n",
              "      <div>\n",
              "<style scoped>\n",
              "    .dataframe tbody tr th:only-of-type {\n",
              "        vertical-align: middle;\n",
              "    }\n",
              "\n",
              "    .dataframe tbody tr th {\n",
              "        vertical-align: top;\n",
              "    }\n",
              "\n",
              "    .dataframe thead th {\n",
              "        text-align: right;\n",
              "    }\n",
              "</style>\n",
              "<table border=\"1\" class=\"dataframe\">\n",
              "  <thead>\n",
              "    <tr style=\"text-align: right;\">\n",
              "      <th></th>\n",
              "      <th>p_c_psia</th>\n",
              "      <th>T_c_F</th>\n",
              "      <th>w</th>\n",
              "      <th>T_c_R</th>\n",
              "      <th>p_v_psia</th>\n",
              "    </tr>\n",
              "  </thead>\n",
              "  <tbody>\n",
              "    <tr>\n",
              "      <th>n-pentane</th>\n",
              "      <td>488.6</td>\n",
              "      <td>385.80</td>\n",
              "      <td>0.2514</td>\n",
              "      <td>845.47</td>\n",
              "      <td>18.323397</td>\n",
              "    </tr>\n",
              "    <tr>\n",
              "      <th>propane</th>\n",
              "      <td>616.0</td>\n",
              "      <td>206.06</td>\n",
              "      <td>0.1522</td>\n",
              "      <td>665.73</td>\n",
              "      <td>213.491813</td>\n",
              "    </tr>\n",
              "    <tr>\n",
              "      <th>n-decane</th>\n",
              "      <td>305.2</td>\n",
              "      <td>652.00</td>\n",
              "      <td>0.4898</td>\n",
              "      <td>1111.67</td>\n",
              "      <td>0.080521</td>\n",
              "    </tr>\n",
              "    <tr>\n",
              "      <th>co2</th>\n",
              "      <td>1071.0</td>\n",
              "      <td>87.91</td>\n",
              "      <td>0.2667</td>\n",
              "      <td>547.58</td>\n",
              "      <td>1422.215306</td>\n",
              "    </tr>\n",
              "  </tbody>\n",
              "</table>\n",
              "</div>\n",
              "      <button class=\"colab-df-convert\" onclick=\"convertToInteractive('df-ac3af5d1-d66c-4815-a37d-18dc3a4f4d74')\"\n",
              "              title=\"Convert this dataframe to an interactive table.\"\n",
              "              style=\"display:none;\">\n",
              "        \n",
              "  <svg xmlns=\"http://www.w3.org/2000/svg\" height=\"24px\"viewBox=\"0 0 24 24\"\n",
              "       width=\"24px\">\n",
              "    <path d=\"M0 0h24v24H0V0z\" fill=\"none\"/>\n",
              "    <path d=\"M18.56 5.44l.94 2.06.94-2.06 2.06-.94-2.06-.94-.94-2.06-.94 2.06-2.06.94zm-11 1L8.5 8.5l.94-2.06 2.06-.94-2.06-.94L8.5 2.5l-.94 2.06-2.06.94zm10 10l.94 2.06.94-2.06 2.06-.94-2.06-.94-.94-2.06-.94 2.06-2.06.94z\"/><path d=\"M17.41 7.96l-1.37-1.37c-.4-.4-.92-.59-1.43-.59-.52 0-1.04.2-1.43.59L10.3 9.45l-7.72 7.72c-.78.78-.78 2.05 0 2.83L4 21.41c.39.39.9.59 1.41.59.51 0 1.02-.2 1.41-.59l7.78-7.78 2.81-2.81c.8-.78.8-2.07 0-2.86zM5.41 20L4 18.59l7.72-7.72 1.47 1.35L5.41 20z\"/>\n",
              "  </svg>\n",
              "      </button>\n",
              "      \n",
              "  <style>\n",
              "    .colab-df-container {\n",
              "      display:flex;\n",
              "      flex-wrap:wrap;\n",
              "      gap: 12px;\n",
              "    }\n",
              "\n",
              "    .colab-df-convert {\n",
              "      background-color: #E8F0FE;\n",
              "      border: none;\n",
              "      border-radius: 50%;\n",
              "      cursor: pointer;\n",
              "      display: none;\n",
              "      fill: #1967D2;\n",
              "      height: 32px;\n",
              "      padding: 0 0 0 0;\n",
              "      width: 32px;\n",
              "    }\n",
              "\n",
              "    .colab-df-convert:hover {\n",
              "      background-color: #E2EBFA;\n",
              "      box-shadow: 0px 1px 2px rgba(60, 64, 67, 0.3), 0px 1px 3px 1px rgba(60, 64, 67, 0.15);\n",
              "      fill: #174EA6;\n",
              "    }\n",
              "\n",
              "    [theme=dark] .colab-df-convert {\n",
              "      background-color: #3B4455;\n",
              "      fill: #D2E3FC;\n",
              "    }\n",
              "\n",
              "    [theme=dark] .colab-df-convert:hover {\n",
              "      background-color: #434B5C;\n",
              "      box-shadow: 0px 1px 3px 1px rgba(0, 0, 0, 0.15);\n",
              "      filter: drop-shadow(0px 1px 2px rgba(0, 0, 0, 0.3));\n",
              "      fill: #FFFFFF;\n",
              "    }\n",
              "  </style>\n",
              "\n",
              "      <script>\n",
              "        const buttonEl =\n",
              "          document.querySelector('#df-ac3af5d1-d66c-4815-a37d-18dc3a4f4d74 button.colab-df-convert');\n",
              "        buttonEl.style.display =\n",
              "          google.colab.kernel.accessAllowed ? 'block' : 'none';\n",
              "\n",
              "        async function convertToInteractive(key) {\n",
              "          const element = document.querySelector('#df-ac3af5d1-d66c-4815-a37d-18dc3a4f4d74');\n",
              "          const dataTable =\n",
              "            await google.colab.kernel.invokeFunction('convertToInteractive',\n",
              "                                                     [key], {});\n",
              "          if (!dataTable) return;\n",
              "\n",
              "          const docLinkHtml = 'Like what you see? Visit the ' +\n",
              "            '<a target=\"_blank\" href=https://colab.research.google.com/notebooks/data_table.ipynb>data table notebook</a>'\n",
              "            + ' to learn more about interactive tables.';\n",
              "          element.innerHTML = '';\n",
              "          dataTable['output_type'] = 'display_data';\n",
              "          await google.colab.output.renderOutput(dataTable, element);\n",
              "          const docLink = document.createElement('div');\n",
              "          docLink.innerHTML = docLinkHtml;\n",
              "          element.appendChild(docLink);\n",
              "        }\n",
              "      </script>\n",
              "    </div>\n",
              "  </div>\n",
              "  "
            ]
          },
          "metadata": {},
          "execution_count": 6
        }
      ]
    },
    {
      "cell_type": "markdown",
      "source": [
        "According to this calculations, we can consider that vapor pressure of n-pentane 18.32 psia. \n",
        "\n",
        "It's means that vapor phase exist in range of vapor $(0, 18.31) \\text{ }\\mathrm{psia}$ and non-vapor phase (included liquid) in range $> 18.31\\text{ }\\mathrm{psia}$.\n",
        "\n",
        "For other substances vapor pressure:\n",
        "\n",
        "*   propane  $213.49\\text{ }\\mathrm{psia}$;\n",
        "*   n-decane $0.08\\text{ }\\mathrm{psia}$;\n",
        "*   carbon dioxide $1422.22\\text{ }\\mathrm{psia}$.\n",
        "\n"
      ],
      "metadata": {
        "id": "BeMQfAF2gzrz"
      }
    },
    {
      "cell_type": "markdown",
      "source": [
        "## Results"
      ],
      "metadata": {
        "id": "2BkTPnjLf-Cm"
      }
    },
    {
      "cell_type": "code",
      "source": [
        "big_img = np.zeros((64, 512))\n",
        "big_img[:, int(df['p_v_psia'][0]):] = 1\n",
        "for i in range(1, 4):\n",
        "    buf_img = np.zeros((64, 512))\n",
        "    buf_img[:, int(df['p_v_psia'][i]):] = 1\n",
        "    big_img = np.vstack((big_img, buf_img))\n",
        "fig = plt.imshow(big_img, cmap = 'Set3')\n",
        "fig.axes.get_yaxis().set_visible(False)\n",
        "plt.text(-5, 230, r'$CO_2$', ha='left', rotation=90, wrap=True)\n",
        "plt.text(-5, 184, r'$nC_{10}H_{22}$', ha='left', rotation=90, wrap=True)\n",
        "plt.text(-5, 116, r'$nC_{3}H_{8}$', ha='left', rotation=90, wrap=True)\n",
        "plt.text(-5, 56, r'$nC_{5}H_{12}$', ha='left', rotation=90, wrap=True)\n",
        "plt.hlines(63, 0, 512, color='black')\n",
        "plt.hlines(127, 0, 512, color='black')\n",
        "plt.hlines(191, 0, 512, color='black')\n",
        "plt.xlim(0,512)\n",
        "plt.vlines(df['p_v_psia'][0], 1, 254,\n",
        "           color = 'r', linestyle = 'dashed',\n",
        "           label = fr\"$nC5$ $p_v$={round(df['p_v_psia'][0],1)} psia\")\n",
        "plt.vlines(df['p_v_psia'][1], 63, 127,\n",
        "           color = 'b', linestyle = 'dashed',\n",
        "           label = fr\"$nC3$ $p_v$={round(df['p_v_psia'][1],1)} psia\")\n",
        "plt.vlines(df['p_v_psia'][2], 127, 195,\n",
        "           color = 'g', linestyle = 'dashed',\n",
        "           label = fr\"$nC10$ $p_v$={round(df['p_v_psia'][2],1)} psia\")\n",
        "plt.xlabel('pressure, psia')\n",
        "plt.text(15,32, 'gas', ha='center', color = 'black',  rotation=90, wrap=True)\n",
        "plt.text(200,32, 'non-gas', ha='center', color = 'black')\n",
        "plt.text(300,96, 'non-gas', ha='center',color = 'black')\n",
        "plt.text(100,96, 'gas', ha='center',color = 'black')\n",
        "plt.text(200,160, 'non-gas', ha='center',color = 'black')\n",
        "plt.text(200,224, 'gas', ha='center',color = 'black')\n",
        "plt.legend()\n",
        "plt.title('Existence state for different substances in big range of pressure')\n",
        "plt.show()\n",
        "\n",
        "big_img = np.zeros((6, 18))\n",
        "big_img[:, int(df['p_v_psia'][0]):] = 1\n",
        "for i in range(1, 4):\n",
        "    buf_img = np.zeros((6, 18))\n",
        "    buf_img[:, int(df['p_v_psia'][i]):] = 1\n",
        "    big_img = np.vstack((big_img, buf_img))\n",
        "fig = plt.imshow(big_img, cmap = 'Set3')\n",
        "fig.axes.get_yaxis().set_visible(False)\n",
        "plt.text(-0.5, 22, r'$CO_2$', ha='left', rotation=90, wrap=True)\n",
        "plt.text(-0.5, 16, r'$nC_{10}H_{22}$', ha='left', rotation=90, wrap=True)\n",
        "plt.text(-0.5, 10, r'$nC_{3}H_{8}$', ha='left', rotation=90, wrap=True)\n",
        "plt.text(-0.5, 3, r'$nC_{5}H_{12}$', ha='left', rotation=90, wrap=True)\n",
        "plt.hlines(5.5, 0, 23, color='black')\n",
        "plt.hlines(11.5, 0, 23, color='black')\n",
        "plt.hlines(17.5, 0, 23, color='black')\n",
        "plt.xlim(0,17)\n",
        "# plt.ylim(0,23)\n",
        "plt.vlines(df['p_v_psia'][2], 12, 17,\n",
        "           color = 'g', linestyles = 'dashed',\n",
        "           label = fr\"$nC10$ $p_v$={round(df['p_v_psia'][2],1)} psia\")\n",
        "plt.legend()\n",
        "plt.xlabel('pressure, psia')\n",
        "plt.text(8.5,3, 'gas', ha='center', color = 'black')\n",
        "plt.text(8.5,9, 'gas', ha='center',color = 'black')\n",
        "plt.text(8.5,15, 'liquid', ha='center',color = 'black')\n",
        "plt.text(8.5,21, 'gas', ha='center',color = 'black')\n",
        "plt.title('Existence state in pressure range where n-pentane is a vapor')\n",
        "plt.show()"
      ],
      "metadata": {
        "colab": {
          "base_uri": "https://localhost:8080/",
          "height": 826
        },
        "id": "NXwVKm7KjdQN",
        "outputId": "5da225b6-2f53-41fc-b9d9-17b5b2c8e209"
      },
      "execution_count": 17,
      "outputs": [
        {
          "output_type": "display_data",
          "data": {
            "text/plain": [
              "<Figure size 640x480 with 1 Axes>"
            ],
            "image/png": "[encoded data removed]"
          },
          "metadata": {}
        },
        {
          "output_type": "display_data",
          "data": {
            "text/plain": [
              "<Figure size 640x480 with 1 Axes>"
            ],
            "image/png": "[encoded data removed]"
          },
          "metadata": {}
        }
      ]
    },
    {
      "cell_type": "markdown",
      "source": [
        "Thus, according to this figures at the vapor pressure of n-pentate different substances is exist in different phase state:\n",
        "\n",
        "*  Propane is gas;\n",
        "*  n-decane is a liquid;\n",
        "*  Cardon dioxide is a gas;\n",
        "\n",
        "at the same laboratory cell (T=110°F).\n",
        "\n"
      ],
      "metadata": {
        "id": "H_5OkqrNgtKw"
      }
    }
  ]
}